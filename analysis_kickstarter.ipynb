{
 "cells": [
  {
   "cell_type": "code",
   "execution_count": 481,
   "metadata": {},
   "outputs": [],
   "source": [
    "# all of the imports\n",
    "import pandas as pd\n",
    "import numpy as np\n",
    "import pickle \n",
    "import patsy\n",
    "import statsmodels.api as sm\n",
    "import statsmodels.formula.api as smf\n",
    "import matplotlib.pyplot as plt\n",
    "import seaborn as sns\n",
    "from sklearn.linear_model import LinearRegression, LassoCV, Lasso, Ridge\n",
    "from sklearn import metrics\n",
    "from sklearn.preprocessing import PolynomialFeatures\n",
    "from sklearn.pipeline import make_pipeline\n",
    "from sklearn.cross_validation import train_test_split\n",
    "from sklearn.cross_validation import KFold\n",
    "from sklearn.metrics import mean_squared_error\n",
    "\n",
    "% matplotlib inline\n",
    "\n",
    "import warnings\n",
    "warnings.filterwarnings('ignore')"
   ]
  },
  {
   "cell_type": "code",
   "execution_count": 3,
   "metadata": {},
   "outputs": [
    {
     "data": {
      "text/html": [
       "<div>\n",
       "<style scoped>\n",
       "    .dataframe tbody tr th:only-of-type {\n",
       "        vertical-align: middle;\n",
       "    }\n",
       "\n",
       "    .dataframe tbody tr th {\n",
       "        vertical-align: top;\n",
       "    }\n",
       "\n",
       "    .dataframe thead th {\n",
       "        text-align: right;\n",
       "    }\n",
       "</style>\n",
       "<table border=\"1\" class=\"dataframe\">\n",
       "  <thead>\n",
       "    <tr style=\"text-align: right;\">\n",
       "      <th></th>\n",
       "      <th>backers_count</th>\n",
       "      <th>country</th>\n",
       "      <th>id</th>\n",
       "      <th>name</th>\n",
       "      <th>spotlight</th>\n",
       "      <th>staff_pick</th>\n",
       "      <th>state</th>\n",
       "      <th>static_usd_rate</th>\n",
       "      <th>usd_pledged</th>\n",
       "      <th>gdp_ppp_pc</th>\n",
       "      <th>blurb_word_count</th>\n",
       "      <th>blurb_letter_count_average</th>\n",
       "      <th>hype_duration_days</th>\n",
       "      <th>campaign_duration_days</th>\n",
       "      <th>usd_goal</th>\n",
       "      <th>slug_word_count</th>\n",
       "      <th>slug_letter_count_average</th>\n",
       "      <th>category_name</th>\n",
       "    </tr>\n",
       "  </thead>\n",
       "  <tbody>\n",
       "    <tr>\n",
       "      <th>0</th>\n",
       "      <td>80</td>\n",
       "      <td>US</td>\n",
       "      <td>62545913</td>\n",
       "      <td>\"How We've Changed Jesus\" - Neal Samudre's Deb...</td>\n",
       "      <td>True</td>\n",
       "      <td>False</td>\n",
       "      <td>successful</td>\n",
       "      <td>1.000000</td>\n",
       "      <td>3651.000000</td>\n",
       "      <td>59500</td>\n",
       "      <td>21</td>\n",
       "      <td>5.619048</td>\n",
       "      <td>2.80</td>\n",
       "      <td>7.88</td>\n",
       "      <td>3500.000000</td>\n",
       "      <td>8</td>\n",
       "      <td>5.875000</td>\n",
       "      <td>nonfiction</td>\n",
       "    </tr>\n",
       "    <tr>\n",
       "      <th>1</th>\n",
       "      <td>31</td>\n",
       "      <td>GB</td>\n",
       "      <td>2031730466</td>\n",
       "      <td>Your Client Vision (Book) - How to sell withou...</td>\n",
       "      <td>True</td>\n",
       "      <td>False</td>\n",
       "      <td>successful</td>\n",
       "      <td>1.247352</td>\n",
       "      <td>338.032525</td>\n",
       "      <td>43600</td>\n",
       "      <td>24</td>\n",
       "      <td>5.125000</td>\n",
       "      <td>0.88</td>\n",
       "      <td>29.15</td>\n",
       "      <td>218.286686</td>\n",
       "      <td>9</td>\n",
       "      <td>5.555556</td>\n",
       "      <td>nonfiction</td>\n",
       "    </tr>\n",
       "    <tr>\n",
       "      <th>2</th>\n",
       "      <td>357</td>\n",
       "      <td>US</td>\n",
       "      <td>55673621</td>\n",
       "      <td>500 Old Christian Books, REPUBLISHED!</td>\n",
       "      <td>True</td>\n",
       "      <td>False</td>\n",
       "      <td>successful</td>\n",
       "      <td>1.000000</td>\n",
       "      <td>22152.000000</td>\n",
       "      <td>59500</td>\n",
       "      <td>23</td>\n",
       "      <td>5.565217</td>\n",
       "      <td>21.79</td>\n",
       "      <td>29.01</td>\n",
       "      <td>10000.000000</td>\n",
       "      <td>5</td>\n",
       "      <td>7.000000</td>\n",
       "      <td>nonfiction</td>\n",
       "    </tr>\n",
       "    <tr>\n",
       "      <th>3</th>\n",
       "      <td>74</td>\n",
       "      <td>CA</td>\n",
       "      <td>614137516</td>\n",
       "      <td>The Longest Lie I Ever Told</td>\n",
       "      <td>True</td>\n",
       "      <td>False</td>\n",
       "      <td>successful</td>\n",
       "      <td>0.752649</td>\n",
       "      <td>2709.535536</td>\n",
       "      <td>48100</td>\n",
       "      <td>28</td>\n",
       "      <td>4.464286</td>\n",
       "      <td>3.48</td>\n",
       "      <td>30.04</td>\n",
       "      <td>2257.946280</td>\n",
       "      <td>6</td>\n",
       "      <td>4.500000</td>\n",
       "      <td>nonfiction</td>\n",
       "    </tr>\n",
       "    <tr>\n",
       "      <th>4</th>\n",
       "      <td>12</td>\n",
       "      <td>DE</td>\n",
       "      <td>1164271753</td>\n",
       "      <td>Spurenlesen – Zur Philosophie der Human-Animal...</td>\n",
       "      <td>True</td>\n",
       "      <td>False</td>\n",
       "      <td>successful</td>\n",
       "      <td>1.111358</td>\n",
       "      <td>1200.266726</td>\n",
       "      <td>50200</td>\n",
       "      <td>15</td>\n",
       "      <td>8.066667</td>\n",
       "      <td>6.92</td>\n",
       "      <td>30.00</td>\n",
       "      <td>1111.358080</td>\n",
       "      <td>7</td>\n",
       "      <td>7.142857</td>\n",
       "      <td>nonfiction</td>\n",
       "    </tr>\n",
       "  </tbody>\n",
       "</table>\n",
       "</div>"
      ],
      "text/plain": [
       "   backers_count country          id  \\\n",
       "0             80      US    62545913   \n",
       "1             31      GB  2031730466   \n",
       "2            357      US    55673621   \n",
       "3             74      CA   614137516   \n",
       "4             12      DE  1164271753   \n",
       "\n",
       "                                                name  spotlight  staff_pick  \\\n",
       "0  \"How We've Changed Jesus\" - Neal Samudre's Deb...       True       False   \n",
       "1  Your Client Vision (Book) - How to sell withou...       True       False   \n",
       "2              500 Old Christian Books, REPUBLISHED!       True       False   \n",
       "3                        The Longest Lie I Ever Told       True       False   \n",
       "4  Spurenlesen – Zur Philosophie der Human-Animal...       True       False   \n",
       "\n",
       "        state  static_usd_rate   usd_pledged  gdp_ppp_pc  blurb_word_count  \\\n",
       "0  successful         1.000000   3651.000000       59500                21   \n",
       "1  successful         1.247352    338.032525       43600                24   \n",
       "2  successful         1.000000  22152.000000       59500                23   \n",
       "3  successful         0.752649   2709.535536       48100                28   \n",
       "4  successful         1.111358   1200.266726       50200                15   \n",
       "\n",
       "   blurb_letter_count_average  hype_duration_days  campaign_duration_days  \\\n",
       "0                    5.619048                2.80                    7.88   \n",
       "1                    5.125000                0.88                   29.15   \n",
       "2                    5.565217               21.79                   29.01   \n",
       "3                    4.464286                3.48                   30.04   \n",
       "4                    8.066667                6.92                   30.00   \n",
       "\n",
       "       usd_goal  slug_word_count  slug_letter_count_average category_name  \n",
       "0   3500.000000                8                   5.875000    nonfiction  \n",
       "1    218.286686                9                   5.555556    nonfiction  \n",
       "2  10000.000000                5                   7.000000    nonfiction  \n",
       "3   2257.946280                6                   4.500000    nonfiction  \n",
       "4   1111.358080                7                   7.142857    nonfiction  "
      ]
     },
     "execution_count": 3,
     "metadata": {},
     "output_type": "execute_result"
    }
   ],
   "source": [
    "cleaned_df = pd.read_pickle('merged_df.pkl')\n",
    "cleaned_df.head()"
   ]
  },
  {
   "cell_type": "code",
   "execution_count": 9,
   "metadata": {},
   "outputs": [
    {
     "name": "stdout",
     "output_type": "stream",
     "text": [
      "(81,)\n"
     ]
    },
    {
     "data": {
      "text/plain": [
       "(76,)"
      ]
     },
     "execution_count": 9,
     "metadata": {},
     "output_type": "execute_result"
    }
   ],
   "source": [
    "# test the creation of dummy variables\n",
    "cols_to_transform = [ 'country', 'spotlight', 'staff_pick', 'state', 'category_name']\n",
    "print(pd.get_dummies(cleaned_df, columns = cols_to_transform).columns.shape)\n",
    "pd.get_dummies(cleaned_df, columns = cols_to_transform, drop_first=True).columns.shape\n"
   ]
  },
  {
   "cell_type": "code",
   "execution_count": 12,
   "metadata": {},
   "outputs": [
    {
     "data": {
      "text/html": [
       "<div>\n",
       "<style scoped>\n",
       "    .dataframe tbody tr th:only-of-type {\n",
       "        vertical-align: middle;\n",
       "    }\n",
       "\n",
       "    .dataframe tbody tr th {\n",
       "        vertical-align: top;\n",
       "    }\n",
       "\n",
       "    .dataframe thead th {\n",
       "        text-align: right;\n",
       "    }\n",
       "</style>\n",
       "<table border=\"1\" class=\"dataframe\">\n",
       "  <thead>\n",
       "    <tr style=\"text-align: right;\">\n",
       "      <th></th>\n",
       "      <th>backers_count</th>\n",
       "      <th>id</th>\n",
       "      <th>name</th>\n",
       "      <th>static_usd_rate</th>\n",
       "      <th>usd_pledged</th>\n",
       "      <th>gdp_ppp_pc</th>\n",
       "      <th>blurb_word_count</th>\n",
       "      <th>blurb_letter_count_average</th>\n",
       "      <th>hype_duration_days</th>\n",
       "      <th>campaign_duration_days</th>\n",
       "      <th>...</th>\n",
       "      <th>category_name_punk</th>\n",
       "      <th>category_name_science_fiction</th>\n",
       "      <th>category_name_sculpture</th>\n",
       "      <th>category_name_software</th>\n",
       "      <th>category_name_tabletop_games</th>\n",
       "      <th>category_name_theater</th>\n",
       "      <th>category_name_video_games</th>\n",
       "      <th>category_name_weaving</th>\n",
       "      <th>category_name_web</th>\n",
       "      <th>category_name_workshops</th>\n",
       "    </tr>\n",
       "  </thead>\n",
       "  <tbody>\n",
       "    <tr>\n",
       "      <th>0</th>\n",
       "      <td>80</td>\n",
       "      <td>62545913</td>\n",
       "      <td>\"How We've Changed Jesus\" - Neal Samudre's Deb...</td>\n",
       "      <td>1.000000</td>\n",
       "      <td>3651.000000</td>\n",
       "      <td>59500</td>\n",
       "      <td>21</td>\n",
       "      <td>5.619048</td>\n",
       "      <td>2.80</td>\n",
       "      <td>7.88</td>\n",
       "      <td>...</td>\n",
       "      <td>0</td>\n",
       "      <td>0</td>\n",
       "      <td>0</td>\n",
       "      <td>0</td>\n",
       "      <td>0</td>\n",
       "      <td>0</td>\n",
       "      <td>0</td>\n",
       "      <td>0</td>\n",
       "      <td>0</td>\n",
       "      <td>0</td>\n",
       "    </tr>\n",
       "    <tr>\n",
       "      <th>1</th>\n",
       "      <td>31</td>\n",
       "      <td>2031730466</td>\n",
       "      <td>Your Client Vision (Book) - How to sell withou...</td>\n",
       "      <td>1.247352</td>\n",
       "      <td>338.032525</td>\n",
       "      <td>43600</td>\n",
       "      <td>24</td>\n",
       "      <td>5.125000</td>\n",
       "      <td>0.88</td>\n",
       "      <td>29.15</td>\n",
       "      <td>...</td>\n",
       "      <td>0</td>\n",
       "      <td>0</td>\n",
       "      <td>0</td>\n",
       "      <td>0</td>\n",
       "      <td>0</td>\n",
       "      <td>0</td>\n",
       "      <td>0</td>\n",
       "      <td>0</td>\n",
       "      <td>0</td>\n",
       "      <td>0</td>\n",
       "    </tr>\n",
       "    <tr>\n",
       "      <th>2</th>\n",
       "      <td>357</td>\n",
       "      <td>55673621</td>\n",
       "      <td>500 Old Christian Books, REPUBLISHED!</td>\n",
       "      <td>1.000000</td>\n",
       "      <td>22152.000000</td>\n",
       "      <td>59500</td>\n",
       "      <td>23</td>\n",
       "      <td>5.565217</td>\n",
       "      <td>21.79</td>\n",
       "      <td>29.01</td>\n",
       "      <td>...</td>\n",
       "      <td>0</td>\n",
       "      <td>0</td>\n",
       "      <td>0</td>\n",
       "      <td>0</td>\n",
       "      <td>0</td>\n",
       "      <td>0</td>\n",
       "      <td>0</td>\n",
       "      <td>0</td>\n",
       "      <td>0</td>\n",
       "      <td>0</td>\n",
       "    </tr>\n",
       "    <tr>\n",
       "      <th>3</th>\n",
       "      <td>74</td>\n",
       "      <td>614137516</td>\n",
       "      <td>The Longest Lie I Ever Told</td>\n",
       "      <td>0.752649</td>\n",
       "      <td>2709.535536</td>\n",
       "      <td>48100</td>\n",
       "      <td>28</td>\n",
       "      <td>4.464286</td>\n",
       "      <td>3.48</td>\n",
       "      <td>30.04</td>\n",
       "      <td>...</td>\n",
       "      <td>0</td>\n",
       "      <td>0</td>\n",
       "      <td>0</td>\n",
       "      <td>0</td>\n",
       "      <td>0</td>\n",
       "      <td>0</td>\n",
       "      <td>0</td>\n",
       "      <td>0</td>\n",
       "      <td>0</td>\n",
       "      <td>0</td>\n",
       "    </tr>\n",
       "    <tr>\n",
       "      <th>4</th>\n",
       "      <td>12</td>\n",
       "      <td>1164271753</td>\n",
       "      <td>Spurenlesen – Zur Philosophie der Human-Animal...</td>\n",
       "      <td>1.111358</td>\n",
       "      <td>1200.266726</td>\n",
       "      <td>50200</td>\n",
       "      <td>15</td>\n",
       "      <td>8.066667</td>\n",
       "      <td>6.92</td>\n",
       "      <td>30.00</td>\n",
       "      <td>...</td>\n",
       "      <td>0</td>\n",
       "      <td>0</td>\n",
       "      <td>0</td>\n",
       "      <td>0</td>\n",
       "      <td>0</td>\n",
       "      <td>0</td>\n",
       "      <td>0</td>\n",
       "      <td>0</td>\n",
       "      <td>0</td>\n",
       "      <td>0</td>\n",
       "    </tr>\n",
       "  </tbody>\n",
       "</table>\n",
       "<p>5 rows × 76 columns</p>\n",
       "</div>"
      ],
      "text/plain": [
       "   backers_count          id  \\\n",
       "0             80    62545913   \n",
       "1             31  2031730466   \n",
       "2            357    55673621   \n",
       "3             74   614137516   \n",
       "4             12  1164271753   \n",
       "\n",
       "                                                name  static_usd_rate  \\\n",
       "0  \"How We've Changed Jesus\" - Neal Samudre's Deb...         1.000000   \n",
       "1  Your Client Vision (Book) - How to sell withou...         1.247352   \n",
       "2              500 Old Christian Books, REPUBLISHED!         1.000000   \n",
       "3                        The Longest Lie I Ever Told         0.752649   \n",
       "4  Spurenlesen – Zur Philosophie der Human-Animal...         1.111358   \n",
       "\n",
       "    usd_pledged  gdp_ppp_pc  blurb_word_count  blurb_letter_count_average  \\\n",
       "0   3651.000000       59500                21                    5.619048   \n",
       "1    338.032525       43600                24                    5.125000   \n",
       "2  22152.000000       59500                23                    5.565217   \n",
       "3   2709.535536       48100                28                    4.464286   \n",
       "4   1200.266726       50200                15                    8.066667   \n",
       "\n",
       "   hype_duration_days  campaign_duration_days           ...             \\\n",
       "0                2.80                    7.88           ...              \n",
       "1                0.88                   29.15           ...              \n",
       "2               21.79                   29.01           ...              \n",
       "3                3.48                   30.04           ...              \n",
       "4                6.92                   30.00           ...              \n",
       "\n",
       "   category_name_punk  category_name_science_fiction  category_name_sculpture  \\\n",
       "0                   0                              0                        0   \n",
       "1                   0                              0                        0   \n",
       "2                   0                              0                        0   \n",
       "3                   0                              0                        0   \n",
       "4                   0                              0                        0   \n",
       "\n",
       "   category_name_software  category_name_tabletop_games  \\\n",
       "0                       0                             0   \n",
       "1                       0                             0   \n",
       "2                       0                             0   \n",
       "3                       0                             0   \n",
       "4                       0                             0   \n",
       "\n",
       "   category_name_theater  category_name_video_games  category_name_weaving  \\\n",
       "0                      0                          0                      0   \n",
       "1                      0                          0                      0   \n",
       "2                      0                          0                      0   \n",
       "3                      0                          0                      0   \n",
       "4                      0                          0                      0   \n",
       "\n",
       "   category_name_web  category_name_workshops  \n",
       "0                  0                        0  \n",
       "1                  0                        0  \n",
       "2                  0                        0  \n",
       "3                  0                        0  \n",
       "4                  0                        0  \n",
       "\n",
       "[5 rows x 76 columns]"
      ]
     },
     "execution_count": 12,
     "metadata": {},
     "output_type": "execute_result"
    }
   ],
   "source": [
    "cleaned_with_dummies = pd.get_dummies(cleaned_df, columns = cols_to_transform, drop_first=True)\n",
    "cleaned_with_dummies.head()"
   ]
  },
  {
   "cell_type": "code",
   "execution_count": 13,
   "metadata": {},
   "outputs": [
    {
     "data": {
      "text/plain": [
       "Index(['backers_count', 'id', 'name', 'static_usd_rate', 'usd_pledged',\n",
       "       'gdp_ppp_pc', 'blurb_word_count', 'blurb_letter_count_average',\n",
       "       'hype_duration_days', 'campaign_duration_days', 'usd_goal',\n",
       "       'slug_word_count', 'slug_letter_count_average', 'country_AU',\n",
       "       'country_BE', 'country_CA', 'country_CH', 'country_DE', 'country_DK',\n",
       "       'country_ES', 'country_FR', 'country_GB', 'country_HK', 'country_IE',\n",
       "       'country_IT', 'country_LU', 'country_MX', 'country_NL', 'country_NO',\n",
       "       'country_NZ', 'country_SE', 'country_SG', 'country_US',\n",
       "       'spotlight_True', 'staff_pick_True', 'state_successful',\n",
       "       'category_name_art', 'category_name_calendars',\n",
       "       'category_name_civic_design', 'category_name_comedy',\n",
       "       'category_name_comic_books', 'category_name_conceptual_art',\n",
       "       'category_name_design', 'category_name_digital_art',\n",
       "       'category_name_electronic_music', 'category_name_experimental',\n",
       "       'category_name_family', 'category_name_farms',\n",
       "       'category_name_festivals', 'category_name_footwear',\n",
       "       'category_name_gadgets', 'category_name_glass',\n",
       "       'category_name_graphic_design', 'category_name_illustration',\n",
       "       'category_name_installations', 'category_name_jazz',\n",
       "       'category_name_letterpress', 'category_name_mixed_media',\n",
       "       'category_name_nonfiction', 'category_name_painting',\n",
       "       'category_name_people', 'category_name_performance_art',\n",
       "       'category_name_pet_fashion', 'category_name_plays',\n",
       "       'category_name_product_design', 'category_name_public_art',\n",
       "       'category_name_punk', 'category_name_science_fiction',\n",
       "       'category_name_sculpture', 'category_name_software',\n",
       "       'category_name_tabletop_games', 'category_name_theater',\n",
       "       'category_name_video_games', 'category_name_weaving',\n",
       "       'category_name_web', 'category_name_workshops'],\n",
       "      dtype='object')"
      ]
     },
     "execution_count": 13,
     "metadata": {},
     "output_type": "execute_result"
    }
   ],
   "source": [
    "cleaned_with_dummies.columns"
   ]
  },
  {
   "cell_type": "markdown",
   "metadata": {},
   "source": [
    "# First Step \n",
    "## test train split"
   ]
  },
  {
   "cell_type": "code",
   "execution_count": 91,
   "metadata": {},
   "outputs": [
    {
     "data": {
      "text/plain": [
       "Index(['backers_count', 'gdp_ppp_pc', 'blurb_word_count',\n",
       "       'blurb_letter_count_average', 'hype_duration_days',\n",
       "       'campaign_duration_days', 'usd_goal', 'slug_word_count',\n",
       "       'slug_letter_count_average', 'country_AU', 'country_BE', 'country_CA',\n",
       "       'country_CH', 'country_DE', 'country_DK', 'country_ES', 'country_FR',\n",
       "       'country_GB', 'country_HK', 'country_IE', 'country_IT', 'country_LU',\n",
       "       'country_MX', 'country_NL', 'country_NO', 'country_NZ', 'country_SE',\n",
       "       'country_SG', 'country_US', 'spotlight_True', 'staff_pick_True',\n",
       "       'state_successful', 'category_name_art', 'category_name_calendars',\n",
       "       'category_name_civic_design', 'category_name_comedy',\n",
       "       'category_name_comic_books', 'category_name_conceptual_art',\n",
       "       'category_name_design', 'category_name_digital_art',\n",
       "       'category_name_electronic_music', 'category_name_experimental',\n",
       "       'category_name_family', 'category_name_farms',\n",
       "       'category_name_festivals', 'category_name_footwear',\n",
       "       'category_name_gadgets', 'category_name_glass',\n",
       "       'category_name_graphic_design', 'category_name_illustration',\n",
       "       'category_name_installations', 'category_name_jazz',\n",
       "       'category_name_letterpress', 'category_name_mixed_media',\n",
       "       'category_name_nonfiction', 'category_name_painting',\n",
       "       'category_name_people', 'category_name_performance_art',\n",
       "       'category_name_pet_fashion', 'category_name_plays',\n",
       "       'category_name_product_design', 'category_name_public_art',\n",
       "       'category_name_punk', 'category_name_science_fiction',\n",
       "       'category_name_sculpture', 'category_name_software',\n",
       "       'category_name_tabletop_games', 'category_name_theater',\n",
       "       'category_name_video_games', 'category_name_weaving',\n",
       "       'category_name_web', 'category_name_workshops'],\n",
       "      dtype='object')"
      ]
     },
     "execution_count": 91,
     "metadata": {},
     "output_type": "execute_result"
    }
   ],
   "source": [
    "cleaned_with_dummies.drop(columns=['id', 'name', 'static_usd_rate', 'usd_pledged']).columns"
   ]
  },
  {
   "cell_type": "code",
   "execution_count": 597,
   "metadata": {},
   "outputs": [
    {
     "data": {
      "text/plain": [
       "0.778146252009089"
      ]
     },
     "execution_count": 597,
     "metadata": {},
     "output_type": "execute_result"
    }
   ],
   "source": [
    "X = cleaned_with_dummies.drop(columns=['id', 'name', 'static_usd_rate', 'usd_pledged', 'spotlight_True'])\n",
    "y = cleaned_with_dummies['usd_pledged']\n",
    "\n",
    "lr = LinearRegression()\n",
    "\n",
    "# Split the data into training and test sets\n",
    "x_train, x_test, y_train, y_test = train_test_split(X, y, test_size=0.3)\n",
    "\n",
    "\n",
    "# Fit the model against the training data\n",
    "lr.fit(x_train, y_train)\n",
    "# Evaluate the model against the testing data\n",
    "lr.score(x_test, y_test)"
   ]
  },
  {
   "cell_type": "code",
   "execution_count": 598,
   "metadata": {},
   "outputs": [
    {
     "data": {
      "text/plain": [
       "0.7120818918628886"
      ]
     },
     "execution_count": 598,
     "metadata": {},
     "output_type": "execute_result"
    }
   ],
   "source": [
    "lr.score(X, y)"
   ]
  },
  {
   "cell_type": "code",
   "execution_count": 599,
   "metadata": {},
   "outputs": [
    {
     "name": "stdout",
     "output_type": "stream",
     "text": [
      "0.7066277334643467\n"
     ]
    }
   ],
   "source": [
    "#adjusted r squared\n",
    "print(1 - (1-lr.score(X, y))*(len(y)-1)/(len(y)-X.shape[1]-1))"
   ]
  },
  {
   "cell_type": "code",
   "execution_count": 600,
   "metadata": {},
   "outputs": [
    {
     "data": {
      "text/plain": [
       "18367.836925118972"
      ]
     },
     "execution_count": 600,
     "metadata": {},
     "output_type": "execute_result"
    }
   ],
   "source": [
    "np.sqrt(mean_squared_error(y_test, lr.predict(x_test)))"
   ]
  },
  {
   "cell_type": "code",
   "execution_count": 601,
   "metadata": {},
   "outputs": [
    {
     "name": "stdout",
     "output_type": "stream",
     "text": [
      "[('category_name_video_games', -218225.22977214397),\n",
      " ('country_HK', -74850.42439238339),\n",
      " ('country_MX', -59802.77646380499),\n",
      " ('country_ES', -50822.19859964431),\n",
      " ('country_IT', -49739.21600649218),\n",
      " ('country_NZ', -45770.755667907026),\n",
      " ('country_GB', -43258.457798907846),\n",
      " ('country_BE', -42247.53497690066),\n",
      " ('country_FR', -40765.745164549444),\n",
      " ('country_CA', -40492.14861428341),\n",
      " ('category_name_civic_design', -39695.61857427182),\n",
      " ('country_NL', -38963.53697960342),\n",
      " ('country_DK', -38818.067173804),\n",
      " ('country_AU', -37299.78903002173),\n",
      " ('country_DE', -35884.09572530419),\n",
      " ('country_SE', -35479.2260655107),\n",
      " ('country_US', -32702.708834922643),\n",
      " ('country_IE', -25833.077870304063),\n",
      " ('country_NO', -25574.87407841331),\n",
      " ('country_SG', -21721.573090234528),\n",
      " ('country_LU', -7442.686441001598),\n",
      " ('slug_letter_count_average', -101.35135516483842),\n",
      " ('blurb_word_count', -32.41187704463477),\n",
      " ('gdp_ppp_pc', -0.5908179379167507),\n",
      " ('hype_duration_days', -0.5264217428423308),\n",
      " ('category_name_illustration', 1.8189894035458565e-11),\n",
      " ('category_name_plays', 2.1827872842550278e-11),\n",
      " ('usd_goal', 0.0026383214440102165),\n",
      " ('campaign_duration_days', 56.44772834543278),\n",
      " ('backers_count', 59.6672841818051),\n",
      " ('slug_word_count', 213.5373672603198),\n",
      " ('staff_pick_True', 272.9701827588324),\n",
      " ('blurb_letter_count_average', 283.02627243582157),\n",
      " ('category_name_conceptual_art', 692.310363650361),\n",
      " ('category_name_letterpress', 805.7504077531396),\n",
      " ('category_name_graphic_design', 1138.3447944080824),\n",
      " ('category_name_public_art', 1179.7000505621415),\n",
      " ('country_CH', 1528.4043029167815),\n",
      " ('category_name_digital_art', 2945.1488538482267),\n",
      " ('category_name_comic_books', 3191.587887934864),\n",
      " ('category_name_sculpture', 3700.9272106023423),\n",
      " ('category_name_design', 3937.311663942646),\n",
      " ('category_name_performance_art', 3975.6058223101195),\n",
      " ('category_name_theater', 4122.085236051301),\n",
      " ('category_name_electronic_music', 4284.653640960918),\n",
      " ('category_name_nonfiction', 4483.810788879487),\n",
      " ('category_name_painting', 4587.346625609816),\n",
      " ('category_name_art', 4655.9335118552735),\n",
      " ('category_name_mixed_media', 5034.555746453788),\n",
      " ('category_name_punk', 6377.555124741147),\n",
      " ('category_name_jazz', 6456.286667057013),\n",
      " ('state_successful', 7165.192353324393),\n",
      " ('category_name_software', 7554.184754081077),\n",
      " ('category_name_calendars', 7635.062146388858),\n",
      " ('category_name_farms', 8234.638444528366),\n",
      " ('category_name_festivals', 8729.64931607715),\n",
      " ('category_name_installations', 8919.302932495837),\n",
      " ('category_name_workshops', 9154.176509511297),\n",
      " ('category_name_science_fiction', 9528.025970608436),\n",
      " ('category_name_comedy', 9600.06283818746),\n",
      " ('category_name_glass', 9735.260883774496),\n",
      " ('category_name_experimental', 10317.765322139043),\n",
      " ('category_name_people', 10721.239202850911),\n",
      " ('category_name_pet_fashion', 10823.926043661548),\n",
      " ('category_name_weaving', 11111.917861795384),\n",
      " ('category_name_web', 12625.461999143392),\n",
      " ('category_name_family', 12750.951637527485),\n",
      " ('category_name_footwear', 17973.9204336061),\n",
      " ('category_name_product_design', 21637.655401644577),\n",
      " ('category_name_gadgets', 21726.51812967432),\n",
      " ('category_name_tabletop_games', 32646.019934373315)]\n"
     ]
    }
   ],
   "source": [
    "# look at the betas \n",
    "pprint.pprint(sorted(dict(zip(list(X.columns),lr.coef_)).items(), key=lambda kv: kv[1]))"
   ]
  },
  {
   "cell_type": "markdown",
   "metadata": {},
   "source": [
    "# Cross Validation"
   ]
  },
  {
   "cell_type": "code",
   "execution_count": 190,
   "metadata": {},
   "outputs": [],
   "source": [
    "from sklearn.cross_validation import cross_val_score"
   ]
  },
  {
   "cell_type": "code",
   "execution_count": 191,
   "metadata": {},
   "outputs": [
    {
     "name": "stdout",
     "output_type": "stream",
     "text": [
      "[5.69622619e+07 1.83356307e+08 9.30498209e+07 3.47056692e+08\n",
      " 7.77379571e+07 8.24928431e+07 5.39729568e+08 9.02407138e+08\n",
      " 5.12285062e+08 9.03897666e+08]\n"
     ]
    }
   ],
   "source": [
    "reg = LinearRegression()\n",
    "scores = cross_val_score(reg, X, y, cv=10, scoring='mean_squared_error')\n",
    "\n",
    "# scores output is negative, a sklearn quirk bc mse is used to min. optimization func.\n",
    "print(-scores)"
   ]
  },
  {
   "cell_type": "markdown",
   "metadata": {},
   "source": [
    "# Automatic Cross Validation"
   ]
  },
  {
   "cell_type": "code",
   "execution_count": 192,
   "metadata": {},
   "outputs": [],
   "source": [
    "from sklearn.linear_model import RidgeCV"
   ]
  },
  {
   "cell_type": "code",
   "execution_count": 193,
   "metadata": {},
   "outputs": [],
   "source": [
    "rcv = RidgeCV(alphas=np.linspace(1e-6,1,100),cv=10)"
   ]
  },
  {
   "cell_type": "code",
   "execution_count": 194,
   "metadata": {},
   "outputs": [
    {
     "data": {
      "text/plain": [
       "0.7019334457955748"
      ]
     },
     "execution_count": 194,
     "metadata": {},
     "output_type": "execute_result"
    }
   ],
   "source": [
    "rcv.fit(X, y)\n",
    "rcv.score(x_test, y_test)"
   ]
  },
  {
   "cell_type": "code",
   "execution_count": 288,
   "metadata": {},
   "outputs": [
    {
     "data": {
      "text/plain": [
       "18370.95689351976"
      ]
     },
     "execution_count": 288,
     "metadata": {},
     "output_type": "execute_result"
    }
   ],
   "source": [
    "rcv_y = rcv.predict(X)\n",
    "np.sqrt(mean_squared_error(y, rcv_y))"
   ]
  },
  {
   "cell_type": "markdown",
   "metadata": {},
   "source": [
    "# Scaled Data"
   ]
  },
  {
   "cell_type": "code",
   "execution_count": 195,
   "metadata": {},
   "outputs": [],
   "source": [
    "# from sklearn.model_selection import train_test_split, GridSearchCV\n",
    "# from sklearn.linear_model import Ridge, Lasso\n",
    "\n",
    "# X = cleaned_with_dummies.drop(columns=['id', 'name', 'static_usd_rate', 'usd_pledged'])\n",
    "# y = cleaned_with_dummies['usd_pledged']\n",
    "# X_train, X_test, y_train, y_test = train_test_split(X, y, test_size=0.1, random_state=42)"
   ]
  },
  {
   "cell_type": "code",
   "execution_count": 198,
   "metadata": {},
   "outputs": [],
   "source": [
    "from sklearn.preprocessing import StandardScaler\n",
    "\n",
    "ssX = StandardScaler()\n",
    "X_train_scaled = ssX.fit_transform(x_train)"
   ]
  },
  {
   "cell_type": "markdown",
   "metadata": {},
   "source": [
    "### Lasso"
   ]
  },
  {
   "cell_type": "code",
   "execution_count": 199,
   "metadata": {},
   "outputs": [
    {
     "data": {
      "text/plain": [
       "GridSearchCV(cv=5, error_score='raise',\n",
       "       estimator=Lasso(alpha=1.0, copy_X=True, fit_intercept=True, max_iter=1000,\n",
       "   normalize=False, positive=False, precompute=False, random_state=None,\n",
       "   selection='cyclic', tol=0.0001, warm_start=False),\n",
       "       fit_params=None, iid=True, n_jobs=1,\n",
       "       param_grid={'alpha': [1e-05, 0.001, 0.1, 1, 100.0, 1000.0], 'fit_intercept': [True, False]},\n",
       "       pre_dispatch='2*n_jobs', refit=True, return_train_score='warn',\n",
       "       scoring='neg_mean_absolute_error', verbose=0)"
      ]
     },
     "execution_count": 199,
     "metadata": {},
     "output_type": "execute_result"
    }
   ],
   "source": [
    "model = Lasso()\n",
    "parameters = {'alpha': [1e-5,1e-3,1e-1,1,1e2, 1e3], 'fit_intercept': [True,False]}\n",
    "grid = GridSearchCV(model,parameters, cv=5, scoring='neg_mean_absolute_error', n_jobs=1)\n",
    "grid.fit(X_train_scaled, y_train)"
   ]
  },
  {
   "cell_type": "code",
   "execution_count": 200,
   "metadata": {},
   "outputs": [
    {
     "name": "stdout",
     "output_type": "stream",
     "text": [
      "split0_test_score [ -6614.19181769 -60963.68697311  -6614.18761994 -60963.42133912\n",
      "  -6613.76906687 -60936.87415973  -6609.96083291 -60695.97166077\n",
      "  -6307.41591725 -36924.10332644  -5836.05209156 -12537.55794974]\n",
      "split1_test_score [ -6393.19762249 -60896.84190178  -6393.1499569  -60850.98567975\n",
      "  -6388.38396636 -60832.51888474  -6375.87946673 -60663.38620026\n",
      "  -6192.68854327 -43734.99298028  -5999.71811718 -12890.22769808]\n",
      "split2_test_score [ -6985.96282012 -62715.07491709  -6985.95865461 -62714.80913255\n",
      "  -6985.4475329  -62688.13895737  -6981.05217027 -62446.10645564\n",
      "  -6642.39206995 -38307.09666145  -5637.52445872 -12556.91127803]\n",
      "split3_test_score [ -5318.91336576 -60394.55122232  -5318.91124607 -60394.27442606\n",
      "  -5318.70804409 -60366.62941841  -5316.85340572 -60116.09440361\n",
      "  -5243.19008267 -36263.3133356   -4931.82256877 -11754.49955163]\n",
      "split4_test_score [ -6321.51902497 -13422.96965279  -6321.5165035  -13422.96868944\n",
      "  -6321.26435605 -13422.87235394  -6318.73240252 -13421.9740962\n",
      "  -6197.61219821 -13271.86652528  -6001.55521091 -12615.67362697]\n"
     ]
    }
   ],
   "source": [
    "def print_test_scores(grid):\n",
    "    for ix in range(5):\n",
    "        key = \"split{}_test_score\".format(ix)\n",
    "        print(key,grid.cv_results_[key])\n",
    "        \n",
    "print_test_scores(grid)"
   ]
  },
  {
   "cell_type": "code",
   "execution_count": 202,
   "metadata": {},
   "outputs": [
    {
     "name": "stdout",
     "output_type": "stream",
     "text": [
      "pred, resid: 9405.074663614974, -1020.064663614974\n",
      "pred, resid: 11688.557511411542, 8439.442488588458\n",
      "pred, resid: 1149.4059061966145, -1148.4059061966145\n",
      "pred, resid: 5306.515706031392, -1123.5157060313923\n",
      "pred, resid: 2203.3210667181083, -1173.3210667181083\n",
      "pred, resid: 4955.210652524228, -1881.210652524228\n",
      "pred, resid: 6770.286762311243, -1999.2867623112434\n",
      "pred, resid: 1734.9143287085553, -1347.9143287085553\n",
      "pred, resid: 1090.8550639454206, -1090.8550639454206\n",
      "pred, resid: 5072.312337026616, -226.31233702661575\n",
      "pred, resid: 17656.822247387987, -11789.172709637987\n",
      "pred, resid: 5130.86317927781, 2361.1368207221904\n",
      "pred, resid: 3315.7870694907942, 586.2129305092058\n",
      "pred, resid: 1149.4059061966145, -1139.4059061966145\n",
      "pred, resid: 9697.828874870946, 2402.1711251290544\n",
      "pred, resid: 10693.193193141244, 15491.806806858756\n",
      "pred, resid: 21232.34479835617, -14022.224798356172\n",
      "pred, resid: 1325.058432950198, -1165.058432950198\n",
      "pred, resid: 2203.3210667181083, -1073.3210667181083\n",
      "pred, resid: 3725.6429652491533, -1999.6429652491533\n"
     ]
    }
   ],
   "source": [
    "X_test_scaled = ssX.transform(x_test)\n",
    "best_lasso = grid.best_estimator_\n",
    "lasso_pred = best_lasso.predict(X_test_scaled)\n",
    "for true,pred in zip(y_test[:20], lasso_pred[:20]):\n",
    "    resid = true - pred\n",
    "    print(\"pred, resid:\", str(pred) + \", \"+ str(resid))"
   ]
  },
  {
   "cell_type": "code",
   "execution_count": 203,
   "metadata": {},
   "outputs": [
    {
     "name": "stdout",
     "output_type": "stream",
     "text": [
      "{'alpha': 1000.0, 'fit_intercept': True} -5681.214735979072\n"
     ]
    }
   ],
   "source": [
    "print(grid.best_params_, grid.best_score_)"
   ]
  },
  {
   "cell_type": "markdown",
   "metadata": {},
   "source": [
    "### Ridge"
   ]
  },
  {
   "cell_type": "code",
   "execution_count": 280,
   "metadata": {},
   "outputs": [],
   "source": [
    "model = Ridge()\n",
    "parameters = {'alpha': np.linspace(1e-6,1e2,50)}\n",
    "grid = GridSearchCV(model, parameters, cv=5, scoring='neg_mean_absolute_error', n_jobs=1)"
   ]
  },
  {
   "cell_type": "code",
   "execution_count": 281,
   "metadata": {},
   "outputs": [
    {
     "data": {
      "text/plain": [
       "array([1.00000000e-06, 2.04081731e+00, 4.08163361e+00, 6.12244992e+00,\n",
       "       8.16326622e+00, 1.02040825e+01, 1.22448988e+01, 1.42857151e+01,\n",
       "       1.63265314e+01, 1.83673478e+01, 2.04081641e+01, 2.24489804e+01,\n",
       "       2.44897967e+01, 2.65306130e+01, 2.85714293e+01, 3.06122456e+01,\n",
       "       3.26530619e+01, 3.46938782e+01, 3.67346945e+01, 3.87755108e+01,\n",
       "       4.08163271e+01, 4.28571434e+01, 4.48979597e+01, 4.69387760e+01,\n",
       "       4.89795923e+01, 5.10204087e+01, 5.30612250e+01, 5.51020413e+01,\n",
       "       5.71428576e+01, 5.91836739e+01, 6.12244902e+01, 6.32653065e+01,\n",
       "       6.53061228e+01, 6.73469391e+01, 6.93877554e+01, 7.14285717e+01,\n",
       "       7.34693880e+01, 7.55102043e+01, 7.75510206e+01, 7.95918369e+01,\n",
       "       8.16326532e+01, 8.36734696e+01, 8.57142859e+01, 8.77551022e+01,\n",
       "       8.97959185e+01, 9.18367348e+01, 9.38775511e+01, 9.59183674e+01,\n",
       "       9.79591837e+01, 1.00000000e+02])"
      ]
     },
     "execution_count": 281,
     "metadata": {},
     "output_type": "execute_result"
    }
   ],
   "source": [
    "parameters['alpha']"
   ]
  },
  {
   "cell_type": "code",
   "execution_count": 282,
   "metadata": {},
   "outputs": [
    {
     "data": {
      "text/plain": [
       "GridSearchCV(cv=5, error_score='raise',\n",
       "       estimator=Ridge(alpha=1.0, copy_X=True, fit_intercept=True, max_iter=None,\n",
       "   normalize=False, random_state=None, solver='auto', tol=0.001),\n",
       "       fit_params=None, iid=True, n_jobs=1,\n",
       "       param_grid={'alpha': array([1.00000e-06, 2.04082e+00, 4.08163e+00, 6.12245e+00, 8.16327e+00,\n",
       "       1.02041e+01, 1.22449e+01, 1.42857e+01, 1.63265e+01, 1.83673e+01,\n",
       "       2.04082e+01, 2.24490e+01, 2.44898e+01, 2.65306e+01, 2.85714e+01,\n",
       "       3.06122e+01, 3.26531e+01, 3.46939e+01, 3.67347e+01, 3.87... 8.77551e+01, 8.97959e+01,\n",
       "       9.18367e+01, 9.38776e+01, 9.59184e+01, 9.79592e+01, 1.00000e+02])},\n",
       "       pre_dispatch='2*n_jobs', refit=True, return_train_score='warn',\n",
       "       scoring='neg_mean_absolute_error', verbose=0)"
      ]
     },
     "execution_count": 282,
     "metadata": {},
     "output_type": "execute_result"
    }
   ],
   "source": [
    "grid.fit(X_train_scaled, y_train)"
   ]
  },
  {
   "cell_type": "code",
   "execution_count": 399,
   "metadata": {},
   "outputs": [
    {
     "name": "stdout",
     "output_type": "stream",
     "text": [
      "pred, resid: -1075.6451521277686, 16490.64515212777\n",
      "pred, resid: 5812.162639273213, 79940.82736072679\n",
      "pred, resid: 6936.178201616094, -6936.178201616094\n",
      "pred, resid: 3046.66393204833, -1431.66393204833\n",
      "pred, resid: 8342.29975439385, 2558.700245606149\n",
      "pred, resid: -840.283560023523, 18177.29356002352\n",
      "pred, resid: 5282.599057038661, -3702.599057038661\n",
      "pred, resid: 2281.7387577095324, 9605.261242290468\n",
      "pred, resid: 7812.736172159299, -4951.617393119299\n",
      "pred, resid: 6047.524231377459, 7328.475768622541\n",
      "pred, resid: 2987.823534022268, -2971.823534022268\n",
      "pred, resid: 5164.918260986539, -3016.4882609865394\n",
      "pred, resid: 3870.4295044131886, 6637.570495586811\n",
      "pred, resid: 45250.42846623549, 76035.57153376451\n",
      "pred, resid: 16821.3650699944, -15008.6005855544\n",
      "pred, resid: 8871.863336628405, -7858.863336628405\n",
      "pred, resid: 8877.911336476118, -6877.911336476118\n",
      "pred, resid: 79325.0669231727, -53817.54876762269\n",
      "pred, resid: 3693.908310335005, -3380.908310335005\n",
      "pred, resid: 15179.503852566322, 3829.496147433678\n"
     ]
    }
   ],
   "source": [
    "best_ridge = grid.best_estimator_\n",
    "ridge_pred = best_ridge.predict(X_test_scaled)\n",
    "for true,pred in zip(y_test[:20], ridge_pred[:20]):\n",
    "    resid = true - pred\n",
    "    print(\"pred, resid:\", str(pred) + \", \"+ str(resid))"
   ]
  },
  {
   "cell_type": "code",
   "execution_count": 378,
   "metadata": {},
   "outputs": [
    {
     "name": "stdout",
     "output_type": "stream",
     "text": [
      "{'alpha': 4.081633612244898} -5779.437703305121\n"
     ]
    }
   ],
   "source": [
    "print(grid.best_params_, grid.best_score_)"
   ]
  },
  {
   "cell_type": "markdown",
   "metadata": {},
   "source": [
    "Now let's compare the two models"
   ]
  },
  {
   "cell_type": "code",
   "execution_count": 285,
   "metadata": {},
   "outputs": [
    {
     "name": "stdout",
     "output_type": "stream",
     "text": [
      "Lasso:  47860.266915571454\n",
      "Ridge:  35864.83313149509\n"
     ]
    }
   ],
   "source": [
    "from sklearn.metrics import mean_squared_error\n",
    "\n",
    "print(\"Lasso: \", np.sqrt(mean_squared_error(y_test, lasso_pred)))\n",
    "print(\"Ridge: \", np.sqrt(mean_squared_error(y_test, ridge_pred)))"
   ]
  },
  {
   "cell_type": "code",
   "execution_count": 286,
   "metadata": {},
   "outputs": [
    {
     "data": {
      "image/png": "[encoded data removed]",
      "text/plain": [
       "<Figure size 900x600 with 1 Axes>"
      ]
     },
     "metadata": {},
     "output_type": "display_data"
    }
   ],
   "source": [
    "plt.figure(dpi=150)\n",
    "plt.scatter(y_test, lasso_pred, label=\"Lasso\", c='r', alpha=0.2)\n",
    "plt.scatter(y_test, ridge_pred, label=\"Ridge\", c='b', alpha=0.2)\n",
    "plt.plot([min(y_test), max(y_test)],[min(y_test), max(y_test)],'k', zorder=10)\n",
    "plt.legend(loc=\"upper left\");"
   ]
  },
  {
   "cell_type": "code",
   "execution_count": 602,
   "metadata": {},
   "outputs": [
    {
     "name": "stdout",
     "output_type": "stream",
     "text": [
      "(array([8017.25354072]), array([0.]))\n",
      "(array([2.24358063]), array([0.13425264]))\n",
      "(array([1.79304414]), array([0.18063542]))\n",
      "(array([7.84592286]), array([0.00511918]))\n",
      "(array([9.43069954]), array([0.00214885]))\n",
      "(array([4.05979621]), array([0.04398577]))\n",
      "(array([7.3955252]), array([0.00656822]))\n",
      "(array([6.11298071]), array([0.01346252]))\n",
      "(array([0.94630034]), array([0.33072443]))\n",
      "(array([0.07404297]), array([0.7855534]))\n",
      "(array([0.18986785]), array([0.66305126]))\n",
      "(array([0.75848457]), array([0.38385794]))\n",
      "(array([2.49443884]), array([0.11433193]))\n",
      "(array([0.0032814]), array([0.95432232]))\n",
      "(array([0.23533419]), array([0.62762434]))\n",
      "(array([0.99833434]), array([0.3177772]))\n",
      "(array([0.03863621]), array([0.84418159]))\n",
      "(array([1.39976311]), array([0.2368369]))\n",
      "(array([1.60369902]), array([0.20545705]))\n",
      "(array([6.37212315e-05]), array([0.99363132]))\n",
      "(array([0.60612847]), array([0.43629749]))\n",
      "(array([0.23334583]), array([0.62908167]))\n",
      "(array([0.53884924]), array([0.46295511]))\n",
      "(array([1.93539436e-05]), array([0.9964901]))\n",
      "(array([0.19694652]), array([0.65722205]))\n",
      "(array([0.10938035]), array([0.74086886]))\n",
      "(array([0.46349252]), array([0.49603753]))\n",
      "(array([0.15665081]), array([0.69228105]))\n",
      "(array([1.42318046]), array([0.23295475]))\n",
      "(array([161.70988013]), array([2.58427186e-36]))\n",
      "(array([55.16067247]), array([1.36265008e-13]))\n",
      "(array([0.40991271]), array([0.52205223]))\n",
      "(array([1.22313771]), array([0.26881543]))\n",
      "(array([17.83892509]), array([2.46022442e-05]))\n",
      "(array([0.0038781]), array([0.95034756]))\n",
      "(array([5.56285217]), array([0.01839562]))\n",
      "(array([0.14288267]), array([0.70545291]))\n",
      "(array([9.02579039e-06]), array([0.99760308]))\n",
      "(array([0.07709304]), array([0.78129122]))\n",
      "(array([0.3524477]), array([0.55276598]))\n",
      "(array([2.22851676]), array([0.13556648]))\n",
      "(array([0.54355187]), array([0.46100974]))\n",
      "(array([3.73348089]), array([0.05340603]))\n",
      "(array([0.19460376]), array([0.65913723]))\n",
      "(array([6.1521992]), array([0.01316767]))\n",
      "(array([146.51993091]), array([4.00995999e-33]))\n",
      "(array([0.61595129]), array([0.4326045]))\n",
      "(array([0.02918665]), array([0.86435784]))\n",
      "(array([0.0920477]), array([0.76160642]))\n",
      "(array([1.01122089]), array([0.31467426]))\n",
      "(array([3.85701649]), array([0.0496108]))\n",
      "(array([0.08584911]), array([0.76953794]))\n",
      "(array([5.54146573e-05]), array([0.99406091]))\n",
      "(array([10.85350064]), array([0.00099509]))\n",
      "(array([0.29093349]), array([0.5896544]))\n",
      "(array([3.10840615]), array([0.07796913]))\n",
      "(array([0.02033621]), array([0.88660962]))\n",
      "(array([0.30653343]), array([0.57984766]))\n",
      "(array([0.02455356]), array([0.87549293]))\n",
      "(array([73.53675682]), array([1.41454321e-17]))\n",
      "(array([0.14925529]), array([0.69926957]))\n",
      "(array([1.69199202]), array([0.19341709]))\n",
      "(array([1.23776081]), array([0.26597308]))\n",
      "(array([0.11497046]), array([0.73457343]))\n",
      "(array([4.58168295]), array([0.03237863]))\n",
      "(array([51.22039255]), array([9.8529467e-13]))\n",
      "(array([6.06256317]), array([0.01385158]))\n",
      "(array([93.83202558]), array([6.13028406e-22]))\n",
      "(array([0.50853063]), array([0.47581921]))\n",
      "(array([2.3502149]), array([0.12534859]))\n",
      "(array([0.79701278]), array([0.37204427]))\n"
     ]
    },
    {
     "data": {
      "text/plain": [
       "0.5961372254200166"
      ]
     },
     "execution_count": 602,
     "metadata": {},
     "output_type": "execute_result"
    }
   ],
   "source": [
    "# Let's start with filtering features using p-value:\n",
    "\n",
    "est=LinearRegression()\n",
    "from sklearn import feature_selection as f_select\n",
    "\n",
    "sig_columns=[]\n",
    "pvals=[] # will be the list of all significant columns' p-values\n",
    "\n",
    "for feature in X.columns:\n",
    "    #get pval on feature by feature basis\n",
    "    pval=f_select.f_regression(X[[feature]],y) # univariate regression for feature selection ; gets f-value and p-value scores\n",
    "    print(pval)\n",
    "    if pval[1][0]<.01: \n",
    "        sig_columns.append(feature)\n",
    "        pvals.append(pval[1][0])\n",
    "        \n",
    "X_trans=X[sig_columns]\n",
    "\n",
    "cross_val_score(est,X_trans,y,cv=5,scoring='r2').mean() \n",
    "# returns array of scores of the estimator for each run of the cross validation"
   ]
  },
  {
   "cell_type": "code",
   "execution_count": 603,
   "metadata": {},
   "outputs": [
    {
     "name": "stdout",
     "output_type": "stream",
     "text": [
      "['backers_count',\n",
      " 'blurb_letter_count_average',\n",
      " 'hype_duration_days',\n",
      " 'usd_goal',\n",
      " 'staff_pick_True',\n",
      " 'state_successful',\n",
      " 'category_name_civic_design',\n",
      " 'category_name_gadgets',\n",
      " 'category_name_nonfiction',\n",
      " 'category_name_product_design',\n",
      " 'category_name_tabletop_games',\n",
      " 'category_name_video_games']\n"
     ]
    }
   ],
   "source": [
    "pprint.pprint(sig_columns)"
   ]
  },
  {
   "cell_type": "code",
   "execution_count": 604,
   "metadata": {},
   "outputs": [
    {
     "data": {
      "text/plain": [
       "12"
      ]
     },
     "execution_count": 604,
     "metadata": {},
     "output_type": "execute_result"
    }
   ],
   "source": [
    "# how many significant columns?\n",
    "len(sig_columns)"
   ]
  },
  {
   "cell_type": "code",
   "execution_count": 605,
   "metadata": {},
   "outputs": [
    {
     "name": "stdout",
     "output_type": "stream",
     "text": [
      "{'backers_count': 0.0,\n",
      " 'blurb_letter_count_average': 0.005119184561516431,\n",
      " 'category_name_civic_design': 2.4602244248752387e-05,\n",
      " 'category_name_gadgets': 4.009959994170266e-33,\n",
      " 'category_name_nonfiction': 0.0009950876717096048,\n",
      " 'category_name_product_design': 1.4145432083528486e-17,\n",
      " 'category_name_tabletop_games': 9.852946695979906e-13,\n",
      " 'category_name_video_games': 6.130284059482579e-22,\n",
      " 'hype_duration_days': 0.002148846917335274,\n",
      " 'staff_pick_True': 2.5842718577902833e-36,\n",
      " 'state_successful': 1.3626500753501463e-13,\n",
      " 'usd_goal': 0.00656822034652216}\n"
     ]
    }
   ],
   "source": [
    "import pprint\n",
    "pprint.pprint(dict(zip(sig_columns, pvals)))"
   ]
  },
  {
   "cell_type": "code",
   "execution_count": 606,
   "metadata": {},
   "outputs": [
    {
     "data": {
      "text/plain": [
       "0.7073507662985167"
      ]
     },
     "execution_count": 606,
     "metadata": {},
     "output_type": "execute_result"
    }
   ],
   "source": [
    "columns = sig_columns[:]\n",
    "lr = LinearRegression()\n",
    "lr.fit(X[columns], y)\n",
    "lr.score(X[columns], y)"
   ]
  },
  {
   "cell_type": "code",
   "execution_count": 607,
   "metadata": {},
   "outputs": [
    {
     "name": "stdout",
     "output_type": "stream",
     "text": [
      "[('category_name_video_games', -181628.56166808368),\n",
      " ('category_name_civic_design', -43269.21143844214),\n",
      " ('category_name_nonfiction', -1189.7914078034653),\n",
      " ('staff_pick_True', -101.58366482842945),\n",
      " ('hype_duration_days', -0.7583646680638313),\n",
      " ('usd_goal', 0.003520795096841078),\n",
      " ('backers_count', 59.46829183854222),\n",
      " ('blurb_letter_count_average', 455.40215631114313),\n",
      " ('state_successful', 3705.67922977007),\n",
      " ('category_name_gadgets', 14175.785557825671),\n",
      " ('category_name_product_design', 15347.321299175237),\n",
      " ('category_name_tabletop_games', 22910.17911345476)]\n"
     ]
    }
   ],
   "source": [
    "pprint.pprint(sorted(dict(zip(columns,list(lr.coef_))).items(), key=lambda kv: kv[1]))"
   ]
  },
  {
   "cell_type": "code",
   "execution_count": 608,
   "metadata": {},
   "outputs": [
    {
     "name": "stdout",
     "output_type": "stream",
     "text": [
      "0.7064283100851156\n"
     ]
    }
   ],
   "source": [
    "#adjusted r-squared value\n",
    "print(1 - (1-lr.score(X[columns], y))*(len(y)-1)/(len(y)-X[columns].shape[1]-1))"
   ]
  },
  {
   "cell_type": "code",
   "execution_count": 451,
   "metadata": {},
   "outputs": [],
   "source": [
    "from sklearn.metrics import mean_squared_error\n",
    "from math import sqrt"
   ]
  },
  {
   "cell_type": "code",
   "execution_count": 609,
   "metadata": {},
   "outputs": [
    {
     "data": {
      "text/plain": [
       "18513.201569344055"
      ]
     },
     "execution_count": 609,
     "metadata": {},
     "output_type": "execute_result"
    }
   ],
   "source": [
    "sqrt(mean_squared_error(y, lr.predict(X[columns])))"
   ]
  },
  {
   "cell_type": "code",
   "execution_count": 466,
   "metadata": {},
   "outputs": [
    {
     "data": {
      "text/plain": [
       "count      3820.000000\n",
       "mean      10963.156858\n",
       "std       34226.673055\n",
       "min           0.000000\n",
       "25%        1230.000000\n",
       "50%        3933.726293\n",
       "75%        9185.500000\n",
       "max      684755.900000\n",
       "Name: usd_pledged, dtype: float64"
      ]
     },
     "execution_count": 466,
     "metadata": {},
     "output_type": "execute_result"
    }
   ],
   "source": [
    "cleaned_with_dummies['usd_pledged'].describe()"
   ]
  },
  {
   "cell_type": "markdown",
   "metadata": {},
   "source": [
    "Because the RMSE is higher than the mean of the USD pledged (dependent variable), another model must be tested to see if it improves the results. "
   ]
  },
  {
   "cell_type": "code",
   "execution_count": 467,
   "metadata": {},
   "outputs": [
    {
     "name": "stdout",
     "output_type": "stream",
     "text": [
      "pred, resid: -1392.768183356211, 1392.768183356211\n",
      "pred, resid: 6280.4310138821975, -4669.012124222198\n",
      "pred, resid: 6886.5907335156935, -3132.5907335156935\n",
      "pred, resid: 4149.3693508383885, 1100.6306491616115\n",
      "pred, resid: 31674.460673709953, 5090.539326290047\n",
      "pred, resid: 2862.501491509437, -1862.501491509437\n",
      "pred, resid: 5425.158536012557, -97.04270233255738\n",
      "pred, resid: 18534.13266274033, -5524.132662740329\n",
      "pred, resid: 10620.30846624051, -6789.282456000511\n",
      "pred, resid: 21585.71869383761, -9548.71869383761\n",
      "pred, resid: 4038.0285439303498, 641.4768336696507\n",
      "pred, resid: 44352.23790967759, -33923.23790967759\n",
      "pred, resid: 13348.880242222705, -7960.880242222705\n",
      "pred, resid: 6071.301116992504, 14712.348883007497\n",
      "pred, resid: -1305.7009109770152, 1410.7009109770152\n",
      "pred, resid: 5739.528537734991, -2839.693045964991\n",
      "pred, resid: 10131.722751507026, -5190.722751507026\n",
      "pred, resid: 10213.887696650798, -3532.887696650798\n",
      "pred, resid: -1338.145489597302, 1348.145489597302\n",
      "pred, resid: 106640.87104844583, -54126.87104844583\n",
      "{'alpha': 85.71428585714285} -5751.460219495866\n",
      "Ridge:  24271.882428728502\n"
     ]
    }
   ],
   "source": [
    "X = cleaned_with_dummies[columns]\n",
    "y = cleaned_with_dummies['usd_pledged']\n",
    "\n",
    "# Split the data into training and test sets\n",
    "x_train, x_test, y_train, y_test = train_test_split(X, y, test_size=0.3)\n",
    "ssX = StandardScaler()\n",
    "X_train_scaled = ssX.fit_transform(x_train)\n",
    "X_test_scaled = ssX.transform(x_test)\n",
    "model = Ridge()\n",
    "parameters = {'alpha': np.linspace(1e-6,1e2,50)}\n",
    "grid = GridSearchCV(model, parameters, cv=10, scoring='neg_mean_absolute_error', n_jobs=1)\n",
    "grid.fit(X_train_scaled, y_train)\n",
    "best_ridge = grid.best_estimator_\n",
    "ridge_pred = best_ridge.predict(X_test_scaled)\n",
    "for true,pred in zip(y_test[:20], ridge_pred[:20]):\n",
    "    resid = true - pred\n",
    "    print(\"pred, resid:\", str(pred) + \", \"+ str(resid))\n",
    "print(grid.best_params_, grid.best_score_)\n",
    "print(\"Ridge: \", np.sqrt(mean_squared_error(y_test, ridge_pred)))"
   ]
  },
  {
   "cell_type": "code",
   "execution_count": 508,
   "metadata": {},
   "outputs": [
    {
     "name": "stdout",
     "output_type": "stream",
     "text": [
      "R squared 0.8504638152186104 RMSE: 13233.69076246659\n"
     ]
    }
   ],
   "source": [
    "degree = 2\n",
    "alpha = [1e2]\n",
    "poly = make_pipeline(PolynomialFeatures(degree), LassoCV(alphas=alpha, cv=5))\n",
    "poly.fit(X,y)\n",
    "s = poly.score(X,y)\n",
    "r = np.sqrt(mean_squared_error(y, poly.predict(X)))\n",
    "\n",
    "print('R squared', s, 'RMSE:', r)"
   ]
  },
  {
   "cell_type": "code",
   "execution_count": 507,
   "metadata": {},
   "outputs": [
    {
     "name": "stdout",
     "output_type": "stream",
     "text": [
      "R squared 0.848419976087495 RMSE: 13323.821926578354\n",
      "[('spotlight_True^2', -2148.0139175357326),\n",
      " ('backers_count staff_pick_True', -2112.806745665562),\n",
      " ('hype_duration_days category_name_tabletop_games', -2103.8008791621523),\n",
      " ('blurb_letter_count_average category_name_gadgets', -1381.0171022811933),\n",
      " ('staff_pick_True category_name_tabletop_games', -864.0204007713961),\n",
      " ('hype_duration_days staff_pick_True', -614.2926167559451),\n",
      " ('blurb_letter_count_average category_name_video_games', -521.2572376008756),\n",
      " ('blurb_letter_count_average spotlight_True', -330.81757037451723),\n",
      " ('state_successful^2', -312.0465536442283),\n",
      " ('backers_count^2', -304.19424377242626),\n",
      " ('staff_pick_True category_name_nonfiction', -260.5373799179956),\n",
      " ('category_name_tabletop_games^2', -138.62038007050248),\n",
      " ('blurb_letter_count_average hype_duration_days', -116.0074672611904),\n",
      " ('category_name_video_games^2', -96.3202355632945),\n",
      " ('hype_duration_days^2', -35.983817128694675),\n",
      " ('blurb_letter_count_average state_successful', -10.127758013848162),\n",
      " ('category_name_civic_design^2', -9.412842115589447),\n",
      " ('hype_duration_days category_name_nonfiction', -5.039315632140883),\n",
      " ('spotlight_True state_successful', -2.0969457602649483e-10),\n",
      " ('1', 0.0),\n",
      " ('hype_duration_days', 0.0),\n",
      " ('spotlight_True', 0.0),\n",
      " ('staff_pick_True', 0.0),\n",
      " ('state_successful', 0.0),\n",
      " ('category_name_civic_design', -0.0),\n",
      " ('category_name_gadgets', 0.0),\n",
      " ('category_name_nonfiction', -0.0),\n",
      " ('category_name_product_design', 0.0),\n",
      " ('category_name_tabletop_games', -0.0),\n",
      " ('category_name_video_games', -0.0),\n",
      " ('backers_count hype_duration_days', -0.0),\n",
      " ('backers_count category_name_civic_design', -0.0),\n",
      " ('backers_count category_name_video_games', 0.0),\n",
      " ('blurb_letter_count_average usd_goal', -0.0),\n",
      " ('blurb_letter_count_average staff_pick_True', -0.0),\n",
      " ('blurb_letter_count_average category_name_civic_design', -0.0),\n",
      " ('blurb_letter_count_average category_name_nonfiction', -0.0),\n",
      " ('hype_duration_days usd_goal', 0.0),\n",
      " ('hype_duration_days spotlight_True', -0.0),\n",
      " ('hype_duration_days state_successful', -0.0),\n",
      " ('hype_duration_days category_name_civic_design', 0.0),\n",
      " ('hype_duration_days category_name_gadgets', 0.0),\n",
      " ('hype_duration_days category_name_product_design', -0.0),\n",
      " ('hype_duration_days category_name_video_games', 0.0),\n",
      " ('usd_goal staff_pick_True', 0.0),\n",
      " ('usd_goal category_name_civic_design', -0.0),\n",
      " ('usd_goal category_name_nonfiction', -0.0),\n",
      " ('usd_goal category_name_tabletop_games', 0.0),\n",
      " ('usd_goal category_name_video_games', 0.0),\n",
      " ('spotlight_True staff_pick_True', 0.0),\n",
      " ('spotlight_True category_name_civic_design', -0.0),\n",
      " ('spotlight_True category_name_nonfiction', -0.0),\n",
      " ('spotlight_True category_name_product_design', -0.0),\n",
      " ('spotlight_True category_name_tabletop_games', -0.0),\n",
      " ('spotlight_True category_name_video_games', -0.0),\n",
      " ('staff_pick_True state_successful', 0.0),\n",
      " ('staff_pick_True category_name_civic_design', -0.0),\n",
      " ('staff_pick_True category_name_video_games', -0.0),\n",
      " ('state_successful category_name_civic_design', -0.0),\n",
      " ('state_successful category_name_nonfiction', -0.0),\n",
      " ('state_successful category_name_product_design', -0.0),\n",
      " ('state_successful category_name_tabletop_games', -0.0),\n",
      " ('state_successful category_name_video_games', -0.0),\n",
      " ('category_name_civic_design category_name_gadgets', -0.0),\n",
      " ('category_name_civic_design category_name_nonfiction', 0.0),\n",
      " ('category_name_civic_design category_name_product_design', -0.0),\n",
      " ('category_name_civic_design category_name_tabletop_games', 0.0),\n",
      " ('category_name_civic_design category_name_video_games', 0.0),\n",
      " ('category_name_gadgets category_name_nonfiction', -0.0),\n",
      " ('category_name_gadgets category_name_product_design', -0.0),\n",
      " ('category_name_gadgets category_name_tabletop_games', -0.0),\n",
      " ('category_name_gadgets category_name_video_games', -0.0),\n",
      " ('category_name_nonfiction^2', 0.0),\n",
      " ('category_name_nonfiction category_name_product_design', -0.0),\n",
      " ('category_name_nonfiction category_name_tabletop_games', 0.0),\n",
      " ('category_name_nonfiction category_name_video_games', 0.0),\n",
      " ('category_name_product_design category_name_tabletop_games', -0.0),\n",
      " ('category_name_product_design category_name_video_games', 0.0),\n",
      " ('category_name_tabletop_games category_name_video_games', 0.0),\n",
      " ('usd_goal^2', 1.4063646034758883),\n",
      " ('blurb_letter_count_average^2', 2.0482021149210583),\n",
      " ('blurb_letter_count_average', 135.32503936825213),\n",
      " ('category_name_product_design^2', 146.89450901962002),\n",
      " ('state_successful category_name_gadgets', 160.17666397474133),\n",
      " ('spotlight_True category_name_gadgets', 235.60887084255663),\n",
      " ('usd_goal state_successful', 327.09964726430553),\n",
      " ('blurb_letter_count_average category_name_product_design', 328.4950764634418),\n",
      " ('staff_pick_True^2', 341.7601429233003),\n",
      " ('category_name_gadgets^2', 552.9377186643871),\n",
      " ('blurb_letter_count_average category_name_tabletop_games', 1323.317936552251),\n",
      " ('backers_count category_name_product_design', 1345.1035551213754),\n",
      " ('backers_count category_name_nonfiction', 1396.6929536986968),\n",
      " ('staff_pick_True category_name_product_design', 1760.3989838583298),\n",
      " ('backers_count category_name_gadgets', 1924.0247785453591),\n",
      " ('backers_count blurb_letter_count_average', 2381.931842961114),\n",
      " ('backers_count spotlight_True', 2686.7980982770264),\n",
      " ('backers_count state_successful', 2790.714217406005),\n",
      " ('backers_count category_name_tabletop_games', 3506.803853881708),\n",
      " ('staff_pick_True category_name_gadgets', 4619.225089775241),\n",
      " ('usd_goal category_name_gadgets', 5568.734658836129),\n",
      " ('usd_goal category_name_product_design', 7821.807188250075),\n",
      " ('backers_count usd_goal', 8782.151916687739),\n",
      " ('backers_count', 23675.405536562044),\n",
      " ('usd_goal spotlight_True', 31782.481191830593),\n",
      " ('usd_goal', 77846.09594602001)]\n"
     ]
    }
   ],
   "source": [
    "X_scaled = ssX.fit_transform(X)\n",
    "poly_features = PolynomialFeatures(2)\n",
    "poly_ft = poly_features.fit_transform(X_scaled)\n",
    "poly_lasso = LassoCV(alphas=alpha, cv=5)\n",
    "poly_lasso.fit(poly_ft, y)\n",
    "poly_lasso_coef = poly_lasso.coef_\n",
    "poly_s = poly_lasso.score(poly_ft, y)\n",
    "poly_r = np.sqrt(mean_squared_error(y, poly_lasso.predict(poly_ft)))\n",
    "\n",
    "print('R squared', poly_s, 'RMSE:', poly_r)\n",
    "pprint.pprint(sorted(dict(zip(poly_features.get_feature_names(columns),poly_lasso_coef)).items(), key=lambda kv: kv[1]))"
   ]
  },
  {
   "cell_type": "markdown",
   "metadata": {},
   "source": [
    "Although the RMSE is lower by 5,000 dollars, the betas (coefficients) are harder to interpret. Thus, the better model is the linear regression. Below are some plots that show some correlation between the independent variables and dependent variables."
   ]
  },
  {
   "cell_type": "code",
   "execution_count": 583,
   "metadata": {},
   "outputs": [
    {
     "data": {
      "text/plain": [
       "<matplotlib.collections.PathCollection object at 0x1c2def0ef0>"
      ]
     },
     "execution_count": 583,
     "metadata": {},
     "output_type": "execute_result"
    },
    {
     "data": {
      "image/png": "[encoded data removed]",
      "text/plain": [
       "<Figure size 432x288 with 1 Axes>"
      ]
     },
     "metadata": {},
     "output_type": "display_data"
    }
   ],
   "source": [
    "plt.scatter(cleaned_df.sort_values('usd_goal')['usd_goal'][:-20],\n",
    "           cleaned_df.sort_values('usd_goal')['usd_pledged'][:-20])"
   ]
  },
  {
   "cell_type": "code",
   "execution_count": 569,
   "metadata": {},
   "outputs": [
    {
     "data": {
      "image/png": "[encoded data removed]",
      "text/plain": [
       "<Figure size 576x432 with 1 Axes>"
      ]
     },
     "metadata": {},
     "output_type": "display_data"
    }
   ],
   "source": [
    "plt.figure(figsize=(8,6))\n",
    "plt.hist(cleaned_with_dummies['usd_pledged'], range=(0,5e4),bins=50)\n",
    "plt.xlabel('USD pledged')\n",
    "plt.ylabel('Number of Projects')\n",
    "plt.title('Histogram of USD pledged')\n",
    "plt.savefig('histogram_usd_pledged.jpg', dpi = 300)"
   ]
  },
  {
   "cell_type": "code",
   "execution_count": 552,
   "metadata": {},
   "outputs": [
    {
     "data": {
      "text/plain": [
       "11.008248131578254"
      ]
     },
     "execution_count": 552,
     "metadata": {},
     "output_type": "execute_result"
    }
   ],
   "source": [
    "cleaned_with_dummies['usd_pledged'].skew()"
   ]
  },
  {
   "cell_type": "code",
   "execution_count": 567,
   "metadata": {},
   "outputs": [
    {
     "data": {
      "text/plain": [
       "50000.46092161817"
      ]
     },
     "execution_count": 567,
     "metadata": {},
     "output_type": "execute_result"
    }
   ],
   "source": [
    "cleaned_with_dummies['usd_pledged'].quantile(.96333)"
   ]
  },
  {
   "cell_type": "code",
   "execution_count": 587,
   "metadata": {},
   "outputs": [
    {
     "data": {
      "image/png": "[encoded data removed]",
      "text/plain": [
       "<Figure size 576x432 with 1 Axes>"
      ]
     },
     "metadata": {},
     "output_type": "display_data"
    }
   ],
   "source": [
    "plt.figure(figsize=(8,6))\n",
    "plt.scatter(cleaned_df.sort_values('usd_pledged')['backers_count'][:-200],\n",
    "           cleaned_df.sort_values('usd_pledged')['usd_pledged'][:-200])\n",
    "plt.xlabel('Number of backers')\n",
    "plt.ylabel('USD pledged')\n",
    "plt.title('USD pledged vs. Number of backers')\n",
    "plt.savefig('backers_usd_pledged.jpg', dpi = 300)"
   ]
  },
  {
   "cell_type": "code",
   "execution_count": null,
   "metadata": {},
   "outputs": [],
   "source": []
  }
 ],
 "metadata": {
  "kernelspec": {
   "display_name": "Python 3",
   "language": "python",
   "name": "python3"
  },
  "language_info": {
   "codemirror_mode": {
    "name": "ipython",
    "version": 3
   },
   "file_extension": ".py",
   "mimetype": "text/x-python",
   "name": "python",
   "nbconvert_exporter": "python",
   "pygments_lexer": "ipython3",
   "version": "3.6.5"
  }
 },
 "nbformat": 4,
 "nbformat_minor": 2
}
