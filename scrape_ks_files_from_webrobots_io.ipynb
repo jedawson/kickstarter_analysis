{
 "cells": [
  {
   "cell_type": "markdown",
   "metadata": {},
   "source": [
    "# scrape from the webrobots website"
   ]
  },
  {
   "cell_type": "markdown",
   "metadata": {},
   "source": [
    "This is the website to scrape: https://webrobots.io/kickstarter-datasets/"
   ]
  },
  {
   "cell_type": "code",
   "execution_count": 1,
   "metadata": {},
   "outputs": [],
   "source": [
    "from selenium import webdriver\n",
    "from selenium.webdriver.common.keys import Keys\n",
    "import time\n",
    "import os\n",
    "\n",
    "chromedriver = \"/Applications/chromedriver\"\n",
    "os.environ[\"webdriver.chrome.driver\"] = chromedriver"
   ]
  },
  {
   "cell_type": "code",
   "execution_count": 8,
   "metadata": {},
   "outputs": [],
   "source": [
    "options = webdriver.ChromeOptions()\n",
    "prefs = {\"download.default_directory\":\"/Volumes/SeagateBlue/ds_data/kickstarter\"}\n",
    "options.add_experimental_option('prefs', prefs)\n",
    "options.add_argument(\"--disable-dev-shm-usage\")\n",
    "options.add_argument(\"--no-sandbox\")"
   ]
  },
  {
   "cell_type": "code",
   "execution_count": 9,
   "metadata": {},
   "outputs": [],
   "source": [
    "driver = webdriver.Chrome(chromedriver, chrome_options=options)\n",
    "driver.get('https://webrobots.io/kickstarter-datasets/')"
   ]
  },
  {
   "cell_type": "code",
   "execution_count": 48,
   "metadata": {},
   "outputs": [],
   "source": [
    "csv_click = driver.find_elements_by_xpath('//li[a=\"CSV\"]/a[2]')"
   ]
  },
  {
   "cell_type": "code",
   "execution_count": 49,
   "metadata": {},
   "outputs": [
    {
     "name": "stdout",
     "output_type": "stream",
     "text": [
      "CSV\n",
      "CSV\n",
      "CSV\n",
      "CSV\n",
      "CSV\n",
      "CSV\n",
      "CSV\n",
      "CSV\n",
      "CSV\n",
      "CSV\n",
      "CSV\n",
      "CSV\n",
      "CSV\n",
      "CSV\n",
      "CSV\n",
      "CSV\n",
      "CSV\n",
      "CSV\n",
      "CSV\n",
      "CSV\n",
      "CSV\n",
      "CSV\n",
      "CSV\n",
      "CSV\n",
      "CSV\n",
      "CSV\n",
      "CSV\n",
      "CSV\n",
      "CSV\n",
      "CSV\n",
      "CSV\n",
      "CSV\n",
      "CSV\n",
      "CSV\n",
      "CSV\n"
     ]
    }
   ],
   "source": [
    "for x in csv_click:\n",
    "    print(x.text)"
   ]
  },
  {
   "cell_type": "code",
   "execution_count": 50,
   "metadata": {},
   "outputs": [],
   "source": [
    "for x in csv_click:\n",
    "    time.sleep(1)\n",
    "    x.click()"
   ]
  },
  {
   "cell_type": "code",
   "execution_count": 51,
   "metadata": {},
   "outputs": [],
   "source": [
    "driver.close()"
   ]
  },
  {
   "cell_type": "code",
   "execution_count": 52,
   "metadata": {},
   "outputs": [],
   "source": [
    "driver.quit()"
   ]
  },
  {
   "cell_type": "code",
   "execution_count": null,
   "metadata": {},
   "outputs": [],
   "source": []
  }
 ],
 "metadata": {
  "kernelspec": {
   "display_name": "Python 3",
   "language": "python",
   "name": "python3"
  },
  "language_info": {
   "codemirror_mode": {
    "name": "ipython",
    "version": 3
   },
   "file_extension": ".py",
   "mimetype": "text/x-python",
   "name": "python",
   "nbconvert_exporter": "python",
   "pygments_lexer": "ipython3",
   "version": "3.6.5"
  }
 },
 "nbformat": 4,
 "nbformat_minor": 2
}
