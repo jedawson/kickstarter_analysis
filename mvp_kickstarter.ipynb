{
 "cells": [
  {
   "cell_type": "markdown",
   "metadata": {},
   "source": [
    "# MVP for Kickstarter Data"
   ]
  },
  {
   "cell_type": "code",
   "execution_count": 1,
   "metadata": {},
   "outputs": [],
   "source": [
    "# Python 2 & 3 Compatibility\n",
    "from __future__ import print_function, division\n",
    "\n",
    "# Necessary imports\n",
    "import pandas as pd\n",
    "import numpy as np\n",
    "import seaborn as sns\n",
    "from sklearn.linear_model import LinearRegression\n",
    "from sklearn.model_selection import train_test_split\n",
    "from sklearn.linear_model import RidgeCV\n",
    "from sklearn.pipeline import make_pipeline\n",
    "from sklearn.preprocessing import PolynomialFeatures\n",
    "from sklearn.model_selection import KFold\n",
    "import matplotlib.pyplot as plt\n",
    "\n",
    "%matplotlib inline"
   ]
  },
  {
   "cell_type": "code",
   "execution_count": 27,
   "metadata": {},
   "outputs": [
    {
     "data": {
      "text/html": [
       "<div>\n",
       "<style scoped>\n",
       "    .dataframe tbody tr th:only-of-type {\n",
       "        vertical-align: middle;\n",
       "    }\n",
       "\n",
       "    .dataframe tbody tr th {\n",
       "        vertical-align: top;\n",
       "    }\n",
       "\n",
       "    .dataframe thead th {\n",
       "        text-align: right;\n",
       "    }\n",
       "</style>\n",
       "<table border=\"1\" class=\"dataframe\">\n",
       "  <thead>\n",
       "    <tr style=\"text-align: right;\">\n",
       "      <th></th>\n",
       "      <th>rank</th>\n",
       "      <th>country_name</th>\n",
       "      <th>gdp_ppp_pc</th>\n",
       "      <th>est_date</th>\n",
       "      <th>url_link_wiki</th>\n",
       "      <th>country_code</th>\n",
       "    </tr>\n",
       "  </thead>\n",
       "  <tbody>\n",
       "    <tr>\n",
       "      <th>0</th>\n",
       "      <td>1</td>\n",
       "      <td>Liechtenstein</td>\n",
       "      <td>139100</td>\n",
       "      <td>2009 est.</td>\n",
       "      <td>/wiki/Liechtenstein</td>\n",
       "      <td>LI</td>\n",
       "    </tr>\n",
       "    <tr>\n",
       "      <th>1</th>\n",
       "      <td>2</td>\n",
       "      <td>Qatar</td>\n",
       "      <td>124900</td>\n",
       "      <td>2017 est.</td>\n",
       "      <td>/wiki/Qatar</td>\n",
       "      <td>QA</td>\n",
       "    </tr>\n",
       "    <tr>\n",
       "      <th>2</th>\n",
       "      <td>3</td>\n",
       "      <td>Monaco</td>\n",
       "      <td>115700</td>\n",
       "      <td>2015 est.</td>\n",
       "      <td>/wiki/Monaco</td>\n",
       "      <td>MC</td>\n",
       "    </tr>\n",
       "    <tr>\n",
       "      <th>3</th>\n",
       "      <td>—</td>\n",
       "      <td>Macau</td>\n",
       "      <td>114400</td>\n",
       "      <td>2017 est.</td>\n",
       "      <td>/wiki/Macau</td>\n",
       "      <td>MO</td>\n",
       "    </tr>\n",
       "    <tr>\n",
       "      <th>4</th>\n",
       "      <td>4</td>\n",
       "      <td>Luxembourg</td>\n",
       "      <td>109100</td>\n",
       "      <td>2017 est.</td>\n",
       "      <td>/wiki/Luxembourg</td>\n",
       "      <td>LU</td>\n",
       "    </tr>\n",
       "  </tbody>\n",
       "</table>\n",
       "</div>"
      ],
      "text/plain": [
       "  rank   country_name  gdp_ppp_pc   est_date        url_link_wiki country_code\n",
       "0    1  Liechtenstein      139100  2009 est.  /wiki/Liechtenstein           LI\n",
       "1    2          Qatar      124900  2017 est.          /wiki/Qatar           QA\n",
       "2    3         Monaco      115700  2015 est.         /wiki/Monaco           MC\n",
       "3    —          Macau      114400  2017 est.          /wiki/Macau           MO\n",
       "4    4     Luxembourg      109100  2017 est.     /wiki/Luxembourg           LU"
      ]
     },
     "execution_count": 27,
     "metadata": {},
     "output_type": "execute_result"
    }
   ],
   "source": [
    "cia_table_df = pd.read_pickle('cia_table_df.pkl')\n",
    "cia_table_df.head()"
   ]
  },
  {
   "cell_type": "code",
   "execution_count": 4,
   "metadata": {},
   "outputs": [
    {
     "data": {
      "text/plain": [
       "rank             object\n",
       "country_name     object\n",
       "gdp_ppp_pc        int64\n",
       "est_date         object\n",
       "url_link_wiki    object\n",
       "country_code     object\n",
       "dtype: object"
      ]
     },
     "execution_count": 4,
     "metadata": {},
     "output_type": "execute_result"
    }
   ],
   "source": [
    "cia_table_df.dtypes"
   ]
  },
  {
   "cell_type": "code",
   "execution_count": 5,
   "metadata": {},
   "outputs": [],
   "source": [
    "kickstarter_df = pd.read_csv('kickstarter_data/Kickstarter_2018-09-13T03_20_17_777Z/Kickstarter.csv')\n"
   ]
  },
  {
   "cell_type": "code",
   "execution_count": 6,
   "metadata": {},
   "outputs": [
    {
     "data": {
      "text/html": [
       "<div>\n",
       "<style scoped>\n",
       "    .dataframe tbody tr th:only-of-type {\n",
       "        vertical-align: middle;\n",
       "    }\n",
       "\n",
       "    .dataframe tbody tr th {\n",
       "        vertical-align: top;\n",
       "    }\n",
       "\n",
       "    .dataframe thead th {\n",
       "        text-align: right;\n",
       "    }\n",
       "</style>\n",
       "<table border=\"1\" class=\"dataframe\">\n",
       "  <thead>\n",
       "    <tr style=\"text-align: right;\">\n",
       "      <th></th>\n",
       "      <th>backers_count</th>\n",
       "      <th>blurb</th>\n",
       "      <th>category</th>\n",
       "      <th>converted_pledged_amount</th>\n",
       "      <th>country</th>\n",
       "      <th>created_at</th>\n",
       "      <th>creator</th>\n",
       "      <th>currency</th>\n",
       "      <th>currency_symbol</th>\n",
       "      <th>currency_trailing_code</th>\n",
       "      <th>...</th>\n",
       "      <th>slug</th>\n",
       "      <th>source_url</th>\n",
       "      <th>spotlight</th>\n",
       "      <th>staff_pick</th>\n",
       "      <th>state</th>\n",
       "      <th>state_changed_at</th>\n",
       "      <th>static_usd_rate</th>\n",
       "      <th>urls</th>\n",
       "      <th>usd_pledged</th>\n",
       "      <th>usd_type</th>\n",
       "    </tr>\n",
       "  </thead>\n",
       "  <tbody>\n",
       "    <tr>\n",
       "      <th>0</th>\n",
       "      <td>80</td>\n",
       "      <td>If you've ever been disheartened by how some p...</td>\n",
       "      <td>{\"id\":48,\"name\":\"Nonfiction\",\"slug\":\"publishin...</td>\n",
       "      <td>3651</td>\n",
       "      <td>US</td>\n",
       "      <td>1364866426</td>\n",
       "      <td>{\"id\":101710808,\"name\":\"Neal Samudre\",\"is_regi...</td>\n",
       "      <td>USD</td>\n",
       "      <td>$</td>\n",
       "      <td>True</td>\n",
       "      <td>...</td>\n",
       "      <td>how-weve-changed-jesus-neal-samudres-debut-book</td>\n",
       "      <td>https://www.kickstarter.com/discover/categorie...</td>\n",
       "      <td>True</td>\n",
       "      <td>False</td>\n",
       "      <td>successful</td>\n",
       "      <td>1365789635</td>\n",
       "      <td>1.000000</td>\n",
       "      <td>{\"web\":{\"project\":\"https://www.kickstarter.com...</td>\n",
       "      <td>3651.000000</td>\n",
       "      <td>international</td>\n",
       "    </tr>\n",
       "    <tr>\n",
       "      <th>1</th>\n",
       "      <td>31</td>\n",
       "      <td>This book will show you how to attract your id...</td>\n",
       "      <td>{\"id\":48,\"name\":\"Nonfiction\",\"slug\":\"publishin...</td>\n",
       "      <td>326</td>\n",
       "      <td>GB</td>\n",
       "      <td>1482012501</td>\n",
       "      <td>{\"id\":270084862,\"name\":\"Scott C. Campbell\",\"is...</td>\n",
       "      <td>GBP</td>\n",
       "      <td>£</td>\n",
       "      <td>False</td>\n",
       "      <td>...</td>\n",
       "      <td>your-client-vision-book-how-to-sell-without-se...</td>\n",
       "      <td>https://www.kickstarter.com/discover/categorie...</td>\n",
       "      <td>True</td>\n",
       "      <td>False</td>\n",
       "      <td>successful</td>\n",
       "      <td>1484606700</td>\n",
       "      <td>1.247352</td>\n",
       "      <td>{\"web\":{\"project\":\"https://www.kickstarter.com...</td>\n",
       "      <td>338.032525</td>\n",
       "      <td>international</td>\n",
       "    </tr>\n",
       "    <tr>\n",
       "      <th>2</th>\n",
       "      <td>357</td>\n",
       "      <td>Our goal is to re-publish 500 old Christian bo...</td>\n",
       "      <td>{\"id\":48,\"name\":\"Nonfiction\",\"slug\":\"publishin...</td>\n",
       "      <td>22152</td>\n",
       "      <td>US</td>\n",
       "      <td>1370072751</td>\n",
       "      <td>{\"id\":280985097,\"name\":\"Luke Wilson\",\"slug\":\"l...</td>\n",
       "      <td>USD</td>\n",
       "      <td>$</td>\n",
       "      <td>True</td>\n",
       "      <td>...</td>\n",
       "      <td>500-old-christian-books-republished</td>\n",
       "      <td>https://www.kickstarter.com/discover/categorie...</td>\n",
       "      <td>True</td>\n",
       "      <td>False</td>\n",
       "      <td>successful</td>\n",
       "      <td>1374462035</td>\n",
       "      <td>1.000000</td>\n",
       "      <td>{\"web\":{\"project\":\"https://www.kickstarter.com...</td>\n",
       "      <td>22152.000000</td>\n",
       "      <td>international</td>\n",
       "    </tr>\n",
       "    <tr>\n",
       "      <th>3</th>\n",
       "      <td>74</td>\n",
       "      <td>I told my first lie when I was six and never s...</td>\n",
       "      <td>{\"id\":48,\"name\":\"Nonfiction\",\"slug\":\"publishin...</td>\n",
       "      <td>2689</td>\n",
       "      <td>CA</td>\n",
       "      <td>1475730164</td>\n",
       "      <td>{\"id\":1190486459,\"name\":\"Shamhan Bhuiyan\",\"is_...</td>\n",
       "      <td>CAD</td>\n",
       "      <td>$</td>\n",
       "      <td>True</td>\n",
       "      <td>...</td>\n",
       "      <td>the-longest-lie-i-ever-told</td>\n",
       "      <td>https://www.kickstarter.com/discover/categorie...</td>\n",
       "      <td>True</td>\n",
       "      <td>False</td>\n",
       "      <td>successful</td>\n",
       "      <td>1478626376</td>\n",
       "      <td>0.752649</td>\n",
       "      <td>{\"web\":{\"project\":\"https://www.kickstarter.com...</td>\n",
       "      <td>2709.535536</td>\n",
       "      <td>international</td>\n",
       "    </tr>\n",
       "    <tr>\n",
       "      <th>4</th>\n",
       "      <td>12</td>\n",
       "      <td>Für die Finanzierung der Veröffentlichung mein...</td>\n",
       "      <td>{\"id\":48,\"name\":\"Nonfiction\",\"slug\":\"publishin...</td>\n",
       "      <td>1205</td>\n",
       "      <td>DE</td>\n",
       "      <td>1467987217</td>\n",
       "      <td>{\"id\":679958171,\"name\":\"Franz Straubinger\",\"is...</td>\n",
       "      <td>EUR</td>\n",
       "      <td>€</td>\n",
       "      <td>False</td>\n",
       "      <td>...</td>\n",
       "      <td>spurenlesen-zur-philosophie-der-human-animal-s...</td>\n",
       "      <td>https://www.kickstarter.com/discover/categorie...</td>\n",
       "      <td>True</td>\n",
       "      <td>False</td>\n",
       "      <td>successful</td>\n",
       "      <td>1471177056</td>\n",
       "      <td>1.111358</td>\n",
       "      <td>{\"web\":{\"project\":\"https://www.kickstarter.com...</td>\n",
       "      <td>1200.266726</td>\n",
       "      <td>international</td>\n",
       "    </tr>\n",
       "  </tbody>\n",
       "</table>\n",
       "<p>5 rows × 37 columns</p>\n",
       "</div>"
      ],
      "text/plain": [
       "   backers_count                                              blurb  \\\n",
       "0             80  If you've ever been disheartened by how some p...   \n",
       "1             31  This book will show you how to attract your id...   \n",
       "2            357  Our goal is to re-publish 500 old Christian bo...   \n",
       "3             74  I told my first lie when I was six and never s...   \n",
       "4             12  Für die Finanzierung der Veröffentlichung mein...   \n",
       "\n",
       "                                            category  \\\n",
       "0  {\"id\":48,\"name\":\"Nonfiction\",\"slug\":\"publishin...   \n",
       "1  {\"id\":48,\"name\":\"Nonfiction\",\"slug\":\"publishin...   \n",
       "2  {\"id\":48,\"name\":\"Nonfiction\",\"slug\":\"publishin...   \n",
       "3  {\"id\":48,\"name\":\"Nonfiction\",\"slug\":\"publishin...   \n",
       "4  {\"id\":48,\"name\":\"Nonfiction\",\"slug\":\"publishin...   \n",
       "\n",
       "   converted_pledged_amount country  created_at  \\\n",
       "0                      3651      US  1364866426   \n",
       "1                       326      GB  1482012501   \n",
       "2                     22152      US  1370072751   \n",
       "3                      2689      CA  1475730164   \n",
       "4                      1205      DE  1467987217   \n",
       "\n",
       "                                             creator currency currency_symbol  \\\n",
       "0  {\"id\":101710808,\"name\":\"Neal Samudre\",\"is_regi...      USD               $   \n",
       "1  {\"id\":270084862,\"name\":\"Scott C. Campbell\",\"is...      GBP               £   \n",
       "2  {\"id\":280985097,\"name\":\"Luke Wilson\",\"slug\":\"l...      USD               $   \n",
       "3  {\"id\":1190486459,\"name\":\"Shamhan Bhuiyan\",\"is_...      CAD               $   \n",
       "4  {\"id\":679958171,\"name\":\"Franz Straubinger\",\"is...      EUR               €   \n",
       "\n",
       "   currency_trailing_code      ...        \\\n",
       "0                    True      ...         \n",
       "1                   False      ...         \n",
       "2                    True      ...         \n",
       "3                    True      ...         \n",
       "4                   False      ...         \n",
       "\n",
       "                                                slug  \\\n",
       "0    how-weve-changed-jesus-neal-samudres-debut-book   \n",
       "1  your-client-vision-book-how-to-sell-without-se...   \n",
       "2                500-old-christian-books-republished   \n",
       "3                        the-longest-lie-i-ever-told   \n",
       "4  spurenlesen-zur-philosophie-der-human-animal-s...   \n",
       "\n",
       "                                          source_url  spotlight staff_pick  \\\n",
       "0  https://www.kickstarter.com/discover/categorie...       True      False   \n",
       "1  https://www.kickstarter.com/discover/categorie...       True      False   \n",
       "2  https://www.kickstarter.com/discover/categorie...       True      False   \n",
       "3  https://www.kickstarter.com/discover/categorie...       True      False   \n",
       "4  https://www.kickstarter.com/discover/categorie...       True      False   \n",
       "\n",
       "        state  state_changed_at  static_usd_rate  \\\n",
       "0  successful        1365789635         1.000000   \n",
       "1  successful        1484606700         1.247352   \n",
       "2  successful        1374462035         1.000000   \n",
       "3  successful        1478626376         0.752649   \n",
       "4  successful        1471177056         1.111358   \n",
       "\n",
       "                                                urls   usd_pledged  \\\n",
       "0  {\"web\":{\"project\":\"https://www.kickstarter.com...   3651.000000   \n",
       "1  {\"web\":{\"project\":\"https://www.kickstarter.com...    338.032525   \n",
       "2  {\"web\":{\"project\":\"https://www.kickstarter.com...  22152.000000   \n",
       "3  {\"web\":{\"project\":\"https://www.kickstarter.com...   2709.535536   \n",
       "4  {\"web\":{\"project\":\"https://www.kickstarter.com...   1200.266726   \n",
       "\n",
       "        usd_type  \n",
       "0  international  \n",
       "1  international  \n",
       "2  international  \n",
       "3  international  \n",
       "4  international  \n",
       "\n",
       "[5 rows x 37 columns]"
      ]
     },
     "execution_count": 6,
     "metadata": {},
     "output_type": "execute_result"
    }
   ],
   "source": [
    "kickstarter_df.head()"
   ]
  },
  {
   "cell_type": "code",
   "execution_count": 7,
   "metadata": {},
   "outputs": [
    {
     "data": {
      "text/plain": [
       "Index(['backers_count', 'blurb', 'category', 'converted_pledged_amount',\n",
       "       'country', 'created_at', 'creator', 'currency', 'currency_symbol',\n",
       "       'currency_trailing_code', 'current_currency', 'deadline',\n",
       "       'disable_communication', 'friends', 'fx_rate', 'goal', 'id',\n",
       "       'is_backing', 'is_starrable', 'is_starred', 'launched_at', 'location',\n",
       "       'name', 'permissions', 'photo', 'pledged', 'profile', 'slug',\n",
       "       'source_url', 'spotlight', 'staff_pick', 'state', 'state_changed_at',\n",
       "       'static_usd_rate', 'urls', 'usd_pledged', 'usd_type'],\n",
       "      dtype='object')"
      ]
     },
     "execution_count": 7,
     "metadata": {},
     "output_type": "execute_result"
    }
   ],
   "source": [
    "kickstarter_df.columns"
   ]
  },
  {
   "cell_type": "code",
   "execution_count": 8,
   "metadata": {},
   "outputs": [
    {
     "data": {
      "text/plain": [
       "backers_count                 int64\n",
       "blurb                        object\n",
       "category                     object\n",
       "converted_pledged_amount      int64\n",
       "country                      object\n",
       "created_at                    int64\n",
       "creator                      object\n",
       "currency                     object\n",
       "currency_symbol              object\n",
       "currency_trailing_code         bool\n",
       "current_currency             object\n",
       "deadline                      int64\n",
       "disable_communication          bool\n",
       "friends                      object\n",
       "fx_rate                     float64\n",
       "goal                        float64\n",
       "id                            int64\n",
       "is_backing                   object\n",
       "is_starrable                   bool\n",
       "is_starred                   object\n",
       "launched_at                   int64\n",
       "location                     object\n",
       "name                         object\n",
       "permissions                  object\n",
       "photo                        object\n",
       "pledged                     float64\n",
       "profile                      object\n",
       "slug                         object\n",
       "source_url                   object\n",
       "spotlight                      bool\n",
       "staff_pick                     bool\n",
       "state                        object\n",
       "state_changed_at              int64\n",
       "static_usd_rate             float64\n",
       "urls                         object\n",
       "usd_pledged                 float64\n",
       "usd_type                     object\n",
       "dtype: object"
      ]
     },
     "execution_count": 8,
     "metadata": {},
     "output_type": "execute_result"
    }
   ],
   "source": [
    "kickstarter_df.dtypes"
   ]
  },
  {
   "cell_type": "code",
   "execution_count": 28,
   "metadata": {},
   "outputs": [
    {
     "data": {
      "text/plain": [
       "'{\"id\":2418117,\"name\":\"Harrisonburg\",\"slug\":\"harrisonburg-va\",\"short_name\":\"Harrisonburg, VA\",\"displayable_name\":\"Harrisonburg, VA\",\"localized_name\":\"Harrisonburg\",\"country\":\"US\",\"state\":\"VA\",\"type\":\"Town\",\"is_root\":false,\"urls\":{\"web\":{\"discover\":\"https://www.kickstarter.com/discover/places/harrisonburg-va\",\"location\":\"https://www.kickstarter.com/locations/harrisonburg-va\"},\"api\":{\"nearby_projects\":\"https://api.kickstarter.com/v1/discover?signature=1536866743.d32d9dbb223f430fc269a633c7f5f56a016fe689&woe_id=2418117\"}}}'"
      ]
     },
     "execution_count": 28,
     "metadata": {},
     "output_type": "execute_result"
    }
   ],
   "source": [
    "kickstarter_df['location'].iloc[0]"
   ]
  },
  {
   "cell_type": "code",
   "execution_count": 29,
   "metadata": {},
   "outputs": [
    {
     "data": {
      "text/plain": [
       "(4008, 37)"
      ]
     },
     "execution_count": 29,
     "metadata": {},
     "output_type": "execute_result"
    }
   ],
   "source": [
    "kickstarter_df.shape"
   ]
  },
  {
   "cell_type": "code",
   "execution_count": 30,
   "metadata": {},
   "outputs": [],
   "source": [
    "merged_df = pd.merge(kickstarter_df, cia_table_df, how='left', left_on='country', right_on='country_code')"
   ]
  },
  {
   "cell_type": "code",
   "execution_count": 31,
   "metadata": {},
   "outputs": [
    {
     "data": {
      "text/plain": [
       "(4008, 43)"
      ]
     },
     "execution_count": 31,
     "metadata": {},
     "output_type": "execute_result"
    }
   ],
   "source": [
    "merged_df.shape"
   ]
  },
  {
   "cell_type": "code",
   "execution_count": 32,
   "metadata": {},
   "outputs": [
    {
     "data": {
      "text/plain": [
       "Index(['backers_count', 'blurb', 'category', 'converted_pledged_amount',\n",
       "       'country', 'created_at', 'creator', 'currency', 'currency_symbol',\n",
       "       'currency_trailing_code', 'current_currency', 'deadline',\n",
       "       'disable_communication', 'friends', 'fx_rate', 'goal', 'id',\n",
       "       'is_backing', 'is_starrable', 'is_starred', 'launched_at', 'location',\n",
       "       'name', 'permissions', 'photo', 'pledged', 'profile', 'slug',\n",
       "       'source_url', 'spotlight', 'staff_pick', 'state', 'state_changed_at',\n",
       "       'static_usd_rate', 'urls', 'usd_pledged', 'usd_type', 'rank',\n",
       "       'country_name', 'gdp_ppp_pc', 'est_date', 'url_link_wiki',\n",
       "       'country_code'],\n",
       "      dtype='object')"
      ]
     },
     "execution_count": 32,
     "metadata": {},
     "output_type": "execute_result"
    }
   ],
   "source": [
    "merged_df.columns"
   ]
  },
  {
   "cell_type": "code",
   "execution_count": 40,
   "metadata": {},
   "outputs": [
    {
     "data": {
      "text/plain": [
       "backers_count                 int64\n",
       "converted_pledged_amount      int64\n",
       "created_at                    int64\n",
       "currency_trailing_code         bool\n",
       "deadline                      int64\n",
       "disable_communication          bool\n",
       "fx_rate                     float64\n",
       "goal                        float64\n",
       "id                            int64\n",
       "is_starrable                   bool\n",
       "launched_at                   int64\n",
       "pledged                     float64\n",
       "spotlight                      bool\n",
       "staff_pick                     bool\n",
       "state_changed_at              int64\n",
       "static_usd_rate             float64\n",
       "usd_pledged                 float64\n",
       "gdp_ppp_pc                    int64\n",
       "dtype: object"
      ]
     },
     "execution_count": 40,
     "metadata": {},
     "output_type": "execute_result"
    }
   ],
   "source": [
    "merged_df.dtypes[merged_df.dtypes != 'object']"
   ]
  },
  {
   "cell_type": "code",
   "execution_count": 39,
   "metadata": {},
   "outputs": [
    {
     "data": {
      "image/png": "[encoded data removed]",
      "text/plain": [
       "<Figure size 720x720 with 20 Axes>"
      ]
     },
     "metadata": {},
     "output_type": "display_data"
    }
   ],
   "source": [
    "sns.pairplot(merged_df[['backers_count', 'gdp_ppp_pc', 'usd_pledged', 'goal']]);"
   ]
  },
  {
   "cell_type": "code",
   "execution_count": 69,
   "metadata": {},
   "outputs": [
    {
     "data": {
      "text/plain": [
       "array([ 19500,  38000,  38200,  38500,  43600,  46300,  48100,  49200,\n",
       "        49600,  49900,  50200,  51300,  53600,  59500,  61000,  61400,\n",
       "        70600,  72600,  90500, 109100])"
      ]
     },
     "execution_count": 69,
     "metadata": {},
     "output_type": "execute_result"
    }
   ],
   "source": [
    "merged_df['gdp_ppp_pc'].sort_values().unique()"
   ]
  },
  {
   "cell_type": "code",
   "execution_count": 99,
   "metadata": {},
   "outputs": [
    {
     "data": {
      "text/plain": [
       "[Index(['is_starred', 'friends', 'permissions', 'is_backing', 'location'], dtype='object')]"
      ]
     },
     "execution_count": 99,
     "metadata": {},
     "output_type": "execute_result"
    }
   ],
   "source": [
    "columns_delete = merged_df.isna().sum().sort_values(ascending=False)[lambda x: x>0].axes\n",
    "columns_delete"
   ]
  },
  {
   "cell_type": "code",
   "execution_count": 100,
   "metadata": {},
   "outputs": [
    {
     "data": {
      "text/plain": [
       "['is_starred', 'friends', 'permissions', 'is_backing', 'location']"
      ]
     },
     "execution_count": 100,
     "metadata": {},
     "output_type": "execute_result"
    }
   ],
   "source": [
    "columns_delete[0].tolist()"
   ]
  },
  {
   "cell_type": "code",
   "execution_count": 101,
   "metadata": {},
   "outputs": [],
   "source": [
    "merged_df.drop(columns_delete[0].tolist(), axis=1, inplace=True)"
   ]
  },
  {
   "cell_type": "code",
   "execution_count": 103,
   "metadata": {},
   "outputs": [
    {
     "data": {
      "text/plain": [
       "Index(['backers_count', 'blurb', 'category', 'converted_pledged_amount',\n",
       "       'country', 'created_at', 'creator', 'currency', 'currency_symbol',\n",
       "       'currency_trailing_code', 'current_currency', 'deadline',\n",
       "       'disable_communication', 'fx_rate', 'goal', 'id', 'is_starrable',\n",
       "       'launched_at', 'name', 'photo', 'pledged', 'profile', 'slug',\n",
       "       'source_url', 'spotlight', 'staff_pick', 'state', 'state_changed_at',\n",
       "       'static_usd_rate', 'urls', 'usd_pledged', 'usd_type', 'rank',\n",
       "       'country_name', 'gdp_ppp_pc', 'est_date', 'url_link_wiki',\n",
       "       'country_code'],\n",
       "      dtype='object')"
      ]
     },
     "execution_count": 103,
     "metadata": {},
     "output_type": "execute_result"
    }
   ],
   "source": [
    "merged_df.columns"
   ]
  },
  {
   "cell_type": "code",
   "execution_count": 113,
   "metadata": {},
   "outputs": [],
   "source": [
    "from pandas.io.json import json_normalize\n",
    "import json"
   ]
  },
  {
   "cell_type": "code",
   "execution_count": 119,
   "metadata": {},
   "outputs": [
    {
     "data": {
      "text/plain": [
       "'publishing/nonfiction'"
      ]
     },
     "execution_count": 119,
     "metadata": {},
     "output_type": "execute_result"
    }
   ],
   "source": [
    "json.loads(merged_df['category'].iloc[0])['slug']"
   ]
  },
  {
   "cell_type": "markdown",
   "metadata": {},
   "source": [
    "The next three cells show that the slug and categories with subcategories name are the same. Since they're the same, I'll be using the name instead of the slug"
   ]
  },
  {
   "cell_type": "code",
   "execution_count": 188,
   "metadata": {},
   "outputs": [
    {
     "data": {
      "text/plain": [
       "45"
      ]
     },
     "execution_count": 188,
     "metadata": {},
     "output_type": "execute_result"
    }
   ],
   "source": [
    "category_slug = merged_df['category'].apply(lambda x: json.loads(x)['slug']) \\\n",
    "    .apply(lambda x: (x.split('/')[1] if '/' in x else x)) \\\n",
    "    .unique()\n",
    "category_slug.size"
   ]
  },
  {
   "cell_type": "code",
   "execution_count": 189,
   "metadata": {},
   "outputs": [
    {
     "data": {
      "text/plain": [
       "45"
      ]
     },
     "execution_count": 189,
     "metadata": {},
     "output_type": "execute_result"
    }
   ],
   "source": [
    "category_name = merged_df['category'].apply(lambda x: json.loads(x)['name'].lower()).unique()\n",
    "category_name.size"
   ]
  },
  {
   "cell_type": "code",
   "execution_count": 186,
   "metadata": {},
   "outputs": [
    {
     "data": {
      "text/plain": [
       "[]"
      ]
     },
     "execution_count": 186,
     "metadata": {},
     "output_type": "execute_result"
    }
   ],
   "source": [
    "[x for x in category_slug if x not in category_name]"
   ]
  },
  {
   "cell_type": "code",
   "execution_count": 134,
   "metadata": {},
   "outputs": [
    {
     "data": {
      "text/plain": [
       "count    4008.000000\n",
       "mean       19.564870\n",
       "std         4.425721\n",
       "min         1.000000\n",
       "25%        17.000000\n",
       "50%        20.000000\n",
       "75%        23.000000\n",
       "max        33.000000\n",
       "Name: blurb, dtype: float64"
      ]
     },
     "execution_count": 134,
     "metadata": {},
     "output_type": "execute_result"
    }
   ],
   "source": [
    "merged_df['blurb'].apply(lambda x: len(x.split())).describe()"
   ]
  },
  {
   "cell_type": "code",
   "execution_count": 136,
   "metadata": {},
   "outputs": [
    {
     "data": {
      "text/plain": [
       "array(['$', '£', '€', 'kr', 'Fr '], dtype=object)"
      ]
     },
     "execution_count": 136,
     "metadata": {},
     "output_type": "execute_result"
    }
   ],
   "source": [
    "merged_df['currency_symbol'].unique()"
   ]
  },
  {
   "cell_type": "code",
   "execution_count": 141,
   "metadata": {},
   "outputs": [
    {
     "data": {
      "text/plain": [
       "4008"
      ]
     },
     "execution_count": 141,
     "metadata": {},
     "output_type": "execute_result"
    }
   ],
   "source": [
    "merged_df['id'].unique().size"
   ]
  },
  {
   "cell_type": "code",
   "execution_count": 142,
   "metadata": {},
   "outputs": [
    {
     "data": {
      "text/plain": [
       "count    4008.000000\n",
       "mean        6.103792\n",
       "std         2.496157\n",
       "min         1.000000\n",
       "25%         4.000000\n",
       "50%         6.000000\n",
       "75%         8.000000\n",
       "max        12.000000\n",
       "Name: slug, dtype: float64"
      ]
     },
     "execution_count": 142,
     "metadata": {},
     "output_type": "execute_result"
    }
   ],
   "source": [
    "merged_df['slug'].apply(lambda x: len(x.split('-'))).describe()"
   ]
  },
  {
   "cell_type": "code",
   "execution_count": 149,
   "metadata": {},
   "outputs": [
    {
     "data": {
      "text/plain": [
       "True     3197\n",
       "False     811\n",
       "Name: spotlight, dtype: int64"
      ]
     },
     "execution_count": 149,
     "metadata": {},
     "output_type": "execute_result"
    }
   ],
   "source": [
    "merged_df['spotlight'].value_counts()"
   ]
  },
  {
   "cell_type": "code",
   "execution_count": 150,
   "metadata": {},
   "outputs": [
    {
     "data": {
      "text/plain": [
       "False    3415\n",
       "True      593\n",
       "Name: staff_pick, dtype: int64"
      ]
     },
     "execution_count": 150,
     "metadata": {},
     "output_type": "execute_result"
    }
   ],
   "source": [
    "merged_df['staff_pick'].value_counts()"
   ]
  },
  {
   "cell_type": "code",
   "execution_count": 151,
   "metadata": {},
   "outputs": [
    {
     "data": {
      "text/plain": [
       "successful    3197\n",
       "failed         623\n",
       "live           110\n",
       "canceled        72\n",
       "suspended        6\n",
       "Name: state, dtype: int64"
      ]
     },
     "execution_count": 151,
     "metadata": {},
     "output_type": "execute_result"
    }
   ],
   "source": [
    "merged_df['state'].value_counts()"
   ]
  },
  {
   "cell_type": "code",
   "execution_count": 152,
   "metadata": {},
   "outputs": [
    {
     "data": {
      "text/plain": [
       "international    4008\n",
       "Name: usd_type, dtype: int64"
      ]
     },
     "execution_count": 152,
     "metadata": {},
     "output_type": "execute_result"
    }
   ],
   "source": [
    "merged_df['usd_type'].value_counts()"
   ]
  },
  {
   "cell_type": "code",
   "execution_count": 190,
   "metadata": {},
   "outputs": [
    {
     "data": {
      "text/plain": [
       "US    3201\n",
       "GB     370\n",
       "CA     118\n",
       "AU      76\n",
       "DE      31\n",
       "NL      29\n",
       "SE      27\n",
       "FR      22\n",
       "ES      21\n",
       "NZ      21\n",
       "IT      20\n",
       "DK      12\n",
       "MX      11\n",
       "BE      10\n",
       "AT      10\n",
       "CH       7\n",
       "IE       6\n",
       "HK       5\n",
       "NO       4\n",
       "SG       4\n",
       "LU       3\n",
       "Name: country, dtype: int64"
      ]
     },
     "execution_count": 190,
     "metadata": {},
     "output_type": "execute_result"
    }
   ],
   "source": [
    "merged_df['country'].value_counts()"
   ]
  },
  {
   "cell_type": "code",
   "execution_count": 191,
   "metadata": {},
   "outputs": [
    {
     "data": {
      "text/plain": [
       "False    4002\n",
       "True        6\n",
       "Name: disable_communication, dtype: int64"
      ]
     },
     "execution_count": 191,
     "metadata": {},
     "output_type": "execute_result"
    }
   ],
   "source": [
    "merged_df['disable_communication'].value_counts()"
   ]
  },
  {
   "cell_type": "code",
   "execution_count": 192,
   "metadata": {},
   "outputs": [
    {
     "data": {
      "text/plain": [
       "USD    3201\n",
       "GBP     370\n",
       "EUR     152\n",
       "CAD     118\n",
       "AUD      76\n",
       "SEK      27\n",
       "NZD      21\n",
       "DKK      12\n",
       "MXN      11\n",
       "CHF       7\n",
       "HKD       5\n",
       "NOK       4\n",
       "SGD       4\n",
       "Name: currency, dtype: int64"
      ]
     },
     "execution_count": 192,
     "metadata": {},
     "output_type": "execute_result"
    }
   ],
   "source": [
    "merged_df['currency'].value_counts()"
   ]
  },
  {
   "cell_type": "code",
   "execution_count": 197,
   "metadata": {},
   "outputs": [
    {
     "data": {
      "text/plain": [
       "-8"
      ]
     },
     "execution_count": 197,
     "metadata": {},
     "output_type": "execute_result"
    }
   ],
   "source": [
    "merged_df['currency'].describe()['unique'] - merged_df['country'].describe()['unique']"
   ]
  },
  {
   "cell_type": "markdown",
   "metadata": {},
   "source": [
    "There are 8 more unique countries than currencies because countries in europe use the euro and some tiny (like Micronesia) or mismanaged (like Zimbabwe) countries use USD. Since this feature doesn't capture unique data, it will be removed."
   ]
  },
  {
   "cell_type": "code",
   "execution_count": 200,
   "metadata": {},
   "outputs": [
    {
     "data": {
      "text/plain": [
       "count      4008\n",
       "unique        2\n",
       "top       False\n",
       "freq       3901\n",
       "Name: is_starrable, dtype: object"
      ]
     },
     "execution_count": 200,
     "metadata": {},
     "output_type": "execute_result"
    }
   ],
   "source": [
    "merged_df['is_starrable'].describe()"
   ]
  },
  {
   "cell_type": "code",
   "execution_count": 198,
   "metadata": {},
   "outputs": [
    {
     "data": {
      "text/plain": [
       "Index(['backers_count', 'blurb', 'category', 'converted_pledged_amount',\n",
       "       'country', 'created_at', 'creator', 'currency', 'currency_symbol',\n",
       "       'currency_trailing_code', 'current_currency', 'deadline',\n",
       "       'disable_communication', 'fx_rate', 'goal', 'id', 'is_starrable',\n",
       "       'launched_at', 'name', 'photo', 'pledged', 'profile', 'slug',\n",
       "       'source_url', 'spotlight', 'staff_pick', 'state', 'state_changed_at',\n",
       "       'static_usd_rate', 'urls', 'usd_pledged', 'usd_type', 'rank',\n",
       "       'country_name', 'gdp_ppp_pc', 'est_date', 'url_link_wiki',\n",
       "       'country_code'],\n",
       "      dtype='object')"
      ]
     },
     "execution_count": 198,
     "metadata": {},
     "output_type": "execute_result"
    }
   ],
   "source": [
    "merged_df.columns"
   ]
  },
  {
   "cell_type": "code",
   "execution_count": 201,
   "metadata": {},
   "outputs": [
    {
     "data": {
      "text/plain": [
       "Index(['backers_count', 'blurb', 'category', 'country', 'created_at',\n",
       "       'current_currency', 'deadline', 'fx_rate', 'goal', 'id', 'launched_at',\n",
       "       'name', 'pledged', 'slug', 'spotlight', 'staff_pick', 'state',\n",
       "       'state_changed_at', 'static_usd_rate', 'usd_pledged', 'gdp_ppp_pc'],\n",
       "      dtype='object')"
      ]
     },
     "execution_count": 201,
     "metadata": {},
     "output_type": "execute_result"
    }
   ],
   "source": [
    "merged_df.drop(columns=['converted_pledged_amount', \n",
    "                        'creator', \n",
    "                        'currency', \n",
    "                        'currency_symbol', \n",
    "                        'currency_trailing_code',\n",
    "                        'current_currency',\n",
    "                        'disable_communication',\n",
    "                        'fx_rate',\n",
    "                        'is_starrable',\n",
    "                        'photo',\n",
    "                        'pledged',\n",
    "                        'profile',\n",
    "                        'source_url',\n",
    "                        'urls',\n",
    "                        'usd_type',\n",
    "                        'country_name',\n",
    "                        'rank',\n",
    "                        'est_date',\n",
    "                        'url_link_wiki',\n",
    "                        'country_code'], inplace=True)\n",
    "merged_df.columns"
   ]
  },
  {
   "cell_type": "code",
   "execution_count": 203,
   "metadata": {},
   "outputs": [
    {
     "data": {
      "text/plain": [
       "(4008, 21)"
      ]
     },
     "execution_count": 203,
     "metadata": {},
     "output_type": "execute_result"
    }
   ],
   "source": [
    "merged_df.shape"
   ]
  },
  {
   "cell_type": "code",
   "execution_count": 204,
   "metadata": {},
   "outputs": [
    {
     "data": {
      "text/plain": [
       "count    4008.000000\n",
       "mean       19.564870\n",
       "std         4.425721\n",
       "min         1.000000\n",
       "25%        17.000000\n",
       "50%        20.000000\n",
       "75%        23.000000\n",
       "max        33.000000\n",
       "Name: blurb_word_count, dtype: float64"
      ]
     },
     "execution_count": 204,
     "metadata": {},
     "output_type": "execute_result"
    }
   ],
   "source": [
    "merged_df['blurb_word_count'] = merged_df['blurb'].apply(lambda x: len(x.split()))\n",
    "merged_df['blurb_word_count'].describe()"
   ]
  },
  {
   "cell_type": "code",
   "execution_count": 207,
   "metadata": {},
   "outputs": [
    {
     "data": {
      "text/plain": [
       "count    4008.000000\n",
       "mean        6.063066\n",
       "std         0.834271\n",
       "min         3.285714\n",
       "25%         5.541667\n",
       "50%         6.000000\n",
       "75%         6.470588\n",
       "max        23.000000\n",
       "Name: blurb_letter_count_average, dtype: float64"
      ]
     },
     "execution_count": 207,
     "metadata": {},
     "output_type": "execute_result"
    }
   ],
   "source": [
    "# find out the average number of letters in a word for the blurbs\n",
    "merged_df['blurb_letter_count_average'] = merged_df.apply(lambda x: len(x['blurb'])/x['blurb_word_count'], axis=1)\n",
    "merged_df['blurb_letter_count_average'].describe()"
   ]
  },
  {
   "cell_type": "code",
   "execution_count": 255,
   "metadata": {},
   "outputs": [],
   "source": [
    "merged_df.drop(columns=['blurb'], inplace=True)"
   ]
  },
  {
   "cell_type": "code",
   "execution_count": 248,
   "metadata": {},
   "outputs": [
    {
     "data": {
      "text/plain": [
       "(3820, 23)"
      ]
     },
     "execution_count": 248,
     "metadata": {},
     "output_type": "execute_result"
    }
   ],
   "source": [
    "# remove the projects that are ongoing, suspended, or cancelled because we don't know funding values for sure\n",
    "merged_df = merged_df[(merged_df['state']=='successful') | (merged_df['state']=='failed')]\n",
    "merged_df.shape"
   ]
  },
  {
   "cell_type": "code",
   "execution_count": 295,
   "metadata": {},
   "outputs": [
    {
     "name": "stdout",
     "output_type": "stream",
     "text": [
      "count    3197.000000\n",
      "mean        0.337773\n",
      "std         5.054382\n",
      "min         0.000000\n",
      "25%         0.000000\n",
      "50%         0.016700\n",
      "75%         0.050000\n",
      "max       250.533300\n",
      "dtype: float64\n",
      "count    623.000000\n",
      "mean       0.110678\n",
      "std        0.755564\n",
      "min        0.000000\n",
      "25%        0.000000\n",
      "50%        0.000000\n",
      "75%        0.033300\n",
      "max       13.116700\n",
      "dtype: float64\n"
     ]
    }
   ],
   "source": [
    "#for successful and failed projects, the mean difference between the state_changed_at and deadline is less than a min\n",
    "#since it's less than a minute, I won't be using the state_changed_at.\n",
    "#also, the maximum for the time difference in successful projects was 250 minutes (more than 4 hours), \n",
    "#which shows that the time difference is just a rounding error since projects last for multiple days.\n",
    "print(merged_df[merged_df['state']=='successful'].apply( \\\n",
    "    lambda x: round((x['state_changed_at']-x['deadline'])/60,4), axis=1).describe())\n",
    "print(merged_df[merged_df['state']=='failed'].apply( \\\n",
    "    lambda x: max(0,round((x['state_changed_at']-x['deadline'])/60,4)), axis=1).describe())"
   ]
  },
  {
   "cell_type": "code",
   "execution_count": 267,
   "metadata": {},
   "outputs": [],
   "source": [
    "# merged_df['created_at'] = kickstarter_df['created_at']\n",
    "# merged_df['launched_at'] = kickstarter_df['launched_at']\n",
    "# merged_df['state_changed_at'] = kickstarter_df['state_changed_at']"
   ]
  },
  {
   "cell_type": "code",
   "execution_count": 296,
   "metadata": {},
   "outputs": [],
   "source": [
    "merged_df['hype_duration_days'] = merged_df.apply(lambda x: round((x['launched_at']-x['created_at'])/86400,2), axis=1)\n",
    "merged_df['campaign_duration_days'] = merged_df.apply( \\\n",
    "    lambda x: round((x['deadline']-x['launched_at'])/86400,2), axis=1)"
   ]
  },
  {
   "cell_type": "code",
   "execution_count": 297,
   "metadata": {},
   "outputs": [
    {
     "data": {
      "text/plain": [
       "Index(['backers_count', 'category', 'country', 'current_currency', 'fx_rate',\n",
       "       'goal', 'id', 'name', 'pledged', 'slug', 'spotlight', 'staff_pick',\n",
       "       'state', 'static_usd_rate', 'usd_pledged', 'gdp_ppp_pc',\n",
       "       'blurb_word_count', 'blurb_letter_count_average', 'hype_duration_days',\n",
       "       'campaign_duration_days'],\n",
       "      dtype='object')"
      ]
     },
     "execution_count": 297,
     "metadata": {},
     "output_type": "execute_result"
    }
   ],
   "source": [
    "merged_df.drop(columns=['created_at', 'launched_at', 'state_changed_at', 'deadline'], inplace=True)\n",
    "merged_df.columns"
   ]
  },
  {
   "cell_type": "code",
   "execution_count": 299,
   "metadata": {},
   "outputs": [
    {
     "data": {
      "text/plain": [
       "(19,)"
      ]
     },
     "execution_count": 299,
     "metadata": {},
     "output_type": "execute_result"
    }
   ],
   "source": [
    "merged_df.columns.shape"
   ]
  },
  {
   "cell_type": "code",
   "execution_count": 298,
   "metadata": {},
   "outputs": [],
   "source": [
    "#merged_df.drop(columns=['fx_rate'],inplace=True)"
   ]
  },
  {
   "cell_type": "code",
   "execution_count": 300,
   "metadata": {},
   "outputs": [
    {
     "data": {
      "text/plain": [
       "count    3.820000e+03\n",
       "mean     1.707378e+04\n",
       "std      1.830583e+05\n",
       "min      1.000000e+00\n",
       "25%      1.800000e+03\n",
       "50%      4.401336e+03\n",
       "75%      1.000000e+04\n",
       "max      1.000000e+07\n",
       "Name: usd_goal, dtype: float64"
      ]
     },
     "execution_count": 300,
     "metadata": {},
     "output_type": "execute_result"
    }
   ],
   "source": [
    "merged_df['usd_goal'] = merged_df['goal'] * merged_df['static_usd_rate']\n",
    "merged_df['usd_goal'].describe()"
   ]
  },
  {
   "cell_type": "code",
   "execution_count": 302,
   "metadata": {},
   "outputs": [
    {
     "data": {
      "text/plain": [
       "Index(['backers_count', 'category', 'country', 'current_currency', 'id',\n",
       "       'name', 'pledged', 'slug', 'spotlight', 'staff_pick', 'state',\n",
       "       'static_usd_rate', 'usd_pledged', 'gdp_ppp_pc', 'blurb_word_count',\n",
       "       'blurb_letter_count_average', 'hype_duration_days',\n",
       "       'campaign_duration_days', 'usd_goal'],\n",
       "      dtype='object')"
      ]
     },
     "execution_count": 302,
     "metadata": {},
     "output_type": "execute_result"
    }
   ],
   "source": [
    "merged_df.drop(columns=['goal'],inplace=True)\n",
    "merged_df.columns"
   ]
  },
  {
   "cell_type": "code",
   "execution_count": 304,
   "metadata": {},
   "outputs": [],
   "source": [
    "#merged_df.drop(columns=['current_currency'], inplace=True)"
   ]
  },
  {
   "cell_type": "code",
   "execution_count": 305,
   "metadata": {},
   "outputs": [
    {
     "data": {
      "text/plain": [
       "Index(['backers_count', 'category', 'country', 'id', 'name', 'pledged', 'slug',\n",
       "       'spotlight', 'staff_pick', 'state', 'static_usd_rate', 'usd_pledged',\n",
       "       'gdp_ppp_pc', 'blurb_word_count', 'blurb_letter_count_average',\n",
       "       'hype_duration_days', 'campaign_duration_days', 'usd_goal'],\n",
       "      dtype='object')"
      ]
     },
     "execution_count": 305,
     "metadata": {},
     "output_type": "execute_result"
    }
   ],
   "source": [
    "merged_df.columns"
   ]
  },
  {
   "cell_type": "code",
   "execution_count": 324,
   "metadata": {},
   "outputs": [],
   "source": [
    "#merged_df['slug'] = kickstarter_df['slug']"
   ]
  },
  {
   "cell_type": "code",
   "execution_count": 325,
   "metadata": {},
   "outputs": [
    {
     "data": {
      "text/plain": [
       "count    3820.000000\n",
       "mean        6.039724\n",
       "std         1.418471\n",
       "min         2.500000\n",
       "25%         5.111111\n",
       "50%         5.800000\n",
       "75%         6.666667\n",
       "max        22.000000\n",
       "Name: slug_letter_count_average, dtype: float64"
      ]
     },
     "execution_count": 325,
     "metadata": {},
     "output_type": "execute_result"
    }
   ],
   "source": [
    "merged_df['slug_word_count'] = merged_df['slug'].apply(lambda x: len(x.split('-')))\n",
    "merged_df['slug_letter_count_average'] = merged_df.apply(lambda x: len(x['slug'])/x['slug_word_count'], axis=1)\n",
    "merged_df['slug_letter_count_average'].describe()"
   ]
  },
  {
   "cell_type": "code",
   "execution_count": 326,
   "metadata": {},
   "outputs": [
    {
     "data": {
      "text/plain": [
       "Index(['backers_count', 'country', 'id', 'name', 'spotlight', 'staff_pick',\n",
       "       'state', 'static_usd_rate', 'usd_pledged', 'gdp_ppp_pc',\n",
       "       'blurb_word_count', 'blurb_letter_count_average', 'hype_duration_days',\n",
       "       'campaign_duration_days', 'usd_goal', 'slug_word_count',\n",
       "       'slug_letter_count_average', 'category_name'],\n",
       "      dtype='object')"
      ]
     },
     "execution_count": 326,
     "metadata": {},
     "output_type": "execute_result"
    }
   ],
   "source": [
    "merged_df.drop(columns=['slug'], inplace=True)\n",
    "merged_df.columns"
   ]
  },
  {
   "cell_type": "code",
   "execution_count": 309,
   "metadata": {},
   "outputs": [
    {
     "data": {
      "text/plain": [
       "Index(['backers_count', 'category', 'country', 'id', 'name', 'spotlight',\n",
       "       'staff_pick', 'state', 'static_usd_rate', 'usd_pledged', 'gdp_ppp_pc',\n",
       "       'blurb_word_count', 'blurb_letter_count_average', 'hype_duration_days',\n",
       "       'campaign_duration_days', 'usd_goal', 'slug_word_count',\n",
       "       'slug_letter_count_average'],\n",
       "      dtype='object')"
      ]
     },
     "execution_count": 309,
     "metadata": {},
     "output_type": "execute_result"
    }
   ],
   "source": [
    "#merged_df.drop(columns=['pledged'], inplace=True)\n"
   ]
  },
  {
   "cell_type": "code",
   "execution_count": 311,
   "metadata": {},
   "outputs": [
    {
     "data": {
      "text/plain": [
       "(18,)"
      ]
     },
     "execution_count": 311,
     "metadata": {},
     "output_type": "execute_result"
    }
   ],
   "source": [
    "merged_df.columns.shape"
   ]
  },
  {
   "cell_type": "code",
   "execution_count": 315,
   "metadata": {},
   "outputs": [],
   "source": [
    "merged_df['category_name'] = merged_df['category'].apply(lambda x: json.loads(x)['name'].lower().replace(' ','_'))"
   ]
  },
  {
   "cell_type": "code",
   "execution_count": 316,
   "metadata": {},
   "outputs": [
    {
     "data": {
      "text/plain": [
       "nonfiction          2352\n",
       "gadgets              164\n",
       "software             148\n",
       "comic_books          141\n",
       "theater              129\n",
       "comedy               129\n",
       "jazz                 104\n",
       "product_design        84\n",
       "web                   70\n",
       "footwear              59\n",
       "farms                 56\n",
       "people                42\n",
       "experimental          39\n",
       "science_fiction       34\n",
       "installations         34\n",
       "anthologies           31\n",
       "punk                  26\n",
       "calendars             22\n",
       "design                19\n",
       "tabletop_games        19\n",
       "family                17\n",
       "graphic_design        17\n",
       "festivals             15\n",
       "workshops             11\n",
       "art                   10\n",
       "performance_art        7\n",
       "glass                  7\n",
       "weaving                5\n",
       "electronic_music       5\n",
       "painting               4\n",
       "pet_fashion            3\n",
       "sculpture              3\n",
       "illustration           2\n",
       "video_games            2\n",
       "letterpress            2\n",
       "conceptual_art         2\n",
       "public_art             2\n",
       "plays                  1\n",
       "civic_design           1\n",
       "mixed_media            1\n",
       "digital_art            1\n",
       "Name: category_name, dtype: int64"
      ]
     },
     "execution_count": 316,
     "metadata": {},
     "output_type": "execute_result"
    }
   ],
   "source": [
    "merged_df['category_name'].value_counts()"
   ]
  },
  {
   "cell_type": "code",
   "execution_count": 317,
   "metadata": {},
   "outputs": [],
   "source": [
    "merged_df.drop(columns=['category'], inplace=True)"
   ]
  },
  {
   "cell_type": "code",
   "execution_count": 319,
   "metadata": {},
   "outputs": [
    {
     "data": {
      "text/plain": [
       "Index(['backers_count', 'country', 'id', 'name', 'spotlight', 'staff_pick',\n",
       "       'state', 'static_usd_rate', 'usd_pledged', 'gdp_ppp_pc',\n",
       "       'blurb_word_count', 'blurb_letter_count_average', 'hype_duration_days',\n",
       "       'campaign_duration_days', 'usd_goal', 'slug_word_count',\n",
       "       'slug_letter_count_average', 'category_name'],\n",
       "      dtype='object')"
      ]
     },
     "execution_count": 319,
     "metadata": {},
     "output_type": "execute_result"
    }
   ],
   "source": [
    "merged_df.columns"
   ]
  },
  {
   "cell_type": "code",
   "execution_count": 322,
   "metadata": {},
   "outputs": [
    {
     "data": {
      "text/html": [
       "<div>\n",
       "<style scoped>\n",
       "    .dataframe tbody tr th:only-of-type {\n",
       "        vertical-align: middle;\n",
       "    }\n",
       "\n",
       "    .dataframe tbody tr th {\n",
       "        vertical-align: top;\n",
       "    }\n",
       "\n",
       "    .dataframe thead th {\n",
       "        text-align: right;\n",
       "    }\n",
       "</style>\n",
       "<table border=\"1\" class=\"dataframe\">\n",
       "  <thead>\n",
       "    <tr style=\"text-align: right;\">\n",
       "      <th></th>\n",
       "      <th>backers_count</th>\n",
       "      <th>country</th>\n",
       "      <th>id</th>\n",
       "      <th>name</th>\n",
       "      <th>spotlight</th>\n",
       "      <th>staff_pick</th>\n",
       "      <th>state</th>\n",
       "      <th>static_usd_rate</th>\n",
       "      <th>usd_pledged</th>\n",
       "      <th>gdp_ppp_pc</th>\n",
       "      <th>blurb_word_count</th>\n",
       "      <th>blurb_letter_count_average</th>\n",
       "      <th>hype_duration_days</th>\n",
       "      <th>campaign_duration_days</th>\n",
       "      <th>usd_goal</th>\n",
       "      <th>slug_word_count</th>\n",
       "      <th>slug_letter_count_average</th>\n",
       "      <th>category_name</th>\n",
       "    </tr>\n",
       "  </thead>\n",
       "  <tbody>\n",
       "    <tr>\n",
       "      <th>0</th>\n",
       "      <td>80</td>\n",
       "      <td>US</td>\n",
       "      <td>62545913</td>\n",
       "      <td>\"How We've Changed Jesus\" - Neal Samudre's Deb...</td>\n",
       "      <td>True</td>\n",
       "      <td>False</td>\n",
       "      <td>successful</td>\n",
       "      <td>1.0</td>\n",
       "      <td>3651.0</td>\n",
       "      <td>59500</td>\n",
       "      <td>21</td>\n",
       "      <td>5.619048</td>\n",
       "      <td>2.8</td>\n",
       "      <td>7.88</td>\n",
       "      <td>3500.0</td>\n",
       "      <td>1</td>\n",
       "      <td>47.0</td>\n",
       "      <td>nonfiction</td>\n",
       "    </tr>\n",
       "  </tbody>\n",
       "</table>\n",
       "</div>"
      ],
      "text/plain": [
       "   backers_count country        id  \\\n",
       "0             80      US  62545913   \n",
       "\n",
       "                                                name  spotlight  staff_pick  \\\n",
       "0  \"How We've Changed Jesus\" - Neal Samudre's Deb...       True       False   \n",
       "\n",
       "        state  static_usd_rate  usd_pledged  gdp_ppp_pc  blurb_word_count  \\\n",
       "0  successful              1.0       3651.0       59500                21   \n",
       "\n",
       "   blurb_letter_count_average  hype_duration_days  campaign_duration_days  \\\n",
       "0                    5.619048                 2.8                    7.88   \n",
       "\n",
       "   usd_goal  slug_word_count  slug_letter_count_average category_name  \n",
       "0    3500.0                1                       47.0    nonfiction  "
      ]
     },
     "execution_count": 322,
     "metadata": {},
     "output_type": "execute_result"
    }
   ],
   "source": [
    "merged_df.loc[[0]]"
   ]
  },
  {
   "cell_type": "code",
   "execution_count": 329,
   "metadata": {},
   "outputs": [],
   "source": [
    "merged_df.to_pickle('merged_df.pkl')"
   ]
  },
  {
   "cell_type": "code",
   "execution_count": null,
   "metadata": {},
   "outputs": [],
   "source": []
  }
 ],
 "metadata": {
  "kernelspec": {
   "display_name": "Python 3",
   "language": "python",
   "name": "python3"
  },
  "language_info": {
   "codemirror_mode": {
    "name": "ipython",
    "version": 3
   },
   "file_extension": ".py",
   "mimetype": "text/x-python",
   "name": "python",
   "nbconvert_exporter": "python",
   "pygments_lexer": "ipython3",
   "version": "3.6.5"
  }
 },
 "nbformat": 4,
 "nbformat_minor": 2
}
