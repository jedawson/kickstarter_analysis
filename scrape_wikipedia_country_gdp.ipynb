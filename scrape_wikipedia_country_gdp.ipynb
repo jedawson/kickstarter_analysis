{
 "cells": [
  {
   "cell_type": "markdown",
   "metadata": {},
   "source": [
    "# Scrape Wikipedia for GDP per capita PPP"
   ]
  },
  {
   "cell_type": "code",
   "execution_count": 117,
   "metadata": {},
   "outputs": [],
   "source": [
    "import requests\n",
    "from bs4 import BeautifulSoup\n",
    "from bs4 import UnicodeDammit\n",
    "import pandas as pd"
   ]
  },
  {
   "cell_type": "code",
   "execution_count": 4,
   "metadata": {},
   "outputs": [],
   "source": [
    "url = 'https://en.wikipedia.org/wiki/List_of_countries_by_GDP_(PPP)_per_capita'"
   ]
  },
  {
   "cell_type": "code",
   "execution_count": 15,
   "metadata": {},
   "outputs": [
    {
     "name": "stdout",
     "output_type": "stream",
     "text": [
      "12\n"
     ]
    }
   ],
   "source": [
    "tables = pd.read_html(url, header=0)\n",
    "print(len(tables))"
   ]
  },
  {
   "cell_type": "code",
   "execution_count": 17,
   "metadata": {},
   "outputs": [
    {
     "data": {
      "text/html": [
       "<div>\n",
       "<style scoped>\n",
       "    .dataframe tbody tr th:only-of-type {\n",
       "        vertical-align: middle;\n",
       "    }\n",
       "\n",
       "    .dataframe tbody tr th {\n",
       "        vertical-align: top;\n",
       "    }\n",
       "\n",
       "    .dataframe thead th {\n",
       "        text-align: right;\n",
       "    }\n",
       "</style>\n",
       "<table border=\"1\" class=\"dataframe\">\n",
       "  <thead>\n",
       "    <tr style=\"text-align: right;\">\n",
       "      <th></th>\n",
       "      <th>Rank</th>\n",
       "      <th>Country/Territory</th>\n",
       "      <th>Int$</th>\n",
       "      <th>Year</th>\n",
       "    </tr>\n",
       "  </thead>\n",
       "  <tbody>\n",
       "    <tr>\n",
       "      <th>0</th>\n",
       "      <td>1</td>\n",
       "      <td>Liechtenstein</td>\n",
       "      <td>139100.0</td>\n",
       "      <td>2009 est.</td>\n",
       "    </tr>\n",
       "    <tr>\n",
       "      <th>1</th>\n",
       "      <td>2</td>\n",
       "      <td>Qatar</td>\n",
       "      <td>124900.0</td>\n",
       "      <td>2017 est.</td>\n",
       "    </tr>\n",
       "    <tr>\n",
       "      <th>2</th>\n",
       "      <td>3</td>\n",
       "      <td>Monaco</td>\n",
       "      <td>115700.0</td>\n",
       "      <td>2015 est.</td>\n",
       "    </tr>\n",
       "    <tr>\n",
       "      <th>3</th>\n",
       "      <td>—</td>\n",
       "      <td>Macau</td>\n",
       "      <td>114400.0</td>\n",
       "      <td>2017 est.</td>\n",
       "    </tr>\n",
       "    <tr>\n",
       "      <th>4</th>\n",
       "      <td>4</td>\n",
       "      <td>Luxembourg</td>\n",
       "      <td>109100.0</td>\n",
       "      <td>2017 est.</td>\n",
       "    </tr>\n",
       "  </tbody>\n",
       "</table>\n",
       "</div>"
      ],
      "text/plain": [
       "  Rank Country/Territory      Int$       Year\n",
       "0    1     Liechtenstein  139100.0  2009 est.\n",
       "1    2             Qatar  124900.0  2017 est.\n",
       "2    3            Monaco  115700.0  2015 est.\n",
       "3    —             Macau  114400.0  2017 est.\n",
       "4    4        Luxembourg  109100.0  2017 est."
      ]
     },
     "execution_count": 17,
     "metadata": {},
     "output_type": "execute_result"
    }
   ],
   "source": [
    "cia_gdp_ppp_capita = tables[4]\n",
    "cia_gdp_ppp_capita.head()"
   ]
  },
  {
   "cell_type": "code",
   "execution_count": 18,
   "metadata": {},
   "outputs": [],
   "source": [
    "url_country_codes = 'https://en.wikipedia.org/wiki/List_of_ISO_3166_country_codes'"
   ]
  },
  {
   "cell_type": "code",
   "execution_count": 19,
   "metadata": {},
   "outputs": [
    {
     "name": "stdout",
     "output_type": "stream",
     "text": [
      "6\n"
     ]
    }
   ],
   "source": [
    "tables_country_codes = pd.read_html(url_country_codes, header=0)\n",
    "print(len(tables_country_codes))"
   ]
  },
  {
   "cell_type": "code",
   "execution_count": 26,
   "metadata": {},
   "outputs": [
    {
     "data": {
      "text/html": [
       "<div>\n",
       "<style scoped>\n",
       "    .dataframe tbody tr th:only-of-type {\n",
       "        vertical-align: middle;\n",
       "    }\n",
       "\n",
       "    .dataframe tbody tr th {\n",
       "        vertical-align: top;\n",
       "    }\n",
       "\n",
       "    .dataframe thead th {\n",
       "        text-align: right;\n",
       "    }\n",
       "</style>\n",
       "<table border=\"1\" class=\"dataframe\">\n",
       "  <thead>\n",
       "    <tr style=\"text-align: right;\">\n",
       "      <th></th>\n",
       "      <th>country_name</th>\n",
       "      <th>official_state_name</th>\n",
       "      <th>sovereignty</th>\n",
       "      <th>alpha-2-code</th>\n",
       "      <th>alpha-3-code</th>\n",
       "      <th>numeric_code</th>\n",
       "      <th>subdivision_code_links</th>\n",
       "      <th>internet_tld</th>\n",
       "    </tr>\n",
       "  </thead>\n",
       "  <tbody>\n",
       "    <tr>\n",
       "      <th>0</th>\n",
       "      <td>Country name[9]</td>\n",
       "      <td>Alpha-2 code[9]</td>\n",
       "      <td>Alpha-3 code[9]</td>\n",
       "      <td>Numeric code[9]</td>\n",
       "      <td>Subdivision code links[3]</td>\n",
       "      <td>NaN</td>\n",
       "      <td>NaN</td>\n",
       "      <td>NaN</td>\n",
       "    </tr>\n",
       "    <tr>\n",
       "      <th>1</th>\n",
       "      <td>Afghanistan</td>\n",
       "      <td>The Islamic Republic of Afghanistan</td>\n",
       "      <td>UN member state</td>\n",
       "      <td>.mw-parser-output .monospaced{font-family:mono...</td>\n",
       "      <td>AFG</td>\n",
       "      <td>4.0</td>\n",
       "      <td>ISO 3166-2:AF</td>\n",
       "      <td>.af</td>\n",
       "    </tr>\n",
       "    <tr>\n",
       "      <th>2</th>\n",
       "      <td>Åland Islands</td>\n",
       "      <td>Åland</td>\n",
       "      <td>Finland</td>\n",
       "      <td>AX</td>\n",
       "      <td>ALA</td>\n",
       "      <td>248.0</td>\n",
       "      <td>ISO 3166-2:AX</td>\n",
       "      <td>.ax</td>\n",
       "    </tr>\n",
       "    <tr>\n",
       "      <th>3</th>\n",
       "      <td>Albania</td>\n",
       "      <td>The Republic of Albania</td>\n",
       "      <td>UN member state</td>\n",
       "      <td>AL</td>\n",
       "      <td>ALB</td>\n",
       "      <td>8.0</td>\n",
       "      <td>ISO 3166-2:AL</td>\n",
       "      <td>.al</td>\n",
       "    </tr>\n",
       "    <tr>\n",
       "      <th>4</th>\n",
       "      <td>Algeria</td>\n",
       "      <td>The People's Democratic Republic of Algeria</td>\n",
       "      <td>UN member state</td>\n",
       "      <td>DZ</td>\n",
       "      <td>DZA</td>\n",
       "      <td>12.0</td>\n",
       "      <td>ISO 3166-2:DZ</td>\n",
       "      <td>.dz</td>\n",
       "    </tr>\n",
       "    <tr>\n",
       "      <th>5</th>\n",
       "      <td>American Samoa</td>\n",
       "      <td>The Territory of American Samoa</td>\n",
       "      <td>United States</td>\n",
       "      <td>AS</td>\n",
       "      <td>ASM</td>\n",
       "      <td>16.0</td>\n",
       "      <td>ISO 3166-2:AS</td>\n",
       "      <td>.as</td>\n",
       "    </tr>\n",
       "    <tr>\n",
       "      <th>6</th>\n",
       "      <td>Andorra</td>\n",
       "      <td>The Principality of Andorra</td>\n",
       "      <td>UN member state</td>\n",
       "      <td>AD</td>\n",
       "      <td>AND</td>\n",
       "      <td>20.0</td>\n",
       "      <td>ISO 3166-2:AD</td>\n",
       "      <td>.ad</td>\n",
       "    </tr>\n",
       "    <tr>\n",
       "      <th>7</th>\n",
       "      <td>Angola</td>\n",
       "      <td>The Republic of Angola</td>\n",
       "      <td>UN member state</td>\n",
       "      <td>AO</td>\n",
       "      <td>AGO</td>\n",
       "      <td>24.0</td>\n",
       "      <td>ISO 3166-2:AO</td>\n",
       "      <td>.ao</td>\n",
       "    </tr>\n",
       "    <tr>\n",
       "      <th>8</th>\n",
       "      <td>Anguilla</td>\n",
       "      <td>Anguilla</td>\n",
       "      <td>United Kingdom</td>\n",
       "      <td>AI</td>\n",
       "      <td>AIA</td>\n",
       "      <td>660.0</td>\n",
       "      <td>ISO 3166-2:AI</td>\n",
       "      <td>.ai</td>\n",
       "    </tr>\n",
       "    <tr>\n",
       "      <th>9</th>\n",
       "      <td>Antarctica [a]</td>\n",
       "      <td>All land and ice shelves south of the 60th par...</td>\n",
       "      <td>Antarctic Treaty</td>\n",
       "      <td>AQ</td>\n",
       "      <td>ATA</td>\n",
       "      <td>10.0</td>\n",
       "      <td>ISO 3166-2:AQ</td>\n",
       "      <td>.aq</td>\n",
       "    </tr>\n",
       "  </tbody>\n",
       "</table>\n",
       "</div>"
      ],
      "text/plain": [
       "      country_name                                official_state_name  \\\n",
       "0  Country name[9]                                    Alpha-2 code[9]   \n",
       "1      Afghanistan                The Islamic Republic of Afghanistan   \n",
       "2    Åland Islands                                              Åland   \n",
       "3          Albania                            The Republic of Albania   \n",
       "4          Algeria        The People's Democratic Republic of Algeria   \n",
       "5   American Samoa                    The Territory of American Samoa   \n",
       "6          Andorra                        The Principality of Andorra   \n",
       "7           Angola                             The Republic of Angola   \n",
       "8         Anguilla                                           Anguilla   \n",
       "9   Antarctica [a]  All land and ice shelves south of the 60th par...   \n",
       "\n",
       "        sovereignty                                       alpha-2-code  \\\n",
       "0   Alpha-3 code[9]                                    Numeric code[9]   \n",
       "1   UN member state  .mw-parser-output .monospaced{font-family:mono...   \n",
       "2           Finland                                                 AX   \n",
       "3   UN member state                                                 AL   \n",
       "4   UN member state                                                 DZ   \n",
       "5     United States                                                 AS   \n",
       "6   UN member state                                                 AD   \n",
       "7   UN member state                                                 AO   \n",
       "8    United Kingdom                                                 AI   \n",
       "9  Antarctic Treaty                                                 AQ   \n",
       "\n",
       "                alpha-3-code  numeric_code subdivision_code_links internet_tld  \n",
       "0  Subdivision code links[3]           NaN                    NaN          NaN  \n",
       "1                        AFG           4.0          ISO 3166-2:AF          .af  \n",
       "2                        ALA         248.0          ISO 3166-2:AX          .ax  \n",
       "3                        ALB           8.0          ISO 3166-2:AL          .al  \n",
       "4                        DZA          12.0          ISO 3166-2:DZ          .dz  \n",
       "5                        ASM          16.0          ISO 3166-2:AS          .as  \n",
       "6                        AND          20.0          ISO 3166-2:AD          .ad  \n",
       "7                        AGO          24.0          ISO 3166-2:AO          .ao  \n",
       "8                        AIA         660.0          ISO 3166-2:AI          .ai  \n",
       "9                        ATA          10.0          ISO 3166-2:AQ          .aq  "
      ]
     },
     "execution_count": 26,
     "metadata": {},
     "output_type": "execute_result"
    }
   ],
   "source": [
    "tables_country_codes[0].head(10)"
   ]
  },
  {
   "cell_type": "code",
   "execution_count": 24,
   "metadata": {},
   "outputs": [],
   "source": [
    "tables_country_codes[0].columns = ['country_name', 'official_state_name', 'sovereignty', 'alpha-2-code',\n",
    "                                  'alpha-3-code', 'numeric_code', 'subdivision_code_links', 'internet_tld']"
   ]
  },
  {
   "cell_type": "code",
   "execution_count": 49,
   "metadata": {},
   "outputs": [],
   "source": [
    "cc_table = tables_country_codes[0].dropna()"
   ]
  },
  {
   "cell_type": "code",
   "execution_count": 50,
   "metadata": {},
   "outputs": [
    {
     "data": {
      "text/plain": [
       "(248, 8)"
      ]
     },
     "execution_count": 50,
     "metadata": {},
     "output_type": "execute_result"
    }
   ],
   "source": [
    "cc_table.shape"
   ]
  },
  {
   "cell_type": "code",
   "execution_count": 51,
   "metadata": {},
   "outputs": [
    {
     "data": {
      "text/plain": [
       "(280, 8)"
      ]
     },
     "execution_count": 51,
     "metadata": {},
     "output_type": "execute_result"
    }
   ],
   "source": [
    "tables_country_codes[0].shape"
   ]
  },
  {
   "cell_type": "code",
   "execution_count": 52,
   "metadata": {},
   "outputs": [
    {
     "data": {
      "text/html": [
       "<div>\n",
       "<style scoped>\n",
       "    .dataframe tbody tr th:only-of-type {\n",
       "        vertical-align: middle;\n",
       "    }\n",
       "\n",
       "    .dataframe tbody tr th {\n",
       "        vertical-align: top;\n",
       "    }\n",
       "\n",
       "    .dataframe thead th {\n",
       "        text-align: right;\n",
       "    }\n",
       "</style>\n",
       "<table border=\"1\" class=\"dataframe\">\n",
       "  <thead>\n",
       "    <tr style=\"text-align: right;\">\n",
       "      <th></th>\n",
       "      <th>country_name</th>\n",
       "      <th>official_state_name</th>\n",
       "      <th>sovereignty</th>\n",
       "      <th>alpha-2-code</th>\n",
       "      <th>alpha-3-code</th>\n",
       "      <th>numeric_code</th>\n",
       "      <th>subdivision_code_links</th>\n",
       "      <th>internet_tld</th>\n",
       "    </tr>\n",
       "  </thead>\n",
       "  <tbody>\n",
       "    <tr>\n",
       "      <th>1</th>\n",
       "      <td>Afghanistan</td>\n",
       "      <td>The Islamic Republic of Afghanistan</td>\n",
       "      <td>UN member state</td>\n",
       "      <td>.mw-parser-output .monospaced{font-family:mono...</td>\n",
       "      <td>AFG</td>\n",
       "      <td>4.0</td>\n",
       "      <td>ISO 3166-2:AF</td>\n",
       "      <td>.af</td>\n",
       "    </tr>\n",
       "    <tr>\n",
       "      <th>2</th>\n",
       "      <td>Åland Islands</td>\n",
       "      <td>Åland</td>\n",
       "      <td>Finland</td>\n",
       "      <td>AX</td>\n",
       "      <td>ALA</td>\n",
       "      <td>248.0</td>\n",
       "      <td>ISO 3166-2:AX</td>\n",
       "      <td>.ax</td>\n",
       "    </tr>\n",
       "    <tr>\n",
       "      <th>3</th>\n",
       "      <td>Albania</td>\n",
       "      <td>The Republic of Albania</td>\n",
       "      <td>UN member state</td>\n",
       "      <td>AL</td>\n",
       "      <td>ALB</td>\n",
       "      <td>8.0</td>\n",
       "      <td>ISO 3166-2:AL</td>\n",
       "      <td>.al</td>\n",
       "    </tr>\n",
       "    <tr>\n",
       "      <th>4</th>\n",
       "      <td>Algeria</td>\n",
       "      <td>The People's Democratic Republic of Algeria</td>\n",
       "      <td>UN member state</td>\n",
       "      <td>DZ</td>\n",
       "      <td>DZA</td>\n",
       "      <td>12.0</td>\n",
       "      <td>ISO 3166-2:DZ</td>\n",
       "      <td>.dz</td>\n",
       "    </tr>\n",
       "    <tr>\n",
       "      <th>5</th>\n",
       "      <td>American Samoa</td>\n",
       "      <td>The Territory of American Samoa</td>\n",
       "      <td>United States</td>\n",
       "      <td>AS</td>\n",
       "      <td>ASM</td>\n",
       "      <td>16.0</td>\n",
       "      <td>ISO 3166-2:AS</td>\n",
       "      <td>.as</td>\n",
       "    </tr>\n",
       "  </tbody>\n",
       "</table>\n",
       "</div>"
      ],
      "text/plain": [
       "     country_name                          official_state_name  \\\n",
       "1     Afghanistan          The Islamic Republic of Afghanistan   \n",
       "2   Åland Islands                                        Åland   \n",
       "3         Albania                      The Republic of Albania   \n",
       "4         Algeria  The People's Democratic Republic of Algeria   \n",
       "5  American Samoa              The Territory of American Samoa   \n",
       "\n",
       "       sovereignty                                       alpha-2-code  \\\n",
       "1  UN member state  .mw-parser-output .monospaced{font-family:mono...   \n",
       "2          Finland                                                 AX   \n",
       "3  UN member state                                                 AL   \n",
       "4  UN member state                                                 DZ   \n",
       "5    United States                                                 AS   \n",
       "\n",
       "  alpha-3-code  numeric_code subdivision_code_links internet_tld  \n",
       "1          AFG           4.0          ISO 3166-2:AF          .af  \n",
       "2          ALA         248.0          ISO 3166-2:AX          .ax  \n",
       "3          ALB           8.0          ISO 3166-2:AL          .al  \n",
       "4          DZA          12.0          ISO 3166-2:DZ          .dz  \n",
       "5          ASM          16.0          ISO 3166-2:AS          .as  "
      ]
     },
     "execution_count": 52,
     "metadata": {},
     "output_type": "execute_result"
    }
   ],
   "source": [
    "cc_table.head()"
   ]
  },
  {
   "cell_type": "code",
   "execution_count": 57,
   "metadata": {},
   "outputs": [
    {
     "data": {
      "text/html": [
       "<div>\n",
       "<style scoped>\n",
       "    .dataframe tbody tr th:only-of-type {\n",
       "        vertical-align: middle;\n",
       "    }\n",
       "\n",
       "    .dataframe tbody tr th {\n",
       "        vertical-align: top;\n",
       "    }\n",
       "\n",
       "    .dataframe thead th {\n",
       "        text-align: right;\n",
       "    }\n",
       "</style>\n",
       "<table border=\"1\" class=\"dataframe\">\n",
       "  <thead>\n",
       "    <tr style=\"text-align: right;\">\n",
       "      <th></th>\n",
       "      <th>country_name</th>\n",
       "      <th>official_state_name</th>\n",
       "      <th>sovereignty</th>\n",
       "      <th>alpha-2-code</th>\n",
       "      <th>alpha-3-code</th>\n",
       "      <th>numeric_code</th>\n",
       "      <th>subdivision_code_links</th>\n",
       "      <th>internet_tld</th>\n",
       "    </tr>\n",
       "  </thead>\n",
       "  <tbody>\n",
       "    <tr>\n",
       "      <th>1</th>\n",
       "      <td>Afghanistan</td>\n",
       "      <td>The Islamic Republic of Afghanistan</td>\n",
       "      <td>UN member state</td>\n",
       "      <td>AG</td>\n",
       "      <td>AFG</td>\n",
       "      <td>4.0</td>\n",
       "      <td>ISO 3166-2:AF</td>\n",
       "      <td>.af</td>\n",
       "    </tr>\n",
       "  </tbody>\n",
       "</table>\n",
       "</div>"
      ],
      "text/plain": [
       "  country_name                  official_state_name      sovereignty  \\\n",
       "1  Afghanistan  The Islamic Republic of Afghanistan  UN member state   \n",
       "\n",
       "  alpha-2-code alpha-3-code  numeric_code subdivision_code_links internet_tld  \n",
       "1           AG          AFG           4.0          ISO 3166-2:AF          .af  "
      ]
     },
     "execution_count": 57,
     "metadata": {},
     "output_type": "execute_result"
    }
   ],
   "source": [
    "cc_table.at[1, 'alpha-2-code'] = 'AG'\n",
    "cc_table.loc[cc_table['country_name']=='Afghanistan']"
   ]
  },
  {
   "cell_type": "code",
   "execution_count": 58,
   "metadata": {},
   "outputs": [
    {
     "data": {
      "text/plain": [
       "(229, 4)"
      ]
     },
     "execution_count": 58,
     "metadata": {},
     "output_type": "execute_result"
    }
   ],
   "source": [
    "cia_gdp_ppp_capita.shape"
   ]
  },
  {
   "cell_type": "code",
   "execution_count": null,
   "metadata": {},
   "outputs": [],
   "source": [
    "cia_gdp_ppp_capita.columns = ['rank', 'country_name', 'intl_dollars', 'year']"
   ]
  },
  {
   "cell_type": "code",
   "execution_count": 65,
   "metadata": {},
   "outputs": [],
   "source": [
    "name_code_gdp = cia_gdp_ppp_capita.merge(cc_table, \n",
    "                         how='left', \n",
    "                         left_on='country_name', \n",
    "                         right_on='country_name')[['country_name', 'alpha-2-code', 'intl_dollars']]"
   ]
  },
  {
   "cell_type": "code",
   "execution_count": 72,
   "metadata": {},
   "outputs": [
    {
     "data": {
      "text/plain": [
       "55"
      ]
     },
     "execution_count": 72,
     "metadata": {},
     "output_type": "execute_result"
    }
   ],
   "source": [
    "name_code_gdp['alpha-2-code'].isnull().values.sum()"
   ]
  },
  {
   "cell_type": "markdown",
   "metadata": {},
   "source": [
    "Since there are 55 of these observations that don't have any country code associated with it, the computer must follow the links to each of the wikipedia websites to get the link associated with the country. On each link, there is the country code associated with it. "
   ]
  },
  {
   "cell_type": "code",
   "execution_count": 116,
   "metadata": {},
   "outputs": [],
   "source": [
    "response = requests.get(url)\n",
    "page = response.text\n",
    "soup = BeautifulSoup(page, \"lxml\")"
   ]
  },
  {
   "cell_type": "code",
   "execution_count": 101,
   "metadata": {},
   "outputs": [],
   "source": [
    "cia_table = soup.find(string=\"Liechtenstein\").find_parent('table')"
   ]
  },
  {
   "cell_type": "code",
   "execution_count": 158,
   "metadata": {},
   "outputs": [],
   "source": [
    "cia_table_list = []\n",
    "for row in cia_table.find_all('tr'):\n",
    "    row_list = []\n",
    "    for item in row.find_all('td'):\n",
    "        row_list.append(item.text.strip().replace(u'\\xa0', u' '))\n",
    "    cia_table_list.append(row_list)\n",
    "#remove the first row because it was 'th' instead of 'tr'\n",
    "cia_table_list = cia_table_list[1:]"
   ]
  },
  {
   "cell_type": "code",
   "execution_count": 124,
   "metadata": {},
   "outputs": [
    {
     "data": {
      "text/plain": [
       "['/wiki/Liechtenstein',\n",
       " '/wiki/Qatar',\n",
       " '/wiki/Monaco',\n",
       " '/wiki/Macau',\n",
       " '/wiki/Luxembourg',\n",
       " '/wiki/Falkland_Islands',\n",
       " '/wiki/Singapore',\n",
       " '/wiki/Bermuda',\n",
       " '/wiki/Isle_of_Man',\n",
       " '/wiki/Brunei',\n",
       " '/wiki/Republic_of_Ireland',\n",
       " '/wiki/Norway',\n",
       " '/wiki/Kuwait',\n",
       " '/wiki/United_Arab_Emirates',\n",
       " '/wiki/Sint_Maarten',\n",
       " '/wiki/Gibraltar',\n",
       " '/wiki/Switzerland',\n",
       " '/wiki/Hong_Kong',\n",
       " '/wiki/San_Marino',\n",
       " '/wiki/United_States',\n",
       " '/wiki/Saudi_Arabia',\n",
       " '/wiki/Netherlands',\n",
       " '/wiki/Guernsey',\n",
       " '/wiki/Iceland',\n",
       " '/wiki/Bahrain',\n",
       " '/wiki/Sweden',\n",
       " '/wiki/Germany',\n",
       " '/wiki/Australia',\n",
       " '/wiki/Andorra',\n",
       " '/wiki/Taiwan',\n",
       " '/wiki/Denmark',\n",
       " '/wiki/Jersey',\n",
       " '/wiki/Austria',\n",
       " '/wiki/Canada',\n",
       " '/wiki/Belgium',\n",
       " '/wiki/Oman',\n",
       " '/wiki/Finland',\n",
       " '/wiki/Cayman_Islands',\n",
       " '/wiki/France',\n",
       " '/wiki/United_Kingdom',\n",
       " '/wiki/Japan',\n",
       " '/wiki/Malta',\n",
       " '/wiki/British_Virgin_Islands',\n",
       " '/wiki/Faroe_Islands',\n",
       " '/wiki/South_Korea',\n",
       " '/wiki/New_Zealand',\n",
       " '/wiki/Spain',\n",
       " '/wiki/Italy',\n",
       " '/wiki/Puerto_Rico',\n",
       " '/wiki/Greenland',\n",
       " '/wiki/Cyprus',\n",
       " '/wiki/Israel',\n",
       " '/wiki/United_States_Virgin_Islands',\n",
       " '/wiki/Czech_Republic',\n",
       " '/wiki/Equatorial_Guinea',\n",
       " '/wiki/Saint_Pierre_and_Miquelon',\n",
       " '/wiki/Slovenia',\n",
       " '/wiki/Slovakia',\n",
       " '/wiki/Lithuania',\n",
       " '/wiki/Estonia',\n",
       " '/wiki/Trinidad_and_Tobago',\n",
       " '/wiki/New_Caledonia',\n",
       " '/wiki/Guam',\n",
       " '/wiki/Portugal',\n",
       " '/wiki/Poland',\n",
       " '/wiki/Turks_and_Caicos_Islands',\n",
       " '/wiki/Seychelles',\n",
       " '/wiki/Hungary',\n",
       " '/wiki/Malaysia',\n",
       " '/wiki/Russia',\n",
       " '/wiki/Greece',\n",
       " '/wiki/Latvia',\n",
       " '/wiki/Saint_Kitts_and_Nevis',\n",
       " '/wiki/Turkey',\n",
       " '/wiki/Antigua_and_Barbuda',\n",
       " '/wiki/Kazakhstan',\n",
       " '/wiki/Aruba',\n",
       " '/wiki/The_Bahamas',\n",
       " '/wiki/Chile',\n",
       " '/wiki/Panama',\n",
       " '/wiki/Croatia',\n",
       " '/wiki/Romania',\n",
       " '/wiki/Uruguay',\n",
       " '/wiki/Bulgaria',\n",
       " '/wiki/Mauritius',\n",
       " '/wiki/Argentina',\n",
       " '/wiki/Iran',\n",
       " '/wiki/Mexico',\n",
       " '/wiki/Lebanon',\n",
       " '/wiki/Gabon',\n",
       " '/wiki/Collectivity_of_Saint_Martin',\n",
       " '/wiki/Maldives',\n",
       " '/wiki/Turkmenistan',\n",
       " '/wiki/Belarus',\n",
       " '/wiki/Botswana',\n",
       " '/wiki/Thailand',\n",
       " '/wiki/Barbados',\n",
       " '/wiki/Azerbaijan',\n",
       " '/wiki/Montenegro',\n",
       " '/wiki/Costa_Rica',\n",
       " '/wiki/Iraq',\n",
       " '/wiki/French_Polynesia',\n",
       " '/wiki/Dominican_Republic',\n",
       " '/wiki/Palau',\n",
       " '/wiki/China',\n",
       " '/wiki/Brazil',\n",
       " '/wiki/Serbia',\n",
       " '/wiki/Republic_of_Macedonia',\n",
       " '/wiki/Algeria',\n",
       " '/wiki/Cura%C3%A7ao',\n",
       " '/wiki/Grenada',\n",
       " '/wiki/Colombia',\n",
       " '/wiki/Suriname',\n",
       " '/wiki/Saint_Lucia',\n",
       " '/wiki/South_Africa',\n",
       " '/wiki/Northern_Mariana_Islands',\n",
       " '/wiki/Peru',\n",
       " '/wiki/Egypt',\n",
       " '/wiki/American_Samoa',\n",
       " '/wiki/Sri_Lanka',\n",
       " '/wiki/Mongolia',\n",
       " '/wiki/Jordan',\n",
       " '/wiki/Albania',\n",
       " '/wiki/Indonesia',\n",
       " '/wiki/Venezuela',\n",
       " '/wiki/Cook_Islands',\n",
       " '/wiki/Nauru',\n",
       " '/wiki/Anguilla',\n",
       " '/wiki/Dominica',\n",
       " '/wiki/Tunisia',\n",
       " '/wiki/Cuba',\n",
       " '/wiki/Saint_Vincent_and_the_Grenadines',\n",
       " '/wiki/Namibia',\n",
       " '/wiki/Bosnia_and_Herzegovina',\n",
       " '/wiki/Ecuador',\n",
       " '/wiki/Georgia_(country)',\n",
       " '/wiki/Kosovo',\n",
       " '/wiki/Fiji',\n",
       " '/wiki/Swaziland',\n",
       " '/wiki/Paraguay',\n",
       " '/wiki/Libya',\n",
       " '/wiki/Jamaica',\n",
       " '/wiki/Armenia',\n",
       " '/wiki/El_Salvador',\n",
       " '/wiki/Ukraine',\n",
       " '/wiki/Bhutan',\n",
       " '/wiki/Morocco',\n",
       " '/wiki/Montserrat',\n",
       " '/wiki/Guyana',\n",
       " '/wiki/Belize',\n",
       " '/wiki/Guatemala',\n",
       " '/wiki/Philippines',\n",
       " '/wiki/Saint_Helena,_Ascension_and_Tristan_da_Cunha',\n",
       " '/wiki/Bolivia',\n",
       " '/wiki/Laos',\n",
       " '/wiki/India',\n",
       " '/wiki/Uzbekistan',\n",
       " '/wiki/Vietnam',\n",
       " '/wiki/Cape_Verde',\n",
       " '/wiki/Angola',\n",
       " '/wiki/Republic_of_the_Congo',\n",
       " '/wiki/Myanmar',\n",
       " '/wiki/Nigeria',\n",
       " '/wiki/Nicaragua',\n",
       " '/wiki/Niue',\n",
       " '/wiki/Moldova',\n",
       " '/wiki/Samoa',\n",
       " '/wiki/Tonga',\n",
       " '/wiki/Honduras',\n",
       " '/wiki/Pakistan',\n",
       " '/wiki/East_Timor',\n",
       " '/wiki/Ghana',\n",
       " '/wiki/Sudan',\n",
       " '/wiki/Mauritania',\n",
       " '/wiki/State_of_Palestine',\n",
       " '/wiki/Bangladesh',\n",
       " '/wiki/Cambodia',\n",
       " '/wiki/Zambia',\n",
       " '/wiki/Lesotho',\n",
       " '/wiki/Ivory_Coast',\n",
       " '/wiki/Tuvalu',\n",
       " '/wiki/Papua_New_Guinea',\n",
       " '/wiki/Wallis_and_Futuna',\n",
       " '/wiki/Kyrgyzstan',\n",
       " '/wiki/Djibouti',\n",
       " '/wiki/Kenya',\n",
       " '/wiki/Cameroon',\n",
       " '/wiki/Marshall_Islands',\n",
       " '/wiki/Federated_States_of_Micronesia',\n",
       " '/wiki/Tanzania',\n",
       " '/wiki/S%C3%A3o_Tom%C3%A9_and_Pr%C3%ADncipe',\n",
       " '/wiki/Tajikistan',\n",
       " '/wiki/Syria',\n",
       " '/wiki/Vanuatu',\n",
       " '/wiki/Nepal',\n",
       " '/wiki/Senegal',\n",
       " '/wiki/Western_Sahara',\n",
       " '/wiki/Chad',\n",
       " '/wiki/Uganda',\n",
       " '/wiki/Zimbabwe',\n",
       " '/wiki/Yemen',\n",
       " '/wiki/Mali',\n",
       " '/wiki/Benin',\n",
       " '/wiki/Rwanda',\n",
       " '/wiki/Ethiopia',\n",
       " '/wiki/Solomon_Islands',\n",
       " '/wiki/Guinea',\n",
       " '/wiki/Burkina_Faso',\n",
       " '/wiki/Kiribati',\n",
       " '/wiki/Afghanistan',\n",
       " '/wiki/Sierra_Leone',\n",
       " '/wiki/Guinea-Bissau',\n",
       " '/wiki/Haiti',\n",
       " '/wiki/North_Korea',\n",
       " '/wiki/The_Gambia',\n",
       " '/wiki/Togo',\n",
       " '/wiki/Madagascar',\n",
       " '/wiki/Comoros',\n",
       " '/wiki/South_Sudan',\n",
       " '/wiki/Eritrea',\n",
       " '/wiki/Mozambique',\n",
       " '/wiki/Niger',\n",
       " '/wiki/Malawi',\n",
       " '/wiki/Tokelau',\n",
       " '/wiki/Liberia',\n",
       " '/wiki/Democratic_Republic_of_the_Congo',\n",
       " '/wiki/Burundi',\n",
       " '/wiki/Central_African_Republic',\n",
       " '/wiki/Somalia']"
      ]
     },
     "execution_count": 124,
     "metadata": {},
     "output_type": "execute_result"
    }
   ],
   "source": [
    "cia_table_links = [each['href'] for each in cia_table.find_all('a')]\n",
    "cia_table_links"
   ]
  },
  {
   "cell_type": "code",
   "execution_count": 159,
   "metadata": {},
   "outputs": [
    {
     "name": "stdout",
     "output_type": "stream",
     "text": [
      "[['1', 'Liechtenstein', '139,100', '2009 est.', '/wiki/Liechtenstein'], ['2', 'Qatar', '124,900', '2017 est.', '/wiki/Qatar'], ['3', 'Monaco', '115,700', '2015 est.', '/wiki/Monaco'], ['—', 'Macau', '114,400', '2017 est.', '/wiki/Macau'], ['4', 'Luxembourg', '109,100', '2017 est.', '/wiki/Luxembourg'], ['—', 'Falkland Islands', '96,200', '2012 est.', '/wiki/Falkland_Islands'], ['5', 'Singapore', '90,500', '2017 est.', '/wiki/Singapore'], ['—', 'Bermuda', '85,700', '2013 est.', '/wiki/Bermuda'], ['—', 'Isle of Man', '84,600', '2014 est.', '/wiki/Isle_of_Man'], ['6', 'Brunei', '76,700', '2017 est.', '/wiki/Brunei'], ['7', 'Ireland', '72,600', '2017 est.', '/wiki/Republic_of_Ireland'], ['8', 'Norway', '70,600', '2017 est.', '/wiki/Norway'], ['9', 'Kuwait', '69,700', '2017 est.', '/wiki/Kuwait'], ['10', 'United Arab Emirates', '68,200', '2017 est.', '/wiki/United_Arab_Emirates'], ['—', 'Sint Maarten', '66,800', '2014 est.', '/wiki/Sint_Maarten'], ['—', 'Gibraltar', '61,700', '2014 est.', '/wiki/Gibraltar'], ['11', 'Switzerland', '61,400', '2017 est.', '/wiki/Switzerland'], ['—', 'Hong Kong', '61,000', '2017 est.', '/wiki/Hong_Kong'], ['12', 'San Marino', '59,500', '2017 est.', '/wiki/San_Marino'], ['13', 'United States', '59,500', '2017 est.', '/wiki/United_States'], ['14', 'Saudi Arabia', '55,300', '2017 est.', '/wiki/Saudi_Arabia'], ['15', 'Netherlands', '53,600', '2017 est.', '/wiki/Netherlands'], ['—', 'Guernsey', '52,500', '2014 est.', '/wiki/Guernsey'], ['16', 'Iceland', '52,100', '2017 est.', '/wiki/Iceland'], ['17', 'Bahrain', '51,800', '2017 est.', '/wiki/Bahrain'], ['18', 'Sweden', '51,300', '2017 est.', '/wiki/Sweden'], ['19', 'Germany', '50,200', '2017 est.', '/wiki/Germany'], ['20', 'Australia', '49,900', '2017 est.', '/wiki/Australia'], ['21', 'Andorra', '49,900', '2015 est.', '/wiki/Andorra'], ['22', 'Taiwan', '49,800', '2017 est.', '/wiki/Taiwan'], ['23', 'Denmark', '49,600', '2017 est.', '/wiki/Denmark'], ['—', 'Jersey', '49,500', '2015 est.', '/wiki/Jersey'], ['24', 'Austria', '49,200', '2017 est.', '/wiki/Austria'], ['25', 'Canada', '48,100', '2017 est.', '/wiki/Canada'], ['26', 'Belgium', '46,300', '2017 est.', '/wiki/Belgium'], ['27', 'Oman', '45,500', '2017 est.', '/wiki/Oman'], ['28', 'Finland', '44,000', '2017 est.', '/wiki/Finland'], ['—', 'Cayman Islands', '43,800', '2004 est.', '/wiki/Cayman_Islands'], ['29', 'France', '43,600', '2017 est.', '/wiki/France'], ['30', 'United Kingdom', '43,600', '2017 est.', '/wiki/United_Kingdom'], ['31', 'Japan', '42,700', '2017 est.', '/wiki/Japan'], ['32', 'Malta', '42,500', '2017 est.', '/wiki/Malta'], ['—', 'British Virgin Islands', '42,300', '2010 est.', '/wiki/British_Virgin_Islands'], ['—', 'Faroe Islands', '40,000', '2014 est.', '/wiki/Faroe_Islands'], ['33', 'South Korea', '39,400', '2017 est.', '/wiki/South_Korea'], ['34', 'New Zealand', '38,500', '2017 est.', '/wiki/New_Zealand'], ['35', 'Spain', '38,200', '2017 est.', '/wiki/Spain'], ['36', 'Italy', '38,000', '2017 est.', '/wiki/Italy'], ['—', 'Puerto Rico', '37,900', '2017 est.', '/wiki/Puerto_Rico'], ['—', 'Greenland', '37,600', '2015 est.', '/wiki/Greenland'], ['37', 'Cyprus', '36,600', '2017 est.', '/wiki/Cyprus'], ['38', 'Israel', '36,200', '2017 est.', '/wiki/Israel'], ['—', 'US Virgin Islands', '36,100', '2013 est.', '/wiki/United_States_Virgin_Islands'], ['39', 'Czech Republic', '35,200', '2017 est.', '/wiki/Czech_Republic'], ['40', 'Equatorial Guinea', '34,900', '2017 est.', '/wiki/Equatorial_Guinea'], ['—', 'Saint Pierre and Miquelon', '34,900', '2006 est.', '/wiki/Saint_Pierre_and_Miquelon'], ['41', 'Slovenia', '34,100', '2017 est.', '/wiki/Slovenia'], ['42', 'Slovakia', '32,900', '2017 est.', '/wiki/Slovakia'], ['43', 'Lithuania', '31,900', '2017 est.', '/wiki/Lithuania'], ['44', 'Estonia', '31,500', '2017 est.', '/wiki/Estonia'], ['45', 'Trinidad and Tobago', '31,200', '2017 est.', '/wiki/Trinidad_and_Tobago'], ['—', 'New Caledonia', '31,100', '2015 est.', '/wiki/New_Caledonia'], ['—', 'Guam', '30,500', '2013 est.', '/wiki/Guam'], ['46', 'Portugal', '30,300', '2017 est.', '/wiki/Portugal'], ['47', 'Poland', '29,300', '2017 est.', '/wiki/Poland'], ['—', 'Turks and Caicos Islands', '29,100', '2007 est.', '/wiki/Turks_and_Caicos_Islands'], ['48', 'Seychelles', '28,900', '2017 est.', '/wiki/Seychelles'], ['49', 'Hungary', '28,900', '2017 est.', '/wiki/Hungary'], ['50', 'Malaysia', '28,900', '2017 est.', '/wiki/Malaysia'], ['51', 'Russia', '27,900', '2017 est.', '/wiki/Russia'], ['52', 'Greece', '27,800', '2017 est.', '/wiki/Greece'], ['53', 'Latvia', '27,300', '2017 est.', '/wiki/Latvia'], ['54', 'Saint Kitts and Nevis', '26,800', '2017 est.', '/wiki/Saint_Kitts_and_Nevis'], ['55', 'Turkey', '26,500', '2017 est.', '/wiki/Turkey'], ['56', 'Antigua and Barbuda', '26,300', '2017 est.', '/wiki/Antigua_and_Barbuda'], ['57', 'Kazakhstan', '26,100', '2017 est.', '/wiki/Kazakhstan'], ['—', 'Aruba', '25,300', '2011 est.', '/wiki/Aruba'], ['58', 'The Bahamas', '25,100', '2017 est.', '/wiki/The_Bahamas'], ['59', 'Chile', '24,600', '2017 est.', '/wiki/Chile'], ['60', 'Panama', '24,300', '2017 est.', '/wiki/Panama'], ['61', 'Croatia', '24,100', '2017 est.', '/wiki/Croatia'], ['62', 'Romania', '24,000', '2017 est.', '/wiki/Romania'], ['63', 'Uruguay', '22,400', '2017 est.', '/wiki/Uruguay'], ['64', 'Bulgaria', '21,600', '2017 est.', '/wiki/Bulgaria'], ['65', 'Mauritius', '21,600', '2017 est.', '/wiki/Mauritius'], ['66', 'Argentina', '20,700', '2017 est.', '/wiki/Argentina'], ['67', 'Iran', '20,000', '2017 est.', '/wiki/Iran'], ['68', 'Mexico', '19,500', '2017 est.', '/wiki/Mexico'], ['69', 'Lebanon', '19,500', '2017 est.', '/wiki/Lebanon'], ['70', 'Gabon', '19,300', '2017 est.', '/wiki/Gabon'], ['—', 'Saint Martin', '19,300', '2005 est.', '/wiki/Collectivity_of_Saint_Martin'], ['71', 'Maldives', '19,200', '2017 est.', '/wiki/Maldives'], ['72', 'Turkmenistan', '18,700', '2017 est.', '/wiki/Turkmenistan'], ['73', 'Belarus', '18,600', '2017 est.', '/wiki/Belarus'], ['74', 'Botswana', '18,100', '2017 est.', '/wiki/Botswana'], ['75', 'Thailand', '17,800', '2017 est.', '/wiki/Thailand'], ['76', 'Barbados', '17,500', '2017 est.', '/wiki/Barbados'], ['77', 'Azerbaijan', '17,400', '2017 est.', '/wiki/Azerbaijan'], ['78', 'Montenegro', '17,400', '2017 est.', '/wiki/Montenegro'], ['79', 'Costa Rica', '17,200', '2017 est.', '/wiki/Costa_Rica'], ['80', 'Iraq', '17,000', '2017 est.', '/wiki/Iraq'], ['—', 'French Polynesia', '17,000', '2015 est.', '/wiki/French_Polynesia'], ['81', 'Dominican Republic', '17,000', '2017 est.', '/wiki/Dominican_Republic'], ['82', 'Palau', '16,700', '2017 est.', '/wiki/Palau'], ['83', 'China', '16,600', '2017 est.', '/wiki/China'], ['84', 'Brazil', '15,500', '2017 est.', '/wiki/Brazil'], ['85', 'Serbia', '15,200', '2017 est.', '/wiki/Serbia'], ['86', 'Macedonia', '15,200', '2017 est.', '/wiki/Republic_of_Macedonia'], ['87', 'Algeria', '15,100', '2017 est.', '/wiki/Algeria'], ['—', 'Curaçao', '15,000', '2004 est.', '/wiki/Cura%C3%A7ao'], ['88', 'Grenada', '14,700', '2017 est.', '/wiki/Grenada'], ['89', 'Colombia', '14,500', '2017 est.', '/wiki/Colombia'], ['90', 'Suriname', '13,900', '2017 est.', '/wiki/Suriname'], ['91', 'Saint Lucia', '13,500', '2017 est.', '/wiki/Saint_Lucia'], ['92', 'South Africa', '13,400', '2017 est.', '/wiki/South_Africa'], ['—', 'Northern Mariana Islands', '13,300', '2013 est.', '/wiki/Northern_Mariana_Islands'], ['93', 'Peru', '13,300', '2017 est.', '/wiki/Peru'], ['94', 'Egypt', '13,000', '2017 est.', '/wiki/Egypt'], ['—', 'American Samoa', '13,000', '2013 est.', '/wiki/American_Samoa'], ['95', 'Sri Lanka', '13,000', '2017 est.', '/wiki/Sri_Lanka'], ['96', 'Mongolia', '12,600', '2017 est.', '/wiki/Mongolia'], ['97', 'Jordan', '12,500', '2017 est.', '/wiki/Jordan'], ['98', 'Albania', '12,500', '2017 est.', '/wiki/Albania'], ['99', 'Indonesia', '12,400', '2017 est.', '/wiki/Indonesia'], ['100', 'Venezuela', '12,400', '2017 est.', '/wiki/Venezuela'], ['101', 'Cook Islands', '12,300', '2010 est.', '/wiki/Cook_Islands'], ['102', 'Nauru', '12,200', '2017 est.', '/wiki/Nauru'], ['—', 'Anguilla', '12,200', '2008 est.', '/wiki/Anguilla'], ['103', 'Dominica', '12,000', '2017 est.', '/wiki/Dominica'], ['104', 'Tunisia', '12,000', '2017 est.', '/wiki/Tunisia'], ['105', 'Cuba', '11,900', '2016 est.', '/wiki/Cuba'], ['106', 'Saint Vincent and the Grenadines', '11,600', '2017 est.', '/wiki/Saint_Vincent_and_the_Grenadines'], ['107', 'Namibia', '11,500', '2017 est.', '/wiki/Namibia'], ['108', 'Bosnia and Herzegovina', '11,400', '2017 est.', '/wiki/Bosnia_and_Herzegovina'], ['109', 'Ecuador', '11,200', '2017 est.', '/wiki/Ecuador'], ['110', 'Georgia', '10,600', '2017 est.', '/wiki/Georgia_(country)'], ['—', 'Kosovo', '10,400', '2017 est.', '/wiki/Kosovo'], ['111', 'Fiji', '9,900', '2017 est.', '/wiki/Fiji'], ['112', 'Swaziland', '9,900', '2017 est.', '/wiki/Swaziland'], ['113', 'Paraguay', '9,800', '2017 est.', '/wiki/Paraguay'], ['114', 'Libya', '9,800', '2017 est.', '/wiki/Libya'], ['115', 'Jamaica', '9,200', '2017 est.', '/wiki/Jamaica'], ['116', 'Armenia', '9,100', '2017 est.', '/wiki/Armenia'], ['117', 'El Salvador', '8,900', '2017 est.', '/wiki/El_Salvador'], ['118', 'Ukraine', '8,700', '2017 est.', '/wiki/Ukraine'], ['119', 'Bhutan', '8,700', '2017 est.', '/wiki/Bhutan'], ['120', 'Morocco', '8,600', '2017 est.', '/wiki/Morocco'], ['—', 'Montserrat', '8,500', '2006 est.', '/wiki/Montserrat'], ['121', 'Guyana', '8,300', '2017 est.', '/wiki/Guyana'], ['122', 'Belize', '8,300', '2017 est.', '/wiki/Belize'], ['123', 'Guatemala', '8,200', '2017 est.', '/wiki/Guatemala'], ['124', 'Philippines', '8,200', '2017 est.', '/wiki/Philippines'], ['—', 'Saint Helena, Ascensionand Tristan da Cunha', '7,800', '2010 est.', '/wiki/Saint_Helena,_Ascension_and_Tristan_da_Cunha'], ['125', 'Bolivia', '7,500', '2017 est.', '/wiki/Bolivia'], ['126', 'Laos', '7,400', '2017 est.', '/wiki/Laos'], ['127', 'India', '7,200', '2017 est.', '/wiki/India'], ['128', 'Uzbekistan', '7,000', '2017 est.', '/wiki/Uzbekistan'], ['129', 'Vietnam', '6,900', '2017 est.', '/wiki/Vietnam'], ['130', 'Cape Verde', '6,900', '2017 est.', '/wiki/Cape_Verde'], ['131', 'Angola', '6,800', '2017 est.', '/wiki/Angola'], ['132', 'Congo, Rep.', '6,700', '2017 est.', '/wiki/Republic_of_the_Congo'], ['133', 'Myanmar', '6,300', '2017 est.', '/wiki/Myanmar'], ['134', 'Nigeria', '5,900', '2017 est.', '/wiki/Nigeria'], ['135', 'Nicaragua', '5,800', '2015 est.', '/wiki/Nicaragua'], ['136', 'Niue', '5,800', '2003 est.', '/wiki/Niue'], ['137', 'Moldova', '5,700', '2017 est.', '/wiki/Moldova'], ['138', 'Samoa', '5,700', '2017 est.', '/wiki/Samoa'], ['139', 'Tonga', '5,600', '2017 est.', '/wiki/Tonga'], ['140', 'Honduras', '5,500', '2017 est.', '/wiki/Honduras'], ['141', 'Pakistan', '5,400', '2017 est.', '/wiki/Pakistan'], ['142', 'Timor-Leste', '5,000', '2017 est.', '/wiki/East_Timor'], ['143', 'Ghana', '4,600', '2017 est.', '/wiki/Ghana'], ['144', 'Sudan', '4,600', '2017 est.', '/wiki/Sudan'], ['145', 'Mauritania', '4,500', '2017 est.', '/wiki/Mauritania'], ['146', 'State of Palestine', '4,300', '2014 est.', '/wiki/State_of_Palestine'], ['147', 'Bangladesh', '4,200', '2017 est.', '/wiki/Bangladesh'], ['148', 'Cambodia', '4,000', '2017 est.', '/wiki/Cambodia'], ['149', 'Zambia', '4,000', '2017 est.', '/wiki/Zambia'], ['150', 'Lesotho', '3,900', '2017 est.', '/wiki/Lesotho'], ['151', \"Côte d'Ivoire\", '3,900', '2017 est.', '/wiki/Ivory_Coast'], ['152', 'Tuvalu', '3,800', '2017 est.', '/wiki/Tuvalu'], ['153', 'Papua New Guinea', '3,800', '2017 est.', '/wiki/Papua_New_Guinea'], ['—', 'Wallis and Futuna', '3,800', '2004 est.', '/wiki/Wallis_and_Futuna'], ['154', 'Kyrgyzstan', '3,700', '2017 est.', '/wiki/Kyrgyzstan'], ['155', 'Djibouti', '3,600', '2017 est.', '/wiki/Djibouti'], ['156', 'Kenya', '3,500', '2017 est.', '/wiki/Kenya'], ['157', 'Cameroon', '3,400', '2017 est.', '/wiki/Cameroon'], ['158', 'Marshall Islands', '3,400', '2017 est.', '/wiki/Marshall_Islands'], ['160', 'Micronesia', '3,400', '2017 est.', '/wiki/Federated_States_of_Micronesia'], ['161', 'Tanzania', '3,300', '2017 est.', '/wiki/Tanzania'], ['162', 'São Tomé and Príncipe', '3,200', '2017 est.', '/wiki/S%C3%A3o_Tom%C3%A9_and_Pr%C3%ADncipe'], ['163', 'Tajikistan', '3,100', '2017 est.', '/wiki/Tajikistan'], ['164', 'Syria', '2,900', '2015 est.', '/wiki/Syria'], ['165', 'Vanuatu', '2,800', '2017 est.', '/wiki/Vanuatu'], ['166', 'Nepal', '2,700', '2017 est.', '/wiki/Nepal'], ['167', 'Senegal', '2,700', '2017 est.', '/wiki/Senegal'], ['—', 'Western Sahara', '2,500', '2007 est.', '/wiki/Western_Sahara'], ['168', 'Chad', '2,400', '2017 est.', '/wiki/Chad'], ['169', 'Uganda', '2,400', '2017 est.', '/wiki/Uganda'], ['170', 'Zimbabwe', '2,300', '2017 est.', '/wiki/Zimbabwe'], ['171', 'Yemen', '2,300', '2017 est.', '/wiki/Yemen'], ['172', 'Mali', '2,200', '2017 est.', '/wiki/Mali'], ['173', 'Benin', '2,200', '2017 est.', '/wiki/Benin'], ['174', 'Rwanda', '2,100', '2017 est.', '/wiki/Rwanda'], ['175', 'Ethiopia', '2,100', '2017 est.', '/wiki/Ethiopia'], ['176', 'Solomon Islands', '2,100', '2017 est.', '/wiki/Solomon_Islands'], ['177', 'Guinea', '2,000', '2017 est.', '/wiki/Guinea'], ['178', 'Burkina Faso', '1,900', '2017 est.', '/wiki/Burkina_Faso'], ['179', 'Kiribati', '1,900', '2017 est.', '/wiki/Kiribati'], ['180', 'Afghanistan', '1,900', '2017 est.', '/wiki/Afghanistan'], ['181', 'Sierra Leone', '1,800', '2017 est.', '/wiki/Sierra_Leone'], ['182', 'Guinea-Bissau', '1,800', '2017 est.', '/wiki/Guinea-Bissau'], ['183', 'Haiti', '1,800', '2017 est.', '/wiki/Haiti'], ['184', 'North Korea', '1,700', '2015 est.', '/wiki/North_Korea'], ['185', 'The Gambia', '1,700', '2017 est.', '/wiki/The_Gambia'], ['186', 'Togo', '1,600', '2017 est.', '/wiki/Togo'], ['187', 'Madagascar', '1,600', '2017 est.', '/wiki/Madagascar'], ['188', 'Comoros', '1,600', '2017 est.', '/wiki/Comoros'], ['189', 'South Sudan', '1,500', '2017 est.', '/wiki/South_Sudan'], ['190', 'Eritrea', '1,400', '2017 est.', '/wiki/Eritrea'], ['191', 'Mozambique', '1,300', '2017 est.', '/wiki/Mozambique'], ['192', 'Niger', '1,200', '2017 est.', '/wiki/Niger'], ['193', 'Malawi', '1,200', '2017 est.', '/wiki/Malawi'], ['—', 'Tokelau', '1,000', '1993 est.', '/wiki/Tokelau'], ['194', 'Liberia', '900', '2017 est.', '/wiki/Liberia'], ['195', 'Congo, Dem. Rep.', '800', '2017 est.', '/wiki/Democratic_Republic_of_the_Congo'], ['196', 'Burundi', '800', '2017 est.', '/wiki/Burundi'], ['197', 'Central African Republic', '700', '2017 est.', '/wiki/Central_African_Republic'], ['198', 'Somalia', 'N/A', '2017 est.', '/wiki/Somalia']]\n"
     ]
    }
   ],
   "source": [
    "for index, row in enumerate(cia_table_list):\n",
    "    row.append(cia_table_links[index])\n",
    "print(cia_table_list)"
   ]
  },
  {
   "cell_type": "markdown",
   "metadata": {},
   "source": [
    "The next two cells test out the scraping of each country web page:"
   ]
  },
  {
   "cell_type": "code",
   "execution_count": 127,
   "metadata": {},
   "outputs": [],
   "source": [
    "endings = '/wiki/British_Virgin_Islands'\n",
    "beginning = 'https://en.wikipedia.org'\n",
    "response_country = requests.get(beginning + endings)\n",
    "page_country = response_country.text\n",
    "soup_country = BeautifulSoup(page_country, \"lxml\")"
   ]
  },
  {
   "cell_type": "code",
   "execution_count": 142,
   "metadata": {},
   "outputs": [
    {
     "name": "stdout",
     "output_type": "stream",
     "text": [
      "VG\n"
     ]
    }
   ],
   "source": [
    "print(soup_country.find(string='ISO 3166 code').next_element.text.strip())"
   ]
  },
  {
   "cell_type": "code",
   "execution_count": 148,
   "metadata": {},
   "outputs": [],
   "source": [
    "import time\n",
    "def get_country_code(link):\n",
    "    time.sleep(2)\n",
    "    response = requests.get(beginning + link)\n",
    "    page = response.text\n",
    "    soup = BeautifulSoup(page, 'lxml')\n",
    "    find = soup.find(string='ISO 3166 code')\n",
    "    if find:\n",
    "        return find.next_element.text.strip()\n",
    "    else:\n",
    "        return None\n",
    "        print(link)"
   ]
  },
  {
   "cell_type": "code",
   "execution_count": 149,
   "metadata": {},
   "outputs": [
    {
     "data": {
      "text/plain": [
       "['LI',\n",
       " 'QA',\n",
       " 'MC',\n",
       " 'MO',\n",
       " 'LU',\n",
       " 'FK',\n",
       " 'SG',\n",
       " 'BM',\n",
       " 'IM',\n",
       " 'BN',\n",
       " 'IE',\n",
       " 'NO',\n",
       " 'KW',\n",
       " 'AE',\n",
       " 'SX',\n",
       " 'GI',\n",
       " 'CH',\n",
       " 'HK',\n",
       " 'SM',\n",
       " 'US',\n",
       " 'SA',\n",
       " 'NL',\n",
       " 'GG',\n",
       " 'IS',\n",
       " 'BH',\n",
       " 'SE',\n",
       " 'DE',\n",
       " 'AU',\n",
       " 'AD',\n",
       " 'TW',\n",
       " 'DK',\n",
       " 'JE',\n",
       " 'AT',\n",
       " None,\n",
       " 'BE',\n",
       " 'OM',\n",
       " 'FI',\n",
       " 'KY',\n",
       " 'FR',\n",
       " 'GB',\n",
       " 'JP',\n",
       " 'MT',\n",
       " 'VG',\n",
       " 'FO',\n",
       " 'KR',\n",
       " 'NZ',\n",
       " 'ES',\n",
       " 'IT',\n",
       " 'PR',\n",
       " 'GL',\n",
       " 'CY',\n",
       " 'IL',\n",
       " 'VI',\n",
       " 'CZ',\n",
       " 'GQ',\n",
       " 'PM',\n",
       " 'SI',\n",
       " 'SK',\n",
       " 'LT',\n",
       " 'EE',\n",
       " 'TT',\n",
       " 'NC',\n",
       " 'GU',\n",
       " 'PT',\n",
       " 'PL',\n",
       " 'TC',\n",
       " 'SC',\n",
       " 'HU',\n",
       " 'MY',\n",
       " 'RU',\n",
       " 'GR',\n",
       " 'LV',\n",
       " 'KN',\n",
       " 'TR',\n",
       " 'AG',\n",
       " 'KZ',\n",
       " 'AW',\n",
       " 'BS',\n",
       " 'CL',\n",
       " 'PA',\n",
       " 'HR',\n",
       " 'RO',\n",
       " 'UY',\n",
       " 'BG',\n",
       " 'MU',\n",
       " 'AR',\n",
       " 'IR',\n",
       " 'MX',\n",
       " 'LB',\n",
       " 'GA',\n",
       " 'MF',\n",
       " 'MV',\n",
       " 'TM',\n",
       " 'BY',\n",
       " 'BW',\n",
       " 'TH',\n",
       " 'BB',\n",
       " 'AZ',\n",
       " 'ME',\n",
       " 'CR',\n",
       " 'IQ',\n",
       " 'PF',\n",
       " 'DO',\n",
       " 'PW',\n",
       " 'CN',\n",
       " 'BR',\n",
       " 'RS',\n",
       " 'MK',\n",
       " 'DZ',\n",
       " 'CW',\n",
       " 'GD',\n",
       " 'CO',\n",
       " 'SR',\n",
       " 'LC',\n",
       " 'ZA',\n",
       " 'MP',\n",
       " 'PE',\n",
       " 'EG',\n",
       " 'AS',\n",
       " 'LK',\n",
       " 'MN',\n",
       " 'JO',\n",
       " 'AL',\n",
       " 'ID',\n",
       " 'VE',\n",
       " 'CK',\n",
       " 'NR',\n",
       " 'AI',\n",
       " 'DM',\n",
       " 'TN',\n",
       " 'CU',\n",
       " 'VC',\n",
       " 'NA',\n",
       " 'BA',\n",
       " 'EC',\n",
       " 'GE',\n",
       " 'XK',\n",
       " 'FJ',\n",
       " 'SZ',\n",
       " 'PY',\n",
       " 'LY',\n",
       " 'JM',\n",
       " 'AM',\n",
       " 'SV',\n",
       " 'UA',\n",
       " 'BT',\n",
       " 'MA',\n",
       " 'MS',\n",
       " 'GY',\n",
       " 'BZ',\n",
       " 'GT',\n",
       " 'PH',\n",
       " 'SH',\n",
       " 'BO',\n",
       " 'LA',\n",
       " 'IN',\n",
       " 'UZ',\n",
       " 'VN',\n",
       " 'CV',\n",
       " 'AO',\n",
       " 'CG',\n",
       " 'MM',\n",
       " 'NG',\n",
       " 'NI',\n",
       " 'NU',\n",
       " 'MD',\n",
       " 'WS',\n",
       " 'TO',\n",
       " 'HN',\n",
       " 'PK',\n",
       " 'TL',\n",
       " 'GH',\n",
       " 'SD',\n",
       " 'MR',\n",
       " 'PS',\n",
       " 'BD',\n",
       " 'KH',\n",
       " 'ZM',\n",
       " 'LS',\n",
       " 'CI',\n",
       " 'TV',\n",
       " 'PG',\n",
       " 'WF',\n",
       " 'KG',\n",
       " 'DJ',\n",
       " 'KE',\n",
       " 'CM',\n",
       " 'MH',\n",
       " 'FM',\n",
       " 'TZ',\n",
       " 'ST',\n",
       " 'TJ',\n",
       " 'SY',\n",
       " 'VU',\n",
       " 'NP',\n",
       " 'SN',\n",
       " 'EH',\n",
       " 'TD',\n",
       " 'UG',\n",
       " 'ZW',\n",
       " 'YE',\n",
       " 'ML',\n",
       " 'BJ',\n",
       " 'RW',\n",
       " 'ET',\n",
       " 'SB',\n",
       " 'GN',\n",
       " 'BF',\n",
       " 'KI',\n",
       " 'AF',\n",
       " 'SL',\n",
       " None,\n",
       " 'HT',\n",
       " 'KP',\n",
       " 'GM',\n",
       " 'TG',\n",
       " 'MG',\n",
       " 'KM',\n",
       " 'SS',\n",
       " 'ER',\n",
       " 'MZ',\n",
       " 'NE',\n",
       " 'MW',\n",
       " 'TK',\n",
       " 'LR',\n",
       " 'CD',\n",
       " 'BI',\n",
       " 'CF',\n",
       " 'SO']"
      ]
     },
     "execution_count": 149,
     "metadata": {},
     "output_type": "execute_result"
    }
   ],
   "source": [
    "two_letter_country_codes = [get_country_code(link) for link in cia_table_links]\n",
    "two_letter_country_codes"
   ]
  },
  {
   "cell_type": "code",
   "execution_count": 160,
   "metadata": {},
   "outputs": [],
   "source": [
    "for i, code in enumerate(two_letter_country_codes):\n",
    "    if not code:\n",
    "        print(cia_table_links[i])\n",
    "        if \"Canada\" in cia_table_links[i]:\n",
    "            two_letter_country_codes[i] = 'CA'\n",
    "        elif 'Guinea-Bissau' in cia_table_links[i]:\n",
    "            two_letter_country_codes[i] = 'GW'"
   ]
  },
  {
   "cell_type": "code",
   "execution_count": 161,
   "metadata": {},
   "outputs": [
    {
     "data": {
      "text/plain": [
       "False"
      ]
     },
     "execution_count": 161,
     "metadata": {},
     "output_type": "execute_result"
    }
   ],
   "source": [
    "None in two_letter_country_codes"
   ]
  },
  {
   "cell_type": "code",
   "execution_count": 162,
   "metadata": {},
   "outputs": [
    {
     "name": "stdout",
     "output_type": "stream",
     "text": [
      "[['1', 'Liechtenstein', '139,100', '2009 est.', '/wiki/Liechtenstein', 'LI'], ['2', 'Qatar', '124,900', '2017 est.', '/wiki/Qatar', 'QA'], ['3', 'Monaco', '115,700', '2015 est.', '/wiki/Monaco', 'MC'], ['—', 'Macau', '114,400', '2017 est.', '/wiki/Macau', 'MO'], ['4', 'Luxembourg', '109,100', '2017 est.', '/wiki/Luxembourg', 'LU'], ['—', 'Falkland Islands', '96,200', '2012 est.', '/wiki/Falkland_Islands', 'FK'], ['5', 'Singapore', '90,500', '2017 est.', '/wiki/Singapore', 'SG'], ['—', 'Bermuda', '85,700', '2013 est.', '/wiki/Bermuda', 'BM'], ['—', 'Isle of Man', '84,600', '2014 est.', '/wiki/Isle_of_Man', 'IM'], ['6', 'Brunei', '76,700', '2017 est.', '/wiki/Brunei', 'BN'], ['7', 'Ireland', '72,600', '2017 est.', '/wiki/Republic_of_Ireland', 'IE'], ['8', 'Norway', '70,600', '2017 est.', '/wiki/Norway', 'NO'], ['9', 'Kuwait', '69,700', '2017 est.', '/wiki/Kuwait', 'KW'], ['10', 'United Arab Emirates', '68,200', '2017 est.', '/wiki/United_Arab_Emirates', 'AE'], ['—', 'Sint Maarten', '66,800', '2014 est.', '/wiki/Sint_Maarten', 'SX'], ['—', 'Gibraltar', '61,700', '2014 est.', '/wiki/Gibraltar', 'GI'], ['11', 'Switzerland', '61,400', '2017 est.', '/wiki/Switzerland', 'CH'], ['—', 'Hong Kong', '61,000', '2017 est.', '/wiki/Hong_Kong', 'HK'], ['12', 'San Marino', '59,500', '2017 est.', '/wiki/San_Marino', 'SM'], ['13', 'United States', '59,500', '2017 est.', '/wiki/United_States', 'US'], ['14', 'Saudi Arabia', '55,300', '2017 est.', '/wiki/Saudi_Arabia', 'SA'], ['15', 'Netherlands', '53,600', '2017 est.', '/wiki/Netherlands', 'NL'], ['—', 'Guernsey', '52,500', '2014 est.', '/wiki/Guernsey', 'GG'], ['16', 'Iceland', '52,100', '2017 est.', '/wiki/Iceland', 'IS'], ['17', 'Bahrain', '51,800', '2017 est.', '/wiki/Bahrain', 'BH'], ['18', 'Sweden', '51,300', '2017 est.', '/wiki/Sweden', 'SE'], ['19', 'Germany', '50,200', '2017 est.', '/wiki/Germany', 'DE'], ['20', 'Australia', '49,900', '2017 est.', '/wiki/Australia', 'AU'], ['21', 'Andorra', '49,900', '2015 est.', '/wiki/Andorra', 'AD'], ['22', 'Taiwan', '49,800', '2017 est.', '/wiki/Taiwan', 'TW'], ['23', 'Denmark', '49,600', '2017 est.', '/wiki/Denmark', 'DK'], ['—', 'Jersey', '49,500', '2015 est.', '/wiki/Jersey', 'JE'], ['24', 'Austria', '49,200', '2017 est.', '/wiki/Austria', 'AT'], ['25', 'Canada', '48,100', '2017 est.', '/wiki/Canada', 'CA'], ['26', 'Belgium', '46,300', '2017 est.', '/wiki/Belgium', 'BE'], ['27', 'Oman', '45,500', '2017 est.', '/wiki/Oman', 'OM'], ['28', 'Finland', '44,000', '2017 est.', '/wiki/Finland', 'FI'], ['—', 'Cayman Islands', '43,800', '2004 est.', '/wiki/Cayman_Islands', 'KY'], ['29', 'France', '43,600', '2017 est.', '/wiki/France', 'FR'], ['30', 'United Kingdom', '43,600', '2017 est.', '/wiki/United_Kingdom', 'GB'], ['31', 'Japan', '42,700', '2017 est.', '/wiki/Japan', 'JP'], ['32', 'Malta', '42,500', '2017 est.', '/wiki/Malta', 'MT'], ['—', 'British Virgin Islands', '42,300', '2010 est.', '/wiki/British_Virgin_Islands', 'VG'], ['—', 'Faroe Islands', '40,000', '2014 est.', '/wiki/Faroe_Islands', 'FO'], ['33', 'South Korea', '39,400', '2017 est.', '/wiki/South_Korea', 'KR'], ['34', 'New Zealand', '38,500', '2017 est.', '/wiki/New_Zealand', 'NZ'], ['35', 'Spain', '38,200', '2017 est.', '/wiki/Spain', 'ES'], ['36', 'Italy', '38,000', '2017 est.', '/wiki/Italy', 'IT'], ['—', 'Puerto Rico', '37,900', '2017 est.', '/wiki/Puerto_Rico', 'PR'], ['—', 'Greenland', '37,600', '2015 est.', '/wiki/Greenland', 'GL'], ['37', 'Cyprus', '36,600', '2017 est.', '/wiki/Cyprus', 'CY'], ['38', 'Israel', '36,200', '2017 est.', '/wiki/Israel', 'IL'], ['—', 'US Virgin Islands', '36,100', '2013 est.', '/wiki/United_States_Virgin_Islands', 'VI'], ['39', 'Czech Republic', '35,200', '2017 est.', '/wiki/Czech_Republic', 'CZ'], ['40', 'Equatorial Guinea', '34,900', '2017 est.', '/wiki/Equatorial_Guinea', 'GQ'], ['—', 'Saint Pierre and Miquelon', '34,900', '2006 est.', '/wiki/Saint_Pierre_and_Miquelon', 'PM'], ['41', 'Slovenia', '34,100', '2017 est.', '/wiki/Slovenia', 'SI'], ['42', 'Slovakia', '32,900', '2017 est.', '/wiki/Slovakia', 'SK'], ['43', 'Lithuania', '31,900', '2017 est.', '/wiki/Lithuania', 'LT'], ['44', 'Estonia', '31,500', '2017 est.', '/wiki/Estonia', 'EE'], ['45', 'Trinidad and Tobago', '31,200', '2017 est.', '/wiki/Trinidad_and_Tobago', 'TT'], ['—', 'New Caledonia', '31,100', '2015 est.', '/wiki/New_Caledonia', 'NC'], ['—', 'Guam', '30,500', '2013 est.', '/wiki/Guam', 'GU'], ['46', 'Portugal', '30,300', '2017 est.', '/wiki/Portugal', 'PT'], ['47', 'Poland', '29,300', '2017 est.', '/wiki/Poland', 'PL'], ['—', 'Turks and Caicos Islands', '29,100', '2007 est.', '/wiki/Turks_and_Caicos_Islands', 'TC'], ['48', 'Seychelles', '28,900', '2017 est.', '/wiki/Seychelles', 'SC'], ['49', 'Hungary', '28,900', '2017 est.', '/wiki/Hungary', 'HU'], ['50', 'Malaysia', '28,900', '2017 est.', '/wiki/Malaysia', 'MY'], ['51', 'Russia', '27,900', '2017 est.', '/wiki/Russia', 'RU'], ['52', 'Greece', '27,800', '2017 est.', '/wiki/Greece', 'GR'], ['53', 'Latvia', '27,300', '2017 est.', '/wiki/Latvia', 'LV'], ['54', 'Saint Kitts and Nevis', '26,800', '2017 est.', '/wiki/Saint_Kitts_and_Nevis', 'KN'], ['55', 'Turkey', '26,500', '2017 est.', '/wiki/Turkey', 'TR'], ['56', 'Antigua and Barbuda', '26,300', '2017 est.', '/wiki/Antigua_and_Barbuda', 'AG'], ['57', 'Kazakhstan', '26,100', '2017 est.', '/wiki/Kazakhstan', 'KZ'], ['—', 'Aruba', '25,300', '2011 est.', '/wiki/Aruba', 'AW'], ['58', 'The Bahamas', '25,100', '2017 est.', '/wiki/The_Bahamas', 'BS'], ['59', 'Chile', '24,600', '2017 est.', '/wiki/Chile', 'CL'], ['60', 'Panama', '24,300', '2017 est.', '/wiki/Panama', 'PA'], ['61', 'Croatia', '24,100', '2017 est.', '/wiki/Croatia', 'HR'], ['62', 'Romania', '24,000', '2017 est.', '/wiki/Romania', 'RO'], ['63', 'Uruguay', '22,400', '2017 est.', '/wiki/Uruguay', 'UY'], ['64', 'Bulgaria', '21,600', '2017 est.', '/wiki/Bulgaria', 'BG'], ['65', 'Mauritius', '21,600', '2017 est.', '/wiki/Mauritius', 'MU'], ['66', 'Argentina', '20,700', '2017 est.', '/wiki/Argentina', 'AR'], ['67', 'Iran', '20,000', '2017 est.', '/wiki/Iran', 'IR'], ['68', 'Mexico', '19,500', '2017 est.', '/wiki/Mexico', 'MX'], ['69', 'Lebanon', '19,500', '2017 est.', '/wiki/Lebanon', 'LB'], ['70', 'Gabon', '19,300', '2017 est.', '/wiki/Gabon', 'GA'], ['—', 'Saint Martin', '19,300', '2005 est.', '/wiki/Collectivity_of_Saint_Martin', 'MF'], ['71', 'Maldives', '19,200', '2017 est.', '/wiki/Maldives', 'MV'], ['72', 'Turkmenistan', '18,700', '2017 est.', '/wiki/Turkmenistan', 'TM'], ['73', 'Belarus', '18,600', '2017 est.', '/wiki/Belarus', 'BY'], ['74', 'Botswana', '18,100', '2017 est.', '/wiki/Botswana', 'BW'], ['75', 'Thailand', '17,800', '2017 est.', '/wiki/Thailand', 'TH'], ['76', 'Barbados', '17,500', '2017 est.', '/wiki/Barbados', 'BB'], ['77', 'Azerbaijan', '17,400', '2017 est.', '/wiki/Azerbaijan', 'AZ'], ['78', 'Montenegro', '17,400', '2017 est.', '/wiki/Montenegro', 'ME'], ['79', 'Costa Rica', '17,200', '2017 est.', '/wiki/Costa_Rica', 'CR'], ['80', 'Iraq', '17,000', '2017 est.', '/wiki/Iraq', 'IQ'], ['—', 'French Polynesia', '17,000', '2015 est.', '/wiki/French_Polynesia', 'PF'], ['81', 'Dominican Republic', '17,000', '2017 est.', '/wiki/Dominican_Republic', 'DO'], ['82', 'Palau', '16,700', '2017 est.', '/wiki/Palau', 'PW'], ['83', 'China', '16,600', '2017 est.', '/wiki/China', 'CN'], ['84', 'Brazil', '15,500', '2017 est.', '/wiki/Brazil', 'BR'], ['85', 'Serbia', '15,200', '2017 est.', '/wiki/Serbia', 'RS'], ['86', 'Macedonia', '15,200', '2017 est.', '/wiki/Republic_of_Macedonia', 'MK'], ['87', 'Algeria', '15,100', '2017 est.', '/wiki/Algeria', 'DZ'], ['—', 'Curaçao', '15,000', '2004 est.', '/wiki/Cura%C3%A7ao', 'CW'], ['88', 'Grenada', '14,700', '2017 est.', '/wiki/Grenada', 'GD'], ['89', 'Colombia', '14,500', '2017 est.', '/wiki/Colombia', 'CO'], ['90', 'Suriname', '13,900', '2017 est.', '/wiki/Suriname', 'SR'], ['91', 'Saint Lucia', '13,500', '2017 est.', '/wiki/Saint_Lucia', 'LC'], ['92', 'South Africa', '13,400', '2017 est.', '/wiki/South_Africa', 'ZA'], ['—', 'Northern Mariana Islands', '13,300', '2013 est.', '/wiki/Northern_Mariana_Islands', 'MP'], ['93', 'Peru', '13,300', '2017 est.', '/wiki/Peru', 'PE'], ['94', 'Egypt', '13,000', '2017 est.', '/wiki/Egypt', 'EG'], ['—', 'American Samoa', '13,000', '2013 est.', '/wiki/American_Samoa', 'AS'], ['95', 'Sri Lanka', '13,000', '2017 est.', '/wiki/Sri_Lanka', 'LK'], ['96', 'Mongolia', '12,600', '2017 est.', '/wiki/Mongolia', 'MN'], ['97', 'Jordan', '12,500', '2017 est.', '/wiki/Jordan', 'JO'], ['98', 'Albania', '12,500', '2017 est.', '/wiki/Albania', 'AL'], ['99', 'Indonesia', '12,400', '2017 est.', '/wiki/Indonesia', 'ID'], ['100', 'Venezuela', '12,400', '2017 est.', '/wiki/Venezuela', 'VE'], ['101', 'Cook Islands', '12,300', '2010 est.', '/wiki/Cook_Islands', 'CK'], ['102', 'Nauru', '12,200', '2017 est.', '/wiki/Nauru', 'NR'], ['—', 'Anguilla', '12,200', '2008 est.', '/wiki/Anguilla', 'AI'], ['103', 'Dominica', '12,000', '2017 est.', '/wiki/Dominica', 'DM'], ['104', 'Tunisia', '12,000', '2017 est.', '/wiki/Tunisia', 'TN'], ['105', 'Cuba', '11,900', '2016 est.', '/wiki/Cuba', 'CU'], ['106', 'Saint Vincent and the Grenadines', '11,600', '2017 est.', '/wiki/Saint_Vincent_and_the_Grenadines', 'VC'], ['107', 'Namibia', '11,500', '2017 est.', '/wiki/Namibia', 'NA'], ['108', 'Bosnia and Herzegovina', '11,400', '2017 est.', '/wiki/Bosnia_and_Herzegovina', 'BA'], ['109', 'Ecuador', '11,200', '2017 est.', '/wiki/Ecuador', 'EC'], ['110', 'Georgia', '10,600', '2017 est.', '/wiki/Georgia_(country)', 'GE'], ['—', 'Kosovo', '10,400', '2017 est.', '/wiki/Kosovo', 'XK'], ['111', 'Fiji', '9,900', '2017 est.', '/wiki/Fiji', 'FJ'], ['112', 'Swaziland', '9,900', '2017 est.', '/wiki/Swaziland', 'SZ'], ['113', 'Paraguay', '9,800', '2017 est.', '/wiki/Paraguay', 'PY'], ['114', 'Libya', '9,800', '2017 est.', '/wiki/Libya', 'LY'], ['115', 'Jamaica', '9,200', '2017 est.', '/wiki/Jamaica', 'JM'], ['116', 'Armenia', '9,100', '2017 est.', '/wiki/Armenia', 'AM'], ['117', 'El Salvador', '8,900', '2017 est.', '/wiki/El_Salvador', 'SV'], ['118', 'Ukraine', '8,700', '2017 est.', '/wiki/Ukraine', 'UA'], ['119', 'Bhutan', '8,700', '2017 est.', '/wiki/Bhutan', 'BT'], ['120', 'Morocco', '8,600', '2017 est.', '/wiki/Morocco', 'MA'], ['—', 'Montserrat', '8,500', '2006 est.', '/wiki/Montserrat', 'MS'], ['121', 'Guyana', '8,300', '2017 est.', '/wiki/Guyana', 'GY'], ['122', 'Belize', '8,300', '2017 est.', '/wiki/Belize', 'BZ'], ['123', 'Guatemala', '8,200', '2017 est.', '/wiki/Guatemala', 'GT'], ['124', 'Philippines', '8,200', '2017 est.', '/wiki/Philippines', 'PH'], ['—', 'Saint Helena, Ascensionand Tristan da Cunha', '7,800', '2010 est.', '/wiki/Saint_Helena,_Ascension_and_Tristan_da_Cunha', 'SH'], ['125', 'Bolivia', '7,500', '2017 est.', '/wiki/Bolivia', 'BO'], ['126', 'Laos', '7,400', '2017 est.', '/wiki/Laos', 'LA'], ['127', 'India', '7,200', '2017 est.', '/wiki/India', 'IN'], ['128', 'Uzbekistan', '7,000', '2017 est.', '/wiki/Uzbekistan', 'UZ'], ['129', 'Vietnam', '6,900', '2017 est.', '/wiki/Vietnam', 'VN'], ['130', 'Cape Verde', '6,900', '2017 est.', '/wiki/Cape_Verde', 'CV'], ['131', 'Angola', '6,800', '2017 est.', '/wiki/Angola', 'AO'], ['132', 'Congo, Rep.', '6,700', '2017 est.', '/wiki/Republic_of_the_Congo', 'CG'], ['133', 'Myanmar', '6,300', '2017 est.', '/wiki/Myanmar', 'MM'], ['134', 'Nigeria', '5,900', '2017 est.', '/wiki/Nigeria', 'NG'], ['135', 'Nicaragua', '5,800', '2015 est.', '/wiki/Nicaragua', 'NI'], ['136', 'Niue', '5,800', '2003 est.', '/wiki/Niue', 'NU'], ['137', 'Moldova', '5,700', '2017 est.', '/wiki/Moldova', 'MD'], ['138', 'Samoa', '5,700', '2017 est.', '/wiki/Samoa', 'WS'], ['139', 'Tonga', '5,600', '2017 est.', '/wiki/Tonga', 'TO'], ['140', 'Honduras', '5,500', '2017 est.', '/wiki/Honduras', 'HN'], ['141', 'Pakistan', '5,400', '2017 est.', '/wiki/Pakistan', 'PK'], ['142', 'Timor-Leste', '5,000', '2017 est.', '/wiki/East_Timor', 'TL'], ['143', 'Ghana', '4,600', '2017 est.', '/wiki/Ghana', 'GH'], ['144', 'Sudan', '4,600', '2017 est.', '/wiki/Sudan', 'SD'], ['145', 'Mauritania', '4,500', '2017 est.', '/wiki/Mauritania', 'MR'], ['146', 'State of Palestine', '4,300', '2014 est.', '/wiki/State_of_Palestine', 'PS'], ['147', 'Bangladesh', '4,200', '2017 est.', '/wiki/Bangladesh', 'BD'], ['148', 'Cambodia', '4,000', '2017 est.', '/wiki/Cambodia', 'KH'], ['149', 'Zambia', '4,000', '2017 est.', '/wiki/Zambia', 'ZM'], ['150', 'Lesotho', '3,900', '2017 est.', '/wiki/Lesotho', 'LS'], ['151', \"Côte d'Ivoire\", '3,900', '2017 est.', '/wiki/Ivory_Coast', 'CI'], ['152', 'Tuvalu', '3,800', '2017 est.', '/wiki/Tuvalu', 'TV'], ['153', 'Papua New Guinea', '3,800', '2017 est.', '/wiki/Papua_New_Guinea', 'PG'], ['—', 'Wallis and Futuna', '3,800', '2004 est.', '/wiki/Wallis_and_Futuna', 'WF'], ['154', 'Kyrgyzstan', '3,700', '2017 est.', '/wiki/Kyrgyzstan', 'KG'], ['155', 'Djibouti', '3,600', '2017 est.', '/wiki/Djibouti', 'DJ'], ['156', 'Kenya', '3,500', '2017 est.', '/wiki/Kenya', 'KE'], ['157', 'Cameroon', '3,400', '2017 est.', '/wiki/Cameroon', 'CM'], ['158', 'Marshall Islands', '3,400', '2017 est.', '/wiki/Marshall_Islands', 'MH'], ['160', 'Micronesia', '3,400', '2017 est.', '/wiki/Federated_States_of_Micronesia', 'FM'], ['161', 'Tanzania', '3,300', '2017 est.', '/wiki/Tanzania', 'TZ'], ['162', 'São Tomé and Príncipe', '3,200', '2017 est.', '/wiki/S%C3%A3o_Tom%C3%A9_and_Pr%C3%ADncipe', 'ST'], ['163', 'Tajikistan', '3,100', '2017 est.', '/wiki/Tajikistan', 'TJ'], ['164', 'Syria', '2,900', '2015 est.', '/wiki/Syria', 'SY'], ['165', 'Vanuatu', '2,800', '2017 est.', '/wiki/Vanuatu', 'VU'], ['166', 'Nepal', '2,700', '2017 est.', '/wiki/Nepal', 'NP'], ['167', 'Senegal', '2,700', '2017 est.', '/wiki/Senegal', 'SN'], ['—', 'Western Sahara', '2,500', '2007 est.', '/wiki/Western_Sahara', 'EH'], ['168', 'Chad', '2,400', '2017 est.', '/wiki/Chad', 'TD'], ['169', 'Uganda', '2,400', '2017 est.', '/wiki/Uganda', 'UG'], ['170', 'Zimbabwe', '2,300', '2017 est.', '/wiki/Zimbabwe', 'ZW'], ['171', 'Yemen', '2,300', '2017 est.', '/wiki/Yemen', 'YE'], ['172', 'Mali', '2,200', '2017 est.', '/wiki/Mali', 'ML'], ['173', 'Benin', '2,200', '2017 est.', '/wiki/Benin', 'BJ'], ['174', 'Rwanda', '2,100', '2017 est.', '/wiki/Rwanda', 'RW'], ['175', 'Ethiopia', '2,100', '2017 est.', '/wiki/Ethiopia', 'ET'], ['176', 'Solomon Islands', '2,100', '2017 est.', '/wiki/Solomon_Islands', 'SB'], ['177', 'Guinea', '2,000', '2017 est.', '/wiki/Guinea', 'GN'], ['178', 'Burkina Faso', '1,900', '2017 est.', '/wiki/Burkina_Faso', 'BF'], ['179', 'Kiribati', '1,900', '2017 est.', '/wiki/Kiribati', 'KI'], ['180', 'Afghanistan', '1,900', '2017 est.', '/wiki/Afghanistan', 'AF'], ['181', 'Sierra Leone', '1,800', '2017 est.', '/wiki/Sierra_Leone', 'SL'], ['182', 'Guinea-Bissau', '1,800', '2017 est.', '/wiki/Guinea-Bissau', 'GW'], ['183', 'Haiti', '1,800', '2017 est.', '/wiki/Haiti', 'HT'], ['184', 'North Korea', '1,700', '2015 est.', '/wiki/North_Korea', 'KP'], ['185', 'The Gambia', '1,700', '2017 est.', '/wiki/The_Gambia', 'GM'], ['186', 'Togo', '1,600', '2017 est.', '/wiki/Togo', 'TG'], ['187', 'Madagascar', '1,600', '2017 est.', '/wiki/Madagascar', 'MG'], ['188', 'Comoros', '1,600', '2017 est.', '/wiki/Comoros', 'KM'], ['189', 'South Sudan', '1,500', '2017 est.', '/wiki/South_Sudan', 'SS'], ['190', 'Eritrea', '1,400', '2017 est.', '/wiki/Eritrea', 'ER'], ['191', 'Mozambique', '1,300', '2017 est.', '/wiki/Mozambique', 'MZ'], ['192', 'Niger', '1,200', '2017 est.', '/wiki/Niger', 'NE'], ['193', 'Malawi', '1,200', '2017 est.', '/wiki/Malawi', 'MW'], ['—', 'Tokelau', '1,000', '1993 est.', '/wiki/Tokelau', 'TK'], ['194', 'Liberia', '900', '2017 est.', '/wiki/Liberia', 'LR'], ['195', 'Congo, Dem. Rep.', '800', '2017 est.', '/wiki/Democratic_Republic_of_the_Congo', 'CD'], ['196', 'Burundi', '800', '2017 est.', '/wiki/Burundi', 'BI'], ['197', 'Central African Republic', '700', '2017 est.', '/wiki/Central_African_Republic', 'CF'], ['198', 'Somalia', 'N/A', '2017 est.', '/wiki/Somalia', 'SO']]\n"
     ]
    }
   ],
   "source": [
    "for index, row in enumerate(cia_table_list):\n",
    "    row.append(two_letter_country_codes[index])\n",
    "print(cia_table_list)"
   ]
  },
  {
   "cell_type": "code",
   "execution_count": 163,
   "metadata": {},
   "outputs": [],
   "source": [
    "for row in cia_table_list:\n",
    "    if row[2] == 'N/A':\n",
    "        row[2] = 0\n",
    "    else:\n",
    "        row[2] = int(row[2].replace(',', ''))"
   ]
  },
  {
   "cell_type": "code",
   "execution_count": 164,
   "metadata": {},
   "outputs": [
    {
     "data": {
      "text/plain": [
       "['198', 'Somalia', 0, '2017 est.', '/wiki/Somalia', 'SO']"
      ]
     },
     "execution_count": 164,
     "metadata": {},
     "output_type": "execute_result"
    }
   ],
   "source": [
    "cia_table_list[-1]"
   ]
  },
  {
   "cell_type": "code",
   "execution_count": 165,
   "metadata": {},
   "outputs": [],
   "source": [
    "cia_table_df = pd.DataFrame(cia_table_list, columns=['rank', 'country_name', 'gdp_ppp_pc', \n",
    "                                                     'est_date', 'url_link_wiki', 'country_code'])"
   ]
  },
  {
   "cell_type": "code",
   "execution_count": 171,
   "metadata": {},
   "outputs": [
    {
     "data": {
      "text/html": [
       "<div>\n",
       "<style scoped>\n",
       "    .dataframe tbody tr th:only-of-type {\n",
       "        vertical-align: middle;\n",
       "    }\n",
       "\n",
       "    .dataframe tbody tr th {\n",
       "        vertical-align: top;\n",
       "    }\n",
       "\n",
       "    .dataframe thead th {\n",
       "        text-align: right;\n",
       "    }\n",
       "</style>\n",
       "<table border=\"1\" class=\"dataframe\">\n",
       "  <thead>\n",
       "    <tr style=\"text-align: right;\">\n",
       "      <th></th>\n",
       "      <th>rank</th>\n",
       "      <th>country_name</th>\n",
       "      <th>gdp_ppp_pc</th>\n",
       "      <th>est_date</th>\n",
       "      <th>url_link_wiki</th>\n",
       "      <th>country_code</th>\n",
       "    </tr>\n",
       "  </thead>\n",
       "  <tbody>\n",
       "    <tr>\n",
       "      <th>0</th>\n",
       "      <td>1</td>\n",
       "      <td>Liechtenstein</td>\n",
       "      <td>139100</td>\n",
       "      <td>2009 est.</td>\n",
       "      <td>/wiki/Liechtenstein</td>\n",
       "      <td>LI</td>\n",
       "    </tr>\n",
       "    <tr>\n",
       "      <th>1</th>\n",
       "      <td>2</td>\n",
       "      <td>Qatar</td>\n",
       "      <td>124900</td>\n",
       "      <td>2017 est.</td>\n",
       "      <td>/wiki/Qatar</td>\n",
       "      <td>QA</td>\n",
       "    </tr>\n",
       "    <tr>\n",
       "      <th>2</th>\n",
       "      <td>3</td>\n",
       "      <td>Monaco</td>\n",
       "      <td>115700</td>\n",
       "      <td>2015 est.</td>\n",
       "      <td>/wiki/Monaco</td>\n",
       "      <td>MC</td>\n",
       "    </tr>\n",
       "    <tr>\n",
       "      <th>3</th>\n",
       "      <td>—</td>\n",
       "      <td>Macau</td>\n",
       "      <td>114400</td>\n",
       "      <td>2017 est.</td>\n",
       "      <td>/wiki/Macau</td>\n",
       "      <td>MO</td>\n",
       "    </tr>\n",
       "    <tr>\n",
       "      <th>4</th>\n",
       "      <td>4</td>\n",
       "      <td>Luxembourg</td>\n",
       "      <td>109100</td>\n",
       "      <td>2017 est.</td>\n",
       "      <td>/wiki/Luxembourg</td>\n",
       "      <td>LU</td>\n",
       "    </tr>\n",
       "  </tbody>\n",
       "</table>\n",
       "</div>"
      ],
      "text/plain": [
       "  rank   country_name  gdp_ppp_pc   est_date        url_link_wiki country_code\n",
       "0    1  Liechtenstein      139100  2009 est.  /wiki/Liechtenstein           LI\n",
       "1    2          Qatar      124900  2017 est.          /wiki/Qatar           QA\n",
       "2    3         Monaco      115700  2015 est.         /wiki/Monaco           MC\n",
       "3    —          Macau      114400  2017 est.          /wiki/Macau           MO\n",
       "4    4     Luxembourg      109100  2017 est.     /wiki/Luxembourg           LU"
      ]
     },
     "execution_count": 171,
     "metadata": {},
     "output_type": "execute_result"
    }
   ],
   "source": [
    "cia_table_df.head()"
   ]
  },
  {
   "cell_type": "code",
   "execution_count": 174,
   "metadata": {},
   "outputs": [],
   "source": [
    "cia_table_df.to_pickle('cia_table_df.pkl')"
   ]
  },
  {
   "cell_type": "code",
   "execution_count": null,
   "metadata": {},
   "outputs": [],
   "source": []
  }
 ],
 "metadata": {
  "kernelspec": {
   "display_name": "Python 3",
   "language": "python",
   "name": "python3"
  },
  "language_info": {
   "codemirror_mode": {
    "name": "ipython",
    "version": 3
   },
   "file_extension": ".py",
   "mimetype": "text/x-python",
   "name": "python",
   "nbconvert_exporter": "python",
   "pygments_lexer": "ipython3",
   "version": "3.6.5"
  }
 },
 "nbformat": 4,
 "nbformat_minor": 2
}
